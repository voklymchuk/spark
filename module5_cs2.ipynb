{
 "cells": [
  {
   "cell_type": "markdown",
   "metadata": {},
   "source": [
    "# Imports"
   ]
  },
  {
   "cell_type": "code",
   "execution_count": 1,
   "metadata": {},
   "outputs": [],
   "source": [
    "import progressbar"
   ]
  },
  {
   "cell_type": "code",
   "execution_count": 2,
   "metadata": {},
   "outputs": [],
   "source": [
    "import sys\n",
    "import os\n",
    "import requests\n",
    "import pandas as pd\n",
    "\n",
    "from pyspark import SparkContext, SparkConf\n",
    "from pyspark.sql.session import SparkSession"
   ]
  },
  {
   "cell_type": "code",
   "execution_count": 3,
   "metadata": {},
   "outputs": [],
   "source": [
    "app_name=\"Case Study 2\"\n",
    "\n",
    "conf = SparkConf().setAppName(app_name)\n",
    "sc = SparkContext(conf = conf)\n",
    "spark = SparkSession(sc)"
   ]
  },
  {
   "cell_type": "code",
   "execution_count": 4,
   "metadata": {},
   "outputs": [
    {
     "data": {
      "text/plain": [
       "'local-1572132331912'"
      ]
     },
     "execution_count": 4,
     "metadata": {},
     "output_type": "execute_result"
    }
   ],
   "source": [
    "sc.applicationId"
   ]
  },
  {
   "cell_type": "code",
   "execution_count": 5,
   "metadata": {},
   "outputs": [],
   "source": [
    "log4jLogger = sc._jvm.org.apache.log4j\n",
    "LOGGER = log4jLogger.LogManager.getLogger(__name__)\n",
    "LOGGER.info(\"pyspark script logger initialized\")"
   ]
  },
  {
   "cell_type": "markdown",
   "metadata": {},
   "source": [
    "# Load file as a text file in spark"
   ]
  },
  {
   "cell_type": "code",
   "execution_count": 6,
   "metadata": {},
   "outputs": [],
   "source": [
    "def get_hdfs_filepath(file_name, on_cloud=True):\n",
    "    # path to folder containing this code\n",
    "    prefix = '/data/spark/5_cs2_dataset/'\n",
    "    if on_cloud:\n",
    "        bucket  = os.environ['BUCKET']\n",
    "        file_path = bucket + prefix + file_name\n",
    "    else:\n",
    "        file_path = '/Users/val' + prefix + file_name\n",
    "\n",
    "    return file_path"
   ]
  },
  {
   "cell_type": "code",
   "execution_count": 7,
   "metadata": {},
   "outputs": [],
   "source": [
    "LOG = get_hdfs_filepath('access.log')\n",
    "CLEAN_LOG = get_hdfs_filepath('access.clean.log')"
   ]
  },
  {
   "cell_type": "code",
   "execution_count": 8,
   "metadata": {},
   "outputs": [
    {
     "name": "stdout",
     "output_type": "stream",
     "text": [
      "gs://drive3/data/spark/5_cs2_dataset/access.log\n"
     ]
    }
   ],
   "source": [
    "print(LOG)"
   ]
  },
  {
   "cell_type": "code",
   "execution_count": 9,
   "metadata": {
    "scrolled": true
   },
   "outputs": [
    {
     "data": {
      "text/plain": [
       "['109.169.248.247 - - [12/Dec/2015:18:25:11 +0100] GET /administrator/ HTTP/1.1 200 4263 - Mozilla/5.0 (Windows NT 6.0; rv:34.0) Gecko/20100101 Firefox/34.0 -',\n",
       " '109.169.248.247 - - [12/Dec/2015:18:25:11 +0100] POST /administrator/index.php HTTP/1.1 200 4494 http://almhuette-raith.at/administrator/ Mozilla/5.0 (Windows NT 6.0; rv:34.0) Gecko/20100101 Firefox/34.0 -',\n",
       " '46.72.177.4 - - [12/Dec/2015:18:31:08 +0100] GET /administrator/ HTTP/1.1 200 4263 - Mozilla/5.0 (Windows NT 6.0; rv:34.0) Gecko/20100101 Firefox/34.0 -',\n",
       " '46.72.177.4 - - [12/Dec/2015:18:31:08 +0100] POST /administrator/index.php HTTP/1.1 200 4494 http://almhuette-raith.at/administrator/ Mozilla/5.0 (Windows NT 6.0; rv:34.0) Gecko/20100101 Firefox/34.0 -',\n",
       " '83.167.113.100 - - [12/Dec/2015:18:31:25 +0100] GET /administrator/ HTTP/1.1 200 4263 - Mozilla/5.0 (Windows NT 6.0; rv:34.0) Gecko/20100101 Firefox/34.0 -',\n",
       " '83.167.113.100 - - [12/Dec/2015:18:31:25 +0100] POST /administrator/index.php HTTP/1.1 200 4494 http://almhuette-raith.at/administrator/ Mozilla/5.0 (Windows NT 6.0; rv:34.0) Gecko/20100101 Firefox/34.0 -',\n",
       " '95.29.198.15 - - [12/Dec/2015:18:32:10 +0100] GET /administrator/ HTTP/1.1 200 4263 - Mozilla/5.0 (Windows NT 6.0; rv:34.0) Gecko/20100101 Firefox/34.0 -',\n",
       " '95.29.198.15 - - [12/Dec/2015:18:32:11 +0100] POST /administrator/index.php HTTP/1.1 200 4494 http://almhuette-raith.at/administrator/ Mozilla/5.0 (Windows NT 6.0; rv:34.0) Gecko/20100101 Firefox/34.0 -',\n",
       " '109.184.11.34 - - [12/Dec/2015:18:32:56 +0100] GET /administrator/ HTTP/1.1 200 4263 - Mozilla/5.0 (Windows NT 6.0; rv:34.0) Gecko/20100101 Firefox/34.0 -',\n",
       " '109.184.11.34 - - [12/Dec/2015:18:32:56 +0100] POST /administrator/index.php HTTP/1.1 200 4494 http://almhuette-raith.at/administrator/ Mozilla/5.0 (Windows NT 6.0; rv:34.0) Gecko/20100101 Firefox/34.0 -',\n",
       " '91.227.29.79 - - [12/Dec/2015:18:33:51 +0100] GET /administrator/ HTTP/1.1 200 4263 - Mozilla/5.0 (Windows NT 6.0; rv:34.0) Gecko/20100101 Firefox/34.0 -',\n",
       " '91.227.29.79 - - [12/Dec/2015:18:33:52 +0100] POST /administrator/index.php HTTP/1.1 200 4494 http://almhuette-raith.at/administrator/ Mozilla/5.0 (Windows NT 6.0; rv:34.0) Gecko/20100101 Firefox/34.0 -',\n",
       " '90.154.66.233 - - [12/Dec/2015:18:36:16 +0100] GET /administrator/ HTTP/1.1 200 4263 - Mozilla/5.0 (Windows NT 6.0; rv:34.0) Gecko/20100101 Firefox/34.0 -',\n",
       " '90.154.66.233 - - [12/Dec/2015:18:36:16 +0100] POST /administrator/index.php HTTP/1.1 200 4494 http://almhuette-raith.at/administrator/ Mozilla/5.0 (Windows NT 6.0; rv:34.0) Gecko/20100101 Firefox/34.0 -',\n",
       " '95.140.24.131 - - [12/Dec/2015:18:38:42 +0100] GET /administrator/ HTTP/1.1 200 4263 - Mozilla/5.0 (Windows NT 6.0; rv:34.0) Gecko/20100101 Firefox/34.0 -',\n",
       " '95.140.24.131 - - [12/Dec/2015:18:38:42 +0100] POST /administrator/index.php HTTP/1.1 200 4494 http://almhuette-raith.at/administrator/ Mozilla/5.0 (Windows NT 6.0; rv:34.0) Gecko/20100101 Firefox/34.0 -',\n",
       " '95.188.245.16 - - [12/Dec/2015:18:38:55 +0100] GET /administrator/ HTTP/1.1 200 4263 - Mozilla/5.0 (Windows NT 6.0; rv:34.0) Gecko/20100101 Firefox/34.0 -',\n",
       " '95.188.245.16 - - [12/Dec/2015:18:38:56 +0100] POST /administrator/index.php HTTP/1.1 200 4494 http://almhuette-raith.at/administrator/ Mozilla/5.0 (Windows NT 6.0; rv:34.0) Gecko/20100101 Firefox/34.0 -',\n",
       " '46.72.213.133 - - [12/Dec/2015:18:39:27 +0100] GET /administrator/ HTTP/1.1 200 4263 - Mozilla/5.0 (Windows NT 6.0; rv:34.0) Gecko/20100101 Firefox/34.0 -',\n",
       " '46.72.213.133 - - [12/Dec/2015:18:39:27 +0100] POST /administrator/index.php HTTP/1.1 200 4494 http://almhuette-raith.at/administrator/ Mozilla/5.0 (Windows NT 6.0; rv:34.0) Gecko/20100101 Firefox/34.0 -',\n",
       " '178.204.119.130 - - [12/Dec/2015:18:40:58 +0100] GET /administrator/ HTTP/1.1 200 4263 - Mozilla/5.0 (Windows NT 6.0; rv:34.0) Gecko/20100101 Firefox/34.0 -',\n",
       " '178.204.119.130 - - [12/Dec/2015:18:40:58 +0100] POST /administrator/index.php HTTP/1.1 200 4494 http://almhuette-raith.at/administrator/ Mozilla/5.0 (Windows NT 6.0; rv:34.0) Gecko/20100101 Firefox/34.0 -',\n",
       " '178.35.0.41 - - [12/Dec/2015:18:44:48 +0100] GET /administrator/ HTTP/1.1 200 4263 - Mozilla/5.0 (Windows NT 6.0; rv:34.0) Gecko/20100101 Firefox/34.0 -',\n",
       " '178.35.0.41 - - [12/Dec/2015:18:44:48 +0100] POST /administrator/index.php HTTP/1.1 200 4494 http://almhuette-raith.at/administrator/ Mozilla/5.0 (Windows NT 6.0; rv:34.0) Gecko/20100101 Firefox/34.0 -',\n",
       " '92.252.165.97 - - [12/Dec/2015:18:44:53 +0100] GET /administrator/ HTTP/1.1 200 4263 - Mozilla/5.0 (Windows NT 6.0; rv:34.0) Gecko/20100101 Firefox/34.0 -',\n",
       " '92.252.165.97 - - [12/Dec/2015:18:44:53 +0100] POST /administrator/index.php HTTP/1.1 200 4494 http://almhuette-raith.at/administrator/ Mozilla/5.0 (Windows NT 6.0; rv:34.0) Gecko/20100101 Firefox/34.0 -',\n",
       " '31.202.233.212 - - [12/Dec/2015:18:46:21 +0100] GET /administrator/ HTTP/1.1 200 4263 - Mozilla/5.0 (Windows NT 6.0; rv:34.0) Gecko/20100101 Firefox/34.0 -',\n",
       " '31.202.233.212 - - [12/Dec/2015:18:46:21 +0100] POST /administrator/index.php HTTP/1.1 200 4494 http://almhuette-raith.at/administrator/ Mozilla/5.0 (Windows NT 6.0; rv:34.0) Gecko/20100101 Firefox/34.0 -',\n",
       " '83.219.151.232 - - [12/Dec/2015:18:46:25 +0100] GET /administrator/ HTTP/1.1 200 4263 - Mozilla/5.0 (Windows NT 6.0; rv:34.0) Gecko/20100101 Firefox/34.0 -',\n",
       " '83.219.151.232 - - [12/Dec/2015:18:46:25 +0100] POST /administrator/index.php HTTP/1.1 200 4494 http://almhuette-raith.at/administrator/ Mozilla/5.0 (Windows NT 6.0; rv:34.0) Gecko/20100101 Firefox/34.0 -',\n",
       " '46.72.184.174 - - [12/Dec/2015:18:51:08 +0100] GET /administrator/ HTTP/1.1 200 4263 - Mozilla/5.0 (Windows NT 6.0; rv:34.0) Gecko/20100101 Firefox/34.0 -',\n",
       " '46.72.184.174 - - [12/Dec/2015:18:51:08 +0100] POST /administrator/index.php HTTP/1.1 200 4494 http://almhuette-raith.at/administrator/ Mozilla/5.0 (Windows NT 6.0; rv:34.0) Gecko/20100101 Firefox/34.0 -',\n",
       " '176.116.138.82 - - [12/Dec/2015:18:51:25 +0100] GET /administrator/ HTTP/1.1 200 4263 - Mozilla/5.0 (Windows NT 6.0; rv:34.0) Gecko/20100101 Firefox/34.0 -',\n",
       " '176.116.138.82 - - [12/Dec/2015:18:51:25 +0100] POST /administrator/index.php HTTP/1.1 200 4494 http://almhuette-raith.at/administrator/ Mozilla/5.0 (Windows NT 6.0; rv:34.0) Gecko/20100101 Firefox/34.0 -',\n",
       " '178.47.189.163 - - [12/Dec/2015:18:53:10 +0100] GET /administrator/ HTTP/1.1 200 4263 - Mozilla/5.0 (Windows NT 6.0; rv:34.0) Gecko/20100101 Firefox/34.0 -',\n",
       " '178.47.189.163 - - [12/Dec/2015:18:53:11 +0100] POST /administrator/index.php HTTP/1.1 200 4494 http://almhuette-raith.at/administrator/ Mozilla/5.0 (Windows NT 6.0; rv:34.0) Gecko/20100101 Firefox/34.0 -',\n",
       " '178.44.144.231 - - [12/Dec/2015:18:57:24 +0100] GET /administrator/ HTTP/1.1 200 4263 - Mozilla/5.0 (Windows NT 6.0; rv:34.0) Gecko/20100101 Firefox/34.0 -',\n",
       " '178.44.144.231 - - [12/Dec/2015:18:57:24 +0100] POST /administrator/index.php HTTP/1.1 200 4494 http://almhuette-raith.at/administrator/ Mozilla/5.0 (Windows NT 6.0; rv:34.0) Gecko/20100101 Firefox/34.0 -',\n",
       " '213.24.134.32 - - [12/Dec/2015:18:58:50 +0100] GET /administrator/ HTTP/1.1 200 4263 - Mozilla/5.0 (Windows NT 6.0; rv:34.0) Gecko/20100101 Firefox/34.0 -',\n",
       " '213.24.134.32 - - [12/Dec/2015:18:58:51 +0100] POST /administrator/index.php HTTP/1.1 200 4494 http://almhuette-raith.at/administrator/ Mozilla/5.0 (Windows NT 6.0; rv:34.0) Gecko/20100101 Firefox/34.0 -',\n",
       " '191.182.199.16 - - [12/Dec/2015:19:02:35 +0100] GET / HTTP/1.1 200 10439 http://top1-seo-service.com/try.php?u=http://almhuette-raith.at Mozilla/5.0 (Windows NT 6.1; WOW64) AppleWebKit/537.36 (KHTML, like Gecko) Chrome/36.0.1985.143 Safari/537.36 -',\n",
       " '191.182.199.16 - - [12/Dec/2015:19:02:35 +0100] GET /modules/mod_bowslideshow/tmpl/css/bowslideshow.css HTTP/1.1 200 1725 http://almhuette-raith.at/ Mozilla/5.0 (Windows NT 6.1; WOW64) AppleWebKit/537.36 (KHTML, like Gecko) Chrome/36.0.1985.143 Safari/537.36 -',\n",
       " '191.182.199.16 - - [12/Dec/2015:19:02:36 +0100] GET /templates/_system/css/general.css HTTP/1.1 404 239 http://almhuette-raith.at/ Mozilla/5.0 (Windows NT 6.1; WOW64) AppleWebKit/537.36 (KHTML, like Gecko) Chrome/36.0.1985.143 Safari/537.36 -',\n",
       " '191.182.199.16 - - [12/Dec/2015:19:02:36 +0100] GET /media/system/js/caption.js HTTP/1.1 200 1963 http://almhuette-raith.at/ Mozilla/5.0 (Windows NT 6.1; WOW64) AppleWebKit/537.36 (KHTML, like Gecko) Chrome/36.0.1985.143 Safari/537.36 -',\n",
       " '191.182.199.16 - - [12/Dec/2015:19:02:36 +0100] GET /templates/jp_hotel/css/template.css HTTP/1.1 200 10004 http://almhuette-raith.at/ Mozilla/5.0 (Windows NT 6.1; WOW64) AppleWebKit/537.36 (KHTML, like Gecko) Chrome/36.0.1985.143 Safari/537.36 -',\n",
       " '191.182.199.16 - - [12/Dec/2015:19:02:36 +0100] GET /templates/jp_hotel/css/layout.css HTTP/1.1 200 1801 http://almhuette-raith.at/ Mozilla/5.0 (Windows NT 6.1; WOW64) AppleWebKit/537.36 (KHTML, like Gecko) Chrome/36.0.1985.143 Safari/537.36 -',\n",
       " '191.182.199.16 - - [12/Dec/2015:19:02:36 +0100] GET /templates/jp_hotel/css/menu.css HTTP/1.1 200 1457 http://almhuette-raith.at/ Mozilla/5.0 (Windows NT 6.1; WOW64) AppleWebKit/537.36 (KHTML, like Gecko) Chrome/36.0.1985.143 Safari/537.36 -',\n",
       " '191.182.199.16 - - [12/Dec/2015:19:02:36 +0100] GET /templates/jp_hotel/css/suckerfish.css HTTP/1.1 200 3465 http://almhuette-raith.at/ Mozilla/5.0 (Windows NT 6.1; WOW64) AppleWebKit/537.36 (KHTML, like Gecko) Chrome/36.0.1985.143 Safari/537.36 -',\n",
       " '191.182.199.16 - - [12/Dec/2015:19:02:36 +0100] GET /templates/jp_hotel/js/moomenu.js HTTP/1.1 200 4890 http://almhuette-raith.at/ Mozilla/5.0 (Windows NT 6.1; WOW64) AppleWebKit/537.36 (KHTML, like Gecko) Chrome/36.0.1985.143 Safari/537.36 -',\n",
       " '191.182.199.16 - - [12/Dec/2015:19:02:36 +0100] GET /modules/mod_bowslideshow/tmpl/js/sliderman.1.3.0.js HTTP/1.1 200 33472 http://almhuette-raith.at/ Mozilla/5.0 (Windows NT 6.1; WOW64) AppleWebKit/537.36 (KHTML, like Gecko) Chrome/36.0.1985.143 Safari/537.36 -',\n",
       " '191.182.199.16 - - [12/Dec/2015:19:02:36 +0100] GET /media/system/js/mootools.js HTTP/1.1 200 74434 http://almhuette-raith.at/ Mozilla/5.0 (Windows NT 6.1; WOW64) AppleWebKit/537.36 (KHTML, like Gecko) Chrome/36.0.1985.143 Safari/537.36 -',\n",
       " '191.182.199.16 - - [12/Dec/2015:19:02:38 +0100] GET /images/stories/slideshow/almhuette_raith_01.jpg HTTP/1.1 200 88161 http://almhuette-raith.at/ Mozilla/5.0 (Windows NT 6.1; WOW64) AppleWebKit/537.36 (KHTML, like Gecko) Chrome/36.0.1985.143 Safari/537.36 -',\n",
       " '191.182.199.16 - - [12/Dec/2015:19:02:38 +0100] GET /images/stories/slideshow/almhuette_raith_02.jpg HTTP/1.1 200 62918 http://almhuette-raith.at/ Mozilla/5.0 (Windows NT 6.1; WOW64) AppleWebKit/537.36 (KHTML, like Gecko) Chrome/36.0.1985.143 Safari/537.36 -',\n",
       " '191.182.199.16 - - [12/Dec/2015:19:02:38 +0100] GET /images/stories/slideshow/almhuette_raith_03.jpg HTTP/1.1 200 87782 http://almhuette-raith.at/ Mozilla/5.0 (Windows NT 6.1; WOW64) AppleWebKit/537.36 (KHTML, like Gecko) Chrome/36.0.1985.143 Safari/537.36 -',\n",
       " '191.182.199.16 - - [12/Dec/2015:19:02:38 +0100] GET /images/stories/slideshow/almhuette_raith_06.jpg HTTP/1.1 200 68977 http://almhuette-raith.at/ Mozilla/5.0 (Windows NT 6.1; WOW64) AppleWebKit/537.36 (KHTML, like Gecko) Chrome/36.0.1985.143 Safari/537.36 -',\n",
       " '191.182.199.16 - - [12/Dec/2015:19:02:39 +0100] GET /images/stories/slideshow/almhuette_raith_04.jpg HTTP/1.1 200 80637 http://almhuette-raith.at/ Mozilla/5.0 (Windows NT 6.1; WOW64) AppleWebKit/537.36 (KHTML, like Gecko) Chrome/36.0.1985.143 Safari/537.36 -',\n",
       " '191.182.199.16 - - [12/Dec/2015:19:02:39 +0100] GET /images/stories/slideshow/almhuette_raith_05.jpg HTTP/1.1 200 77796 http://almhuette-raith.at/ Mozilla/5.0 (Windows NT 6.1; WOW64) AppleWebKit/537.36 (KHTML, like Gecko) Chrome/36.0.1985.143 Safari/537.36 -',\n",
       " '191.182.199.16 - - [12/Dec/2015:19:02:39 +0100] GET /templates/jp_hotel/images/logo.jpg HTTP/1.1 200 369 http://almhuette-raith.at/ Mozilla/5.0 (Windows NT 6.1; WOW64) AppleWebKit/537.36 (KHTML, like Gecko) Chrome/36.0.1985.143 Safari/537.36 -',\n",
       " '191.182.199.16 - - [12/Dec/2015:19:02:39 +0100] GET /images/stories/slideshow/almhuette_raith_07.jpg HTTP/1.1 200 94861 http://almhuette-raith.at/ Mozilla/5.0 (Windows NT 6.1; WOW64) AppleWebKit/537.36 (KHTML, like Gecko) Chrome/36.0.1985.143 Safari/537.36 -',\n",
       " '191.182.199.16 - - [12/Dec/2015:19:02:39 +0100] GET /images/stories/raith/almhuette_raith.jpg HTTP/1.1 200 43300 http://almhuette-raith.at/ Mozilla/5.0 (Windows NT 6.1; WOW64) AppleWebKit/537.36 (KHTML, like Gecko) Chrome/36.0.1985.143 Safari/537.36 -',\n",
       " '191.182.199.16 - - [12/Dec/2015:19:02:39 +0100] GET /images/stories/raith/wohnraum.jpg HTTP/1.1 200 43586 http://almhuette-raith.at/ Mozilla/5.0 (Windows NT 6.1; WOW64) AppleWebKit/537.36 (KHTML, like Gecko) Chrome/36.0.1985.143 Safari/537.36 -',\n",
       " '191.182.199.16 - - [12/Dec/2015:19:02:39 +0100] GET /images/stories/raith/grillplatz.jpg HTTP/1.1 200 55303 http://almhuette-raith.at/ Mozilla/5.0 (Windows NT 6.1; WOW64) AppleWebKit/537.36 (KHTML, like Gecko) Chrome/36.0.1985.143 Safari/537.36 -',\n",
       " '191.182.199.16 - - [12/Dec/2015:19:02:39 +0100] GET /images/stories/raith/almenland_logo.jpg HTTP/1.1 200 21490 http://almhuette-raith.at/ Mozilla/5.0 (Windows NT 6.1; WOW64) AppleWebKit/537.36 (KHTML, like Gecko) Chrome/36.0.1985.143 Safari/537.36 -',\n",
       " '191.182.199.16 - - [12/Dec/2015:19:02:40 +0100] GET /images/stories/raith/oststeiermark.png HTTP/1.1 200 65225 http://almhuette-raith.at/ Mozilla/5.0 (Windows NT 6.1; WOW64) AppleWebKit/537.36 (KHTML, like Gecko) Chrome/36.0.1985.143 Safari/537.36 -',\n",
       " '191.182.199.16 - - [12/Dec/2015:19:02:40 +0100] GET /images/stories/raith/garage.jpg HTTP/1.1 200 57339 http://almhuette-raith.at/ Mozilla/5.0 (Windows NT 6.1; WOW64) AppleWebKit/537.36 (KHTML, like Gecko) Chrome/36.0.1985.143 Safari/537.36 -',\n",
       " '191.182.199.16 - - [12/Dec/2015:19:02:40 +0100] GET /images/stories/raith/steiermark_herz.png HTTP/1.1 200 39683 http://almhuette-raith.at/ Mozilla/5.0 (Windows NT 6.1; WOW64) AppleWebKit/537.36 (KHTML, like Gecko) Chrome/36.0.1985.143 Safari/537.36 -',\n",
       " '191.182.199.16 - - [12/Dec/2015:19:02:40 +0100] GET /modules/mod_bowslideshow/tmpl/images/image_shadow.png HTTP/1.1 200 5017 http://almhuette-raith.at/ Mozilla/5.0 (Windows NT 6.1; WOW64) AppleWebKit/537.36 (KHTML, like Gecko) Chrome/36.0.1985.143 Safari/537.36 -',\n",
       " '191.182.199.16 - - [12/Dec/2015:19:02:40 +0100] GET /templates/jp_hotel/images/content_heading.gif HTTP/1.1 200 69 http://almhuette-raith.at/ Mozilla/5.0 (Windows NT 6.1; WOW64) AppleWebKit/537.36 (KHTML, like Gecko) Chrome/36.0.1985.143 Safari/537.36 -',\n",
       " '191.182.199.16 - - [12/Dec/2015:19:02:40 +0100] GET /images/bg_raith.jpg HTTP/1.1 200 329961 http://almhuette-raith.at/ Mozilla/5.0 (Windows NT 6.1; WOW64) AppleWebKit/537.36 (KHTML, like Gecko) Chrome/36.0.1985.143 Safari/537.36 -',\n",
       " '191.182.199.16 - - [12/Dec/2015:19:02:40 +0100] GET /templates/jp_hotel/images/module_heading.gif HTTP/1.1 200 83 http://almhuette-raith.at/ Mozilla/5.0 (Windows NT 6.1; WOW64) AppleWebKit/537.36 (KHTML, like Gecko) Chrome/36.0.1985.143 Safari/537.36 -',\n",
       " '191.182.199.16 - - [12/Dec/2015:19:02:48 +0100] GET /images/stories/slideshow/almhuette_raith_02.jpg HTTP/1.1 200 62918 http://almhuette-raith.at/ Mozilla/5.0 (Windows NT 6.1; WOW64) AppleWebKit/537.36 (KHTML, like Gecko) Chrome/36.0.1985.143 Safari/537.36 -',\n",
       " '191.182.199.16 - - [12/Dec/2015:19:02:48 +0100] GET /images/stories/slideshow/almhuette_raith_04.jpg HTTP/1.1 200 80637 http://almhuette-raith.at/ Mozilla/5.0 (Windows NT 6.1; WOW64) AppleWebKit/537.36 (KHTML, like Gecko) Chrome/36.0.1985.143 Safari/537.36 -',\n",
       " '191.182.199.16 - - [12/Dec/2015:19:02:48 +0100] GET /images/stories/slideshow/almhuette_raith_05.jpg HTTP/1.1 200 77796 http://almhuette-raith.at/ Mozilla/5.0 (Windows NT 6.1; WOW64) AppleWebKit/537.36 (KHTML, like Gecko) Chrome/36.0.1985.143 Safari/537.36 -',\n",
       " '191.182.199.16 - - [12/Dec/2015:19:02:48 +0100] GET /images/stories/slideshow/almhuette_raith_06.jpg HTTP/1.1 200 68977 http://almhuette-raith.at/ Mozilla/5.0 (Windows NT 6.1; WOW64) AppleWebKit/537.36 (KHTML, like Gecko) Chrome/36.0.1985.143 Safari/537.36 -',\n",
       " '191.182.199.16 - - [12/Dec/2015:19:02:48 +0100] GET /images/stories/slideshow/almhuette_raith_03.jpg HTTP/1.1 200 87782 http://almhuette-raith.at/ Mozilla/5.0 (Windows NT 6.1; WOW64) AppleWebKit/537.36 (KHTML, like Gecko) Chrome/36.0.1985.143 Safari/537.36 -',\n",
       " '191.182.199.16 - - [12/Dec/2015:19:02:48 +0100] GET /images/stories/slideshow/almhuette_raith_01.jpg HTTP/1.1 200 88161 http://almhuette-raith.at/ Mozilla/5.0 (Windows NT 6.1; WOW64) AppleWebKit/537.36 (KHTML, like Gecko) Chrome/36.0.1985.143 Safari/537.36 -',\n",
       " '191.182.199.16 - - [12/Dec/2015:19:02:49 +0100] GET /images/stories/slideshow/almhuette_raith_07.jpg HTTP/1.1 200 43495 http://almhuette-raith.at/ Mozilla/5.0 (Windows NT 6.1; WOW64) AppleWebKit/537.36 (KHTML, like Gecko) Chrome/36.0.1985.143 Safari/537.36 -',\n",
       " '176.212.187.84 - - [12/Dec/2015:19:03:02 +0100] GET /administrator/ HTTP/1.1 200 4263 - Mozilla/5.0 (Windows NT 6.0; rv:34.0) Gecko/20100101 Firefox/34.0 -',\n",
       " '176.212.187.84 - - [12/Dec/2015:19:03:02 +0100] POST /administrator/index.php HTTP/1.1 200 4494 http://almhuette-raith.at/administrator/ Mozilla/5.0 (Windows NT 6.0; rv:34.0) Gecko/20100101 Firefox/34.0 -',\n",
       " '180.180.104.183 - - [12/Dec/2015:19:04:13 +0100] GET /apache-log/access.log HTTP/1.1 200 17511 http://www.almhuette-raith.at/ Mozilla/5.0 (Windows NT 6.1; WOW64) AppleWebKit/537.36 (KHTML, like Gecko) Maxthon/4.4.3.4000 Chrome/30.0.1599.101 Safari/537.36 -',\n",
       " '176.194.214.104 - - [12/Dec/2015:19:09:36 +0100] GET /administrator/ HTTP/1.1 200 4263 - Mozilla/5.0 (Windows NT 6.0; rv:34.0) Gecko/20100101 Firefox/34.0 -',\n",
       " '176.194.214.104 - - [12/Dec/2015:19:09:36 +0100] POST /administrator/index.php HTTP/1.1 200 4494 http://almhuette-raith.at/administrator/ Mozilla/5.0 (Windows NT 6.0; rv:34.0) Gecko/20100101 Firefox/34.0 -',\n",
       " '189.16.1.18 - - [12/Dec/2015:19:12:25 +0100] GET /administrator/ HTTP/1.1 200 4263 - Mozilla/5.0 (Windows NT 6.0; rv:34.0) Gecko/20100101 Firefox/34.0 -',\n",
       " '189.16.1.18 - - [12/Dec/2015:19:12:26 +0100] POST /administrator/index.php HTTP/1.1 200 4494 http://almhuette-raith.at/administrator/ Mozilla/5.0 (Windows NT 6.0; rv:34.0) Gecko/20100101 Firefox/34.0 -',\n",
       " '177.6.184.110 - - [12/Dec/2015:19:17:18 +0100] GET /administrator/ HTTP/1.1 200 4263 - Mozilla/5.0 (Windows NT 6.0; rv:34.0) Gecko/20100101 Firefox/34.0 -',\n",
       " '177.6.184.110 - - [12/Dec/2015:19:17:18 +0100] POST /administrator/index.php HTTP/1.1 200 4494 http://almhuette-raith.at/administrator/ Mozilla/5.0 (Windows NT 6.0; rv:34.0) Gecko/20100101 Firefox/34.0 -',\n",
       " '81.88.222.215 - - [12/Dec/2015:19:20:57 +0100] GET /administrator/ HTTP/1.1 200 4263 - Mozilla/5.0 (Windows NT 6.0; rv:34.0) Gecko/20100101 Firefox/34.0 -',\n",
       " '81.88.222.215 - - [12/Dec/2015:19:20:57 +0100] POST /administrator/index.php HTTP/1.1 200 4494 http://almhuette-raith.at/administrator/ Mozilla/5.0 (Windows NT 6.0; rv:34.0) Gecko/20100101 Firefox/34.0 -',\n",
       " '66.249.66.19 - - [12/Dec/2015:19:23:59 +0100] GET /index.php?option=com_content&view=article&id=46&Itemid=54 HTTP/1.1 200 8932 - Mozilla/5.0 (compatible; Googlebot/2.1; +http://www.google.com/bot.html) -',\n",
       " '87.255.246.50 - - [12/Dec/2015:19:24:25 +0100] GET /administrator/ HTTP/1.1 200 4263 - Mozilla/5.0 (Windows NT 6.0; rv:34.0) Gecko/20100101 Firefox/34.0 -',\n",
       " '87.255.246.50 - - [12/Dec/2015:19:24:25 +0100] POST /administrator/index.php HTTP/1.1 200 4494 http://almhuette-raith.at/administrator/ Mozilla/5.0 (Windows NT 6.0; rv:34.0) Gecko/20100101 Firefox/34.0 -',\n",
       " '46.116.249.142 - - [12/Dec/2015:19:28:28 +0100] GET /administrator/ HTTP/1.1 200 4263 - Mozilla/5.0 (Windows NT 6.0; rv:34.0) Gecko/20100101 Firefox/34.0 -',\n",
       " '46.116.249.142 - - [12/Dec/2015:19:28:28 +0100] POST /administrator/index.php HTTP/1.1 200 4494 http://almhuette-raith.at/administrator/ Mozilla/5.0 (Windows NT 6.0; rv:34.0) Gecko/20100101 Firefox/34.0 -',\n",
       " '46.39.229.183 - - [12/Dec/2015:19:29:16 +0100] GET /administrator/ HTTP/1.1 200 4263 - Mozilla/5.0 (Windows NT 6.0; rv:34.0) Gecko/20100101 Firefox/34.0 -',\n",
       " '46.39.229.183 - - [12/Dec/2015:19:29:16 +0100] POST /administrator/index.php HTTP/1.1 200 4494 http://almhuette-raith.at/administrator/ Mozilla/5.0 (Windows NT 6.0; rv:34.0) Gecko/20100101 Firefox/34.0 -',\n",
       " '46.72.185.236 - - [12/Dec/2015:19:31:11 +0100] GET /administrator/ HTTP/1.1 200 4263 - Mozilla/5.0 (Windows NT 6.0; rv:34.0) Gecko/20100101 Firefox/34.0 -',\n",
       " '46.72.185.236 - - [12/Dec/2015:19:31:12 +0100] POST /administrator/index.php HTTP/1.1 200 4494 http://almhuette-raith.at/administrator/ Mozilla/5.0 (Windows NT 6.0; rv:34.0) Gecko/20100101 Firefox/34.0 -',\n",
       " '92.248.235.103 - - [12/Dec/2015:19:31:28 +0100] GET /administrator/ HTTP/1.1 200 4263 - Mozilla/5.0 (Windows NT 6.0; rv:34.0) Gecko/20100101 Firefox/34.0 -',\n",
       " '92.248.235.103 - - [12/Dec/2015:19:31:28 +0100] POST /administrator/index.php HTTP/1.1 200 4494 http://almhuette-raith.at/administrator/ Mozilla/5.0 (Windows NT 6.0; rv:34.0) Gecko/20100101 Firefox/34.0 -',\n",
       " '83.167.113.100 - - [12/Dec/2015:19:37:49 +0100] GET /administrator/ HTTP/1.1 200 4263 - Mozilla/5.0 (Windows NT 6.0; rv:34.0) Gecko/20100101 Firefox/34.0 -',\n",
       " '83.167.113.100 - - [12/Dec/2015:19:37:50 +0100] POST /administrator/index.php HTTP/1.1 200 4494 http://almhuette-raith.at/administrator/ Mozilla/5.0 (Windows NT 6.0; rv:34.0) Gecko/20100101 Firefox/34.0 -',\n",
       " '109.252.11.47 - - [12/Dec/2015:19:38:10 +0100] GET /administrator/ HTTP/1.1 200 4263 - Mozilla/5.0 (Windows NT 6.0; rv:34.0) Gecko/20100101 Firefox/34.0 -',\n",
       " '109.252.11.47 - - [12/Dec/2015:19:38:11 +0100] POST /administrator/index.php HTTP/1.1 200 4494 http://almhuette-raith.at/administrator/ Mozilla/5.0 (Windows NT 6.0; rv:34.0) Gecko/20100101 Firefox/34.0 -',\n",
       " '2.93.207.163 - - [12/Dec/2015:19:40:11 +0100] GET /administrator/ HTTP/1.1 200 4263 - Mozilla/5.0 (Windows NT 6.0; rv:34.0) Gecko/20100101 Firefox/34.0 -',\n",
       " '2.93.207.163 - - [12/Dec/2015:19:40:11 +0100] POST /administrator/index.php HTTP/1.1 200 4494 http://almhuette-raith.at/administrator/ Mozilla/5.0 (Windows NT 6.0; rv:34.0) Gecko/20100101 Firefox/34.0 -',\n",
       " '178.34.161.222 - - [12/Dec/2015:19:43:31 +0100] GET /administrator/ HTTP/1.1 200 4263 - Mozilla/5.0 (Windows NT 6.0; rv:34.0) Gecko/20100101 Firefox/34.0 -',\n",
       " '178.34.161.222 - - [12/Dec/2015:19:43:35 +0100] POST /administrator/index.php HTTP/1.1 200 4494 http://almhuette-raith.at/administrator/ Mozilla/5.0 (Windows NT 6.0; rv:34.0) Gecko/20100101 Firefox/34.0 -',\n",
       " '188.45.108.168 - - [12/Dec/2015:19:44:06 +0100] GET / HTTP/1.1 200 10479 http://www.almenland.at/almhuetten-mit-naechtigung.html Mozilla/5.0 (Linux; Android 4.4.2; de-at; SAMSUNG GT-I9301I Build/KOT49H) AppleWebKit/537.36 (KHTML, like Gecko) Version/1.5 Chrome/28.0.1500.94 Mobile Safari/537.36 -',\n",
       " '188.45.108.168 - - [12/Dec/2015:19:44:06 +0100] GET /modules/mod_bowslideshow/tmpl/css/bowslideshow.css HTTP/1.1 200 1725 http://www.almhuette-raith.at/ Mozilla/5.0 (Linux; Android 4.4.2; de-at; SAMSUNG GT-I9301I Build/KOT49H) AppleWebKit/537.36 (KHTML, like Gecko) Version/1.5 Chrome/28.0.1500.94 Mobile Safari/537.36 -',\n",
       " '188.45.108.168 - - [12/Dec/2015:19:44:06 +0100] GET /templates/_system/css/general.css HTTP/1.1 404 239 http://www.almhuette-raith.at/ Mozilla/5.0 (Linux; Android 4.4.2; de-at; SAMSUNG GT-I9301I Build/KOT49H) AppleWebKit/537.36 (KHTML, like Gecko) Version/1.5 Chrome/28.0.1500.94 Mobile Safari/537.36 -',\n",
       " '188.45.108.168 - - [12/Dec/2015:19:44:06 +0100] GET /templates/jp_hotel/css/template.css HTTP/1.1 200 10004 http://www.almhuette-raith.at/ Mozilla/5.0 (Linux; Android 4.4.2; de-at; SAMSUNG GT-I9301I Build/KOT49H) AppleWebKit/537.36 (KHTML, like Gecko) Version/1.5 Chrome/28.0.1500.94 Mobile Safari/537.36 -',\n",
       " '188.45.108.168 - - [12/Dec/2015:19:44:06 +0100] GET /templates/jp_hotel/css/layout.css HTTP/1.1 200 1801 http://www.almhuette-raith.at/ Mozilla/5.0 (Linux; Android 4.4.2; de-at; SAMSUNG GT-I9301I Build/KOT49H) AppleWebKit/537.36 (KHTML, like Gecko) Version/1.5 Chrome/28.0.1500.94 Mobile Safari/537.36 -',\n",
       " '188.45.108.168 - - [12/Dec/2015:19:44:06 +0100] GET /templates/jp_hotel/css/menu.css HTTP/1.1 200 1457 http://www.almhuette-raith.at/ Mozilla/5.0 (Linux; Android 4.4.2; de-at; SAMSUNG GT-I9301I Build/KOT49H) AppleWebKit/537.36 (KHTML, like Gecko) Version/1.5 Chrome/28.0.1500.94 Mobile Safari/537.36 -',\n",
       " '188.45.108.168 - - [12/Dec/2015:19:44:06 +0100] GET /templates/jp_hotel/css/suckerfish.css HTTP/1.1 200 3465 http://www.almhuette-raith.at/ Mozilla/5.0 (Linux; Android 4.4.2; de-at; SAMSUNG GT-I9301I Build/KOT49H) AppleWebKit/537.36 (KHTML, like Gecko) Version/1.5 Chrome/28.0.1500.94 Mobile Safari/537.36 -',\n",
       " '188.45.108.168 - - [12/Dec/2015:19:44:06 +0100] GET /media/system/js/caption.js HTTP/1.1 200 1963 http://www.almhuette-raith.at/ Mozilla/5.0 (Linux; Android 4.4.2; de-at; SAMSUNG GT-I9301I Build/KOT49H) AppleWebKit/537.36 (KHTML, like Gecko) Version/1.5 Chrome/28.0.1500.94 Mobile Safari/537.36 -',\n",
       " '188.45.108.168 - - [12/Dec/2015:19:44:06 +0100] GET /templates/jp_hotel/js/moomenu.js HTTP/1.1 200 4890 http://www.almhuette-raith.at/ Mozilla/5.0 (Linux; Android 4.4.2; de-at; SAMSUNG GT-I9301I Build/KOT49H) AppleWebKit/537.36 (KHTML, like Gecko) Version/1.5 Chrome/28.0.1500.94 Mobile Safari/537.36 -',\n",
       " '188.45.108.168 - - [12/Dec/2015:19:44:06 +0100] GET /modules/mod_bowslideshow/tmpl/js/sliderman.1.3.0.js HTTP/1.1 200 33472 http://www.almhuette-raith.at/ Mozilla/5.0 (Linux; Android 4.4.2; de-at; SAMSUNG GT-I9301I Build/KOT49H) AppleWebKit/537.36 (KHTML, like Gecko) Version/1.5 Chrome/28.0.1500.94 Mobile Safari/537.36 -',\n",
       " '188.45.108.168 - - [12/Dec/2015:19:44:06 +0100] GET /media/system/js/mootools.js HTTP/1.1 200 74434 http://www.almhuette-raith.at/ Mozilla/5.0 (Linux; Android 4.4.2; de-at; SAMSUNG GT-I9301I Build/KOT49H) AppleWebKit/537.36 (KHTML, like Gecko) Version/1.5 Chrome/28.0.1500.94 Mobile Safari/537.36 -',\n",
       " '188.45.108.168 - - [12/Dec/2015:19:44:06 +0100] GET /templates/jp_hotel/images/logo.jpg HTTP/1.1 200 369 http://www.almhuette-raith.at/ Mozilla/5.0 (Linux; Android 4.4.2; de-at; SAMSUNG GT-I9301I Build/KOT49H) AppleWebKit/537.36 (KHTML, like Gecko) Version/1.5 Chrome/28.0.1500.94 Mobile Safari/537.36 -',\n",
       " '188.45.108.168 - - [12/Dec/2015:19:44:07 +0100] GET /images/stories/slideshow/almhuette_raith_02.jpg HTTP/1.1 200 62918 http://www.almhuette-raith.at/ Mozilla/5.0 (Linux; Android 4.4.2; de-at; SAMSUNG GT-I9301I Build/KOT49H) AppleWebKit/537.36 (KHTML, like Gecko) Version/1.5 Chrome/28.0.1500.94 Mobile Safari/537.36 -',\n",
       " '188.45.108.168 - - [12/Dec/2015:19:44:07 +0100] GET /images/stories/raith/wohnraum.jpg HTTP/1.1 200 43586 http://www.almhuette-raith.at/ Mozilla/5.0 (Linux; Android 4.4.2; de-at; SAMSUNG GT-I9301I Build/KOT49H) AppleWebKit/537.36 (KHTML, like Gecko) Version/1.5 Chrome/28.0.1500.94 Mobile Safari/537.36 -',\n",
       " '188.45.108.168 - - [12/Dec/2015:19:44:07 +0100] GET /images/stories/slideshow/almhuette_raith_01.jpg HTTP/1.1 200 88161 http://www.almhuette-raith.at/ Mozilla/5.0 (Linux; Android 4.4.2; de-at; SAMSUNG GT-I9301I Build/KOT49H) AppleWebKit/537.36 (KHTML, like Gecko) Version/1.5 Chrome/28.0.1500.94 Mobile Safari/537.36 -',\n",
       " '188.45.108.168 - - [12/Dec/2015:19:44:08 +0100] GET /images/stories/raith/grillplatz.jpg HTTP/1.1 200 55303 http://www.almhuette-raith.at/ Mozilla/5.0 (Linux; Android 4.4.2; de-at; SAMSUNG GT-I9301I Build/KOT49H) AppleWebKit/537.36 (KHTML, like Gecko) Version/1.5 Chrome/28.0.1500.94 Mobile Safari/537.36 -',\n",
       " '188.45.108.168 - - [12/Dec/2015:19:44:08 +0100] GET /images/stories/raith/garage.jpg HTTP/1.1 200 57339 http://www.almhuette-raith.at/ Mozilla/5.0 (Linux; Android 4.4.2; de-at; SAMSUNG GT-I9301I Build/KOT49H) AppleWebKit/537.36 (KHTML, like Gecko) Version/1.5 Chrome/28.0.1500.94 Mobile Safari/537.36 -',\n",
       " '188.45.108.168 - - [12/Dec/2015:19:44:09 +0100] GET /images/stories/slideshow/almhuette_raith_03.jpg HTTP/1.1 200 87782 http://www.almhuette-raith.at/ Mozilla/5.0 (Linux; Android 4.4.2; de-at; SAMSUNG GT-I9301I Build/KOT49H) AppleWebKit/537.36 (KHTML, like Gecko) Version/1.5 Chrome/28.0.1500.94 Mobile Safari/537.36 -',\n",
       " '188.45.108.168 - - [12/Dec/2015:19:44:09 +0100] GET /images/stories/slideshow/almhuette_raith_06.jpg HTTP/1.1 200 68977 http://www.almhuette-raith.at/ Mozilla/5.0 (Linux; Android 4.4.2; de-at; SAMSUNG GT-I9301I Build/KOT49H) AppleWebKit/537.36 (KHTML, like Gecko) Version/1.5 Chrome/28.0.1500.94 Mobile Safari/537.36 -',\n",
       " '188.45.108.168 - - [12/Dec/2015:19:44:09 +0100] GET /images/stories/raith/almhuette_raith.jpg HTTP/1.1 200 43300 http://www.almhuette-raith.at/ Mozilla/5.0 (Linux; Android 4.4.2; de-at; SAMSUNG GT-I9301I Build/KOT49H) AppleWebKit/537.36 (KHTML, like Gecko) Version/1.5 Chrome/28.0.1500.94 Mobile Safari/537.36 -',\n",
       " '188.45.108.168 - - [12/Dec/2015:19:44:09 +0100] GET /modules/mod_bowslideshow/tmpl/images/image_shadow.png HTTP/1.1 200 5017 http://www.almhuette-raith.at/ Mozilla/5.0 (Linux; Android 4.4.2; de-at; SAMSUNG GT-I9301I Build/KOT49H) AppleWebKit/537.36 (KHTML, like Gecko) Version/1.5 Chrome/28.0.1500.94 Mobile Safari/537.36 -',\n",
       " '188.45.108.168 - - [12/Dec/2015:19:44:09 +0100] GET /templates/jp_hotel/images/content_heading.gif HTTP/1.1 200 69 http://www.almhuette-raith.at/ Mozilla/5.0 (Linux; Android 4.4.2; de-at; SAMSUNG GT-I9301I Build/KOT49H) AppleWebKit/537.36 (KHTML, like Gecko) Version/1.5 Chrome/28.0.1500.94 Mobile Safari/537.36 -',\n",
       " '188.45.108.168 - - [12/Dec/2015:19:44:09 +0100] GET /templates/jp_hotel/images/module_heading.gif HTTP/1.1 200 83 http://www.almhuette-raith.at/ Mozilla/5.0 (Linux; Android 4.4.2; de-at; SAMSUNG GT-I9301I Build/KOT49H) AppleWebKit/537.36 (KHTML, like Gecko) Version/1.5 Chrome/28.0.1500.94 Mobile Safari/537.36 -',\n",
       " '188.45.108.168 - - [12/Dec/2015:19:44:10 +0100] GET /images/stories/slideshow/almhuette_raith_05.jpg HTTP/1.1 200 77796 http://www.almhuette-raith.at/ Mozilla/5.0 (Linux; Android 4.4.2; de-at; SAMSUNG GT-I9301I Build/KOT49H) AppleWebKit/537.36 (KHTML, like Gecko) Version/1.5 Chrome/28.0.1500.94 Mobile Safari/537.36 -',\n",
       " '188.45.108.168 - - [12/Dec/2015:19:44:10 +0100] GET /images/stories/raith/almenland_logo.jpg HTTP/1.1 200 21490 http://www.almhuette-raith.at/ Mozilla/5.0 (Linux; Android 4.4.2; de-at; SAMSUNG GT-I9301I Build/KOT49H) AppleWebKit/537.36 (KHTML, like Gecko) Version/1.5 Chrome/28.0.1500.94 Mobile Safari/537.36 -',\n",
       " '188.45.108.168 - - [12/Dec/2015:19:44:10 +0100] GET /images/stories/raith/steiermark_herz.png HTTP/1.1 200 39683 http://www.almhuette-raith.at/ Mozilla/5.0 (Linux; Android 4.4.2; de-at; SAMSUNG GT-I9301I Build/KOT49H) AppleWebKit/537.36 (KHTML, like Gecko) Version/1.5 Chrome/28.0.1500.94 Mobile Safari/537.36 -',\n",
       " '188.45.108.168 - - [12/Dec/2015:19:44:10 +0100] GET /images/stories/slideshow/almhuette_raith_04.jpg HTTP/1.1 200 80637 http://www.almhuette-raith.at/ Mozilla/5.0 (Linux; Android 4.4.2; de-at; SAMSUNG GT-I9301I Build/KOT49H) AppleWebKit/537.36 (KHTML, like Gecko) Version/1.5 Chrome/28.0.1500.94 Mobile Safari/537.36 -',\n",
       " '188.45.108.168 - - [12/Dec/2015:19:44:10 +0100] GET /images/stories/raith/oststeiermark.png HTTP/1.1 200 65225 http://www.almhuette-raith.at/ Mozilla/5.0 (Linux; Android 4.4.2; de-at; SAMSUNG GT-I9301I Build/KOT49H) AppleWebKit/537.36 (KHTML, like Gecko) Version/1.5 Chrome/28.0.1500.94 Mobile Safari/537.36 -',\n",
       " '188.45.108.168 - - [12/Dec/2015:19:44:12 +0100] GET /images/stories/slideshow/almhuette_raith_07.jpg HTTP/1.1 200 94861 http://www.almhuette-raith.at/ Mozilla/5.0 (Linux; Android 4.4.2; de-at; SAMSUNG GT-I9301I Build/KOT49H) AppleWebKit/537.36 (KHTML, like Gecko) Version/1.5 Chrome/28.0.1500.94 Mobile Safari/537.36 -',\n",
       " '188.45.108.168 - - [12/Dec/2015:19:44:13 +0100] GET /images/bg_raith.jpg HTTP/1.1 200 329961 http://www.almhuette-raith.at/ Mozilla/5.0 (Linux; Android 4.4.2; de-at; SAMSUNG GT-I9301I Build/KOT49H) AppleWebKit/537.36 (KHTML, like Gecko) Version/1.5 Chrome/28.0.1500.94 Mobile Safari/537.36 -',\n",
       " '188.45.108.168 - - [12/Dec/2015:19:44:15 +0100] GET /favicon.ico HTTP/1.1 404 217 - Mozilla/5.0 (Linux; Android 4.4.2; de-at; SAMSUNG GT-I9301I Build/KOT49H) AppleWebKit/537.36 (KHTML, like Gecko) Version/1.5 Chrome/28.0.1500.94 Mobile Safari/537.36 -',\n",
       " '188.254.126.77 - - [12/Dec/2015:19:46:35 +0100] GET /administrator/ HTTP/1.1 200 4263 - Mozilla/5.0 (Windows NT 6.0; rv:34.0) Gecko/20100101 Firefox/34.0 -',\n",
       " '188.254.126.77 - - [12/Dec/2015:19:46:35 +0100] POST /administrator/index.php HTTP/1.1 200 4494 http://almhuette-raith.at/administrator/ Mozilla/5.0 (Windows NT 6.0; rv:34.0) Gecko/20100101 Firefox/34.0 -',\n",
       " '95.153.132.103 - - [12/Dec/2015:19:47:21 +0100] GET /administrator/ HTTP/1.1 200 4263 - Mozilla/5.0 (Windows NT 6.0; rv:34.0) Gecko/20100101 Firefox/34.0 -',\n",
       " '95.153.132.103 - - [12/Dec/2015:19:47:22 +0100] POST /administrator/index.php HTTP/1.1 200 4494 http://almhuette-raith.at/administrator/ Mozilla/5.0 (Windows NT 6.0; rv:34.0) Gecko/20100101 Firefox/34.0 -',\n",
       " '78.81.147.127 - - [12/Dec/2015:19:48:01 +0100] GET /administrator/ HTTP/1.1 200 4263 - Mozilla/5.0 (Windows NT 6.0; rv:34.0) Gecko/20100101 Firefox/34.0 -',\n",
       " '78.81.147.127 - - [12/Dec/2015:19:48:02 +0100] POST /administrator/index.php HTTP/1.1 200 4494 http://almhuette-raith.at/administrator/ Mozilla/5.0 (Windows NT 6.0; rv:34.0) Gecko/20100101 Firefox/34.0 -',\n",
       " '178.44.144.231 - - [12/Dec/2015:19:51:02 +0100] GET /administrator/ HTTP/1.1 200 4263 - Mozilla/5.0 (Windows NT 6.0; rv:34.0) Gecko/20100101 Firefox/34.0 -',\n",
       " '178.44.144.231 - - [12/Dec/2015:19:51:02 +0100] POST /administrator/index.php HTTP/1.1 200 4494 http://almhuette-raith.at/administrator/ Mozilla/5.0 (Windows NT 6.0; rv:34.0) Gecko/20100101 Firefox/34.0 -',\n",
       " '195.91.157.50 - - [12/Dec/2015:19:52:16 +0100] GET /administrator/ HTTP/1.1 200 4263 - Mozilla/5.0 (Windows NT 6.0; rv:34.0) Gecko/20100101 Firefox/34.0 -',\n",
       " '195.91.157.50 - - [12/Dec/2015:19:52:16 +0100] POST /administrator/index.php HTTP/1.1 200 4494 http://almhuette-raith.at/administrator/ Mozilla/5.0 (Windows NT 6.0; rv:34.0) Gecko/20100101 Firefox/34.0 -',\n",
       " '5.140.164.122 - - [12/Dec/2015:19:52:40 +0100] GET /administrator/ HTTP/1.0 200 4250 - Mozilla/5.0 (Windows NT 6.0; rv:34.0) Gecko/20100101 Firefox/34.0 -',\n",
       " '5.140.164.122 - - [12/Dec/2015:19:52:40 +0100] POST /administrator/index.php HTTP/1.0 200 4481 http://almhuette-raith.at/administrator/ Mozilla/5.0 (Windows NT 6.0; rv:34.0) Gecko/20100101 Firefox/34.0 -']"
      ]
     },
     "execution_count": 9,
     "metadata": {},
     "output_type": "execute_result"
    }
   ],
   "source": [
    "# read text file\n",
    "text_file = sc.textFile(LOG).filter(lambda row: row!='')\n",
    "text_file.take(150)"
   ]
  },
  {
   "cell_type": "markdown",
   "metadata": {},
   "source": [
    "## Convert strings to columns"
   ]
  },
  {
   "cell_type": "code",
   "execution_count": 10,
   "metadata": {},
   "outputs": [
    {
     "data": {
      "text/plain": [
       "datetime.datetime(2015, 12, 12, 19, 44, 7, tzinfo=tzoffset(None, 3600))"
      ]
     },
     "execution_count": 10,
     "metadata": {},
     "output_type": "execute_result"
    }
   ],
   "source": [
    "import datetime as dt\n",
    "import dateutil.parser\n",
    "\n",
    "def to_timestamp(string):\n",
    "    timezone_str = string[string.find('+'):]\n",
    "    date_time_str = string[:string.find('+')-1]\n",
    "    date_time_obj = dt.datetime.strptime(date_time_str, '%d/%b/%Y:%H:%M:%S')\n",
    "    dt2 = dateutil.parser.parse(str(date_time_obj)+timezone_str)\n",
    "    return dt2\n",
    "\n",
    "to_timestamp('12/Dec/2015:19:44:07 +0100')\n"
   ]
  },
  {
   "cell_type": "code",
   "execution_count": 11,
   "metadata": {},
   "outputs": [
    {
     "data": {
      "text/plain": [
       "['http://www.bing.com/bingbot.htm)',\n",
       " '40.77.167.38 ',\n",
       " datetime.datetime(2015, 12, 16, 10, 4, 39, tzinfo=tzoffset(None, 3600)),\n",
       " 'GET',\n",
       " '/configuration.php-dist',\n",
       " 304,\n",
       " 0]"
      ]
     },
     "execution_count": 11,
     "metadata": {},
     "output_type": "execute_result"
    }
   ],
   "source": [
    "import re\n",
    "\n",
    "class Switcher(object):\n",
    "    def __init__(self, string):\n",
    "        self.string = string\n",
    "    \n",
    "    def indirect(self,i):\n",
    "        method_name='number_'+str(i)\n",
    "        method=getattr(self,method_name,lambda :'Invalid')\n",
    "        return method()\n",
    "\n",
    "    def number_0(self):\n",
    "        return self.string\n",
    "    def number_1(self):\n",
    "        return self.string\n",
    "    def number_2(self):\n",
    "        return to_timestamp(self.string)\n",
    "    def number_3(self):\n",
    "        return self.string[1:-1]\n",
    "    def number_4(self):\n",
    "        return self.string[1:-7]\n",
    "    def number_5(self):\n",
    "        return int(self.string[-3:])\n",
    "    def number_6(self):\n",
    "        return int(self.string[5:-1])\n",
    "    \n",
    "\n",
    "def my_search(row):\n",
    "    patterns =[\n",
    "        r'http:\\S+', #url\n",
    "        r\"\\d+\\.\\d+\\.\\d+\\.\\d+\\s\", #ip\n",
    "        r\"\\d{2}.\\w{3}.\\d{4}:\\d{2}:\\d{2}:\\d{2}\\s.\\d{4}\", #datetime\n",
    "        r\"(\\sGET\\s|\\sPOST\\s|\\sPUT\\s|\\sHEAD\\s)\", #request type\n",
    "        r\"\\s\\S+\\sHTTP/\\d\", #path\n",
    "        r'HTTP/\\S+\\s\\d{3}', #response code\n",
    "        r'\\s\\d{3}\\s\\d+\\s' # no of bytes\n",
    "    ]\n",
    "    results=[]\n",
    "    for idx, pattern in enumerate(patterns):\n",
    "        r = re.findall(pattern, row)\n",
    "        if r:\n",
    "            s=Switcher(r[0])\n",
    "            results.append(s.indirect(idx))\n",
    "            del s\n",
    "        else:\n",
    "            results.append('None') if idx!=6 and idx!=5 else results.append(0)\n",
    "    return results\n",
    "\n",
    "row = '40.77.167.38 - - [16/Dec/2015:10:04:39 +0100] GET /configuration.php-dist HTTP/1.1 304 - - Mozilla/5.0 (compatible; bingbot/2.0; +http://www.bing.com/bingbot.htm) -'\n",
    "my_search(row)"
   ]
  },
  {
   "cell_type": "code",
   "execution_count": 12,
   "metadata": {},
   "outputs": [],
   "source": [
    "\n",
    "\n",
    "split_rdd = text_file.map(lambda row: my_search(row))\n",
    "\n",
    "#split_rdd.count()"
   ]
  },
  {
   "cell_type": "markdown",
   "metadata": {},
   "source": [
    "# Find out how many 404 HTTP codes are in access logs"
   ]
  },
  {
   "cell_type": "code",
   "execution_count": 14,
   "metadata": {},
   "outputs": [
    {
     "data": {
      "text/plain": [
       "227101"
      ]
     },
     "execution_count": 14,
     "metadata": {},
     "output_type": "execute_result"
    }
   ],
   "source": [
    "split_rdd.filter(lambda row: row[5]==404).count()"
   ]
  },
  {
   "cell_type": "markdown",
   "metadata": {},
   "source": [
    "# Find out which URLs are broken"
   ]
  },
  {
   "cell_type": "code",
   "execution_count": 13,
   "metadata": {},
   "outputs": [],
   "source": [
    "url_count_rdd =  split_rdd.map(lambda row: (row[0], 1)).reduceByKey(lambda x, y: x + y)"
   ]
  },
  {
   "cell_type": "code",
   "execution_count": 15,
   "metadata": {},
   "outputs": [
    {
     "data": {
      "text/plain": [
       "11416"
      ]
     },
     "execution_count": 15,
     "metadata": {},
     "output_type": "execute_result"
    }
   ],
   "source": [
    "#url_count_rdd.count()\n"
   ]
  },
  {
   "cell_type": "code",
   "execution_count": null,
   "metadata": {},
   "outputs": [],
   "source": []
  },
  {
   "cell_type": "markdown",
   "metadata": {},
   "source": [
    "## Using asyncio and aiohttp"
   ]
  },
  {
   "cell_type": "code",
   "execution_count": 14,
   "metadata": {},
   "outputs": [],
   "source": [
    "import nest_asyncio\n",
    "nest_asyncio.apply()\n",
    "\n",
    "from numpy import array\n",
    "import numpy as np\n",
    "\n",
    "import asyncio\n",
    "from aiohttp import ClientSession\n",
    "\n",
    "from datetime import datetime\n",
    "import os\n",
    "\n",
    "\n",
    "\n",
    "\n",
    "async def fetch(url, session):\n",
    "    async with session.get(url, timeout = None) as response:\n",
    "        return await response.read()            \n",
    "\n",
    "async def run(urls):\n",
    "    tasks = []\n",
    "    data = []\n",
    "    async with ClientSession() as session:\n",
    "        for url in urls:\n",
    "            url_first = url if (not type(url) == list and not type(url) == tuple) or isinstance(url, str) else url[0]\n",
    "            task = asyncio.ensure_future(fetch(url_first, session))    \n",
    "            tasks.append(task)\n",
    "            data.append(url)\n",
    "                \n",
    "        responses = await asyncio.gather(*tasks,return_exceptions=True)\n",
    "        return zip(responses, data)\n",
    "\n",
    "def scan(FUTURES):\n",
    "    loop = asyncio.get_event_loop()\n",
    "    \n",
    "    # create a list of future objects\n",
    "    future = asyncio.ensure_future(FUTURES)\n",
    "    responses = loop.run_until_complete(future)\n",
    "    \n",
    "    def to_tuple(row):\n",
    "        tuple_el = (row,) if isinstance(row, str) else (row)\n",
    "        return tuple_el\n",
    "    \n",
    "    \n",
    "    #copmose a list of codes for each url \n",
    "    code_list = (\n",
    "        to_tuple(data)+('ERR',)  if isinstance(response, Exception) else to_tuple(data)+('OK',) for response, data in responses\n",
    "    )\n",
    "     \n",
    "    return code_list\n",
    "\n"
   ]
  },
  {
   "cell_type": "code",
   "execution_count": 15,
   "metadata": {},
   "outputs": [
    {
     "name": "stdout",
     "output_type": "stream",
     "text": [
      "                                                    url   count result\n",
      "0                                                  None  588710    ERR\n",
      "1                                    http://sqlmap.org)    1114    ERR\n",
      "2     http://www.almhuette-raith.at/index.php?option...     210    ERR\n",
      "3                           http://www.wotbox.com/bot/)     117    ERR\n",
      "4                              http://writeessaypro.com     100    ERR\n",
      "...                                                 ...     ...    ...\n",
      "1286     http://engadget.search.aol.com/search?q=PFGNGQ       1    ERR\n",
      "1287      http://engadget.search.aol.com/search?q=PAQCT       1    ERR\n",
      "1288  http://engadget.search.aol.com/search?q=ESKNOL...       1    ERR\n",
      "1289      http://engadget.search.aol.com/search?q=XPEDY       1    ERR\n",
      "1290    http://engadget.search.aol.com/search?q=TPHSCQO       1    ERR\n",
      "\n",
      "[1291 rows x 3 columns]\n",
      "--- 1685.7538990974426 seconds ---\n"
     ]
    }
   ],
   "source": [
    "import time\n",
    "start_time = time.time()\n",
    "\n",
    "zz_temp = url_count_rdd.mapPartitions(run)\n",
    "zz = zz_temp.mapPartitions(scan).filter(lambda row: row[-1]=='ERR').sortBy(lambda a: -int(a[1])).toDF(['url','count','result'])\n",
    "\n",
    "#print(zz.count())\n",
    "with pd.option_context('display.max_rows', 100, 'display.max_columns', None):\n",
    "    print(zz.toPandas())\n",
    "\n",
    "print(\"--- %s seconds ---\" % (time.time() - start_time))"
   ]
  },
  {
   "cell_type": "code",
   "execution_count": null,
   "metadata": {},
   "outputs": [],
   "source": []
  },
  {
   "cell_type": "code",
   "execution_count": null,
   "metadata": {},
   "outputs": [],
   "source": []
  },
  {
   "cell_type": "code",
   "execution_count": null,
   "metadata": {},
   "outputs": [],
   "source": []
  },
  {
   "cell_type": "code",
   "execution_count": null,
   "metadata": {},
   "outputs": [],
   "source": []
  },
  {
   "cell_type": "code",
   "execution_count": null,
   "metadata": {},
   "outputs": [],
   "source": []
  },
  {
   "cell_type": "markdown",
   "metadata": {},
   "source": [
    "## Concurrent.futures"
   ]
  },
  {
   "cell_type": "markdown",
   "metadata": {},
   "source": [
    "### pass rdd.toLocalIterator() to a function call"
   ]
  },
  {
   "cell_type": "code",
   "execution_count": 16,
   "metadata": {},
   "outputs": [],
   "source": [
    "import concurrent.futures\n",
    "import urllib.request\n",
    "from numpy import array\n",
    "import numpy as np\n",
    "\n",
    "# Retrieve a single page and report the URL and contents\n",
    "def load_url(url, timeout):\n",
    "    with urllib.request.urlopen(url, timeout=timeout) as conn:\n",
    "        return conn.read()\n",
    "\n",
    "import progressbar\n",
    "\n",
    "# We can use a with statement to ensure threads are cleaned up promptly\n",
    "def load_all(URLS):\n",
    "    \n",
    "    \n",
    "    res =[]\n",
    "    \n",
    "    with concurrent.futures.ThreadPoolExecutor() as executor:\n",
    "        # Start the load operations and mark each future with its URL\n",
    "        future_to_url = {\n",
    "            executor.submit(load_url, url if (not type(url) == list and not type(url) == tuple) or isinstance(url, str) else url[0] , 120): url for url in URLS\n",
    "                        }\n",
    "        \n",
    "        i=0\n",
    "        bar = progressbar.ProgressBar(maxval=len(future_to_url), \\\n",
    "        widgets=[progressbar.Bar('=', '[', ']'), ' ', progressbar.Percentage()])\n",
    "        bar.start()\n",
    "        for future in concurrent.futures.as_completed(future_to_url):\n",
    "            url = future_to_url[future]\n",
    "            try:\n",
    "                data = future.result()\n",
    "            except Exception as exc:\n",
    "                #print('%r generated an exception: %s' % (url, exc))\n",
    "                re = 'ERR'\n",
    "            else:\n",
    "                #print('%r page is %d bytes' % (url, len(data)))\n",
    "                re = 'OK'\n",
    "            i+=1\n",
    "            bar.update(i)\n",
    "            res.append((url, re)  )\n",
    "    bar.finish()\n",
    "    return sc.parallelize(res).map(lambda row: np.append(array(row[0]),row[1]).tolist()).filter(lambda row: row[-1]=='ERR')\n",
    "\n",
    "\n",
    "\n",
    "#res = url_rdd.mapPartitions(load_all)"
   ]
  },
  {
   "cell_type": "code",
   "execution_count": 17,
   "metadata": {},
   "outputs": [
    {
     "name": "stderr",
     "output_type": "stream",
     "text": [
      "[========================================================================] 100%\n"
     ]
    },
    {
     "name": "stdout",
     "output_type": "stream",
     "text": [
      "                                                     url count result\n",
      "0                            http://arcoxia.wikidot.com/    26    ERR\n",
      "1                                  http://proekt-mos.ru/     3    ERR\n",
      "2            http://almhuette-raith.at/admin/moadmin.php     2    ERR\n",
      "3                                 http://www.lego4x4.ru/     6    ERR\n",
      "4      http://almhuette-raith.at/modules/mod_mapsapi/...    15    ERR\n",
      "...                                                  ...   ...    ...\n",
      "11256                http://acquistare-relafen.snack.ws/     4    ERR\n",
      "11257  http://engadget.search.aol.com/search?q=ZCJUKH...     1    ERR\n",
      "11258                 http://prmb.mobi/acheter-aygestin/     3    ERR\n",
      "11259          http://kopenpropecia12124.full-design.com     4    ERR\n",
      "11260                           http://www.almenland.eu/     7    ERR\n",
      "\n",
      "[11261 rows x 3 columns]\n",
      "--- 83.21685194969177 seconds ---\n"
     ]
    }
   ],
   "source": [
    "import time\n",
    "start_time = time.time()\n",
    "\n",
    "zz = load_all(url_count_rdd.toLocalIterator()).toDF([\"url\",\"count\",\"result\"])\n",
    "\n",
    "print(zz.toPandas())\n",
    "\n",
    "print(\"--- %s seconds ---\" % (time.time() - start_time))"
   ]
  },
  {
   "cell_type": "markdown",
   "metadata": {},
   "source": [
    "### Using mapPartitions()"
   ]
  },
  {
   "cell_type": "code",
   "execution_count": 22,
   "metadata": {},
   "outputs": [],
   "source": [
    "# We can use a with statement to ensure threads are cleaned up promptly\n",
    "from numpy import array\n",
    "\n",
    "def load_all_parts(URLS):\n",
    "    res =[]\n",
    "    with concurrent.futures.ThreadPoolExecutor() as executor:\n",
    "        # Start the load operations and mark each future with its URL\n",
    "        future_to_url = {executor.submit(load_url, url if (not type(url) == list and not type(url) == tuple) or isinstance(url, str) else url[0] , 120): url for url in URLS}\n",
    "\n",
    "        for future in concurrent.futures.as_completed(future_to_url):\n",
    "            url = future_to_url[future]\n",
    "            try:\n",
    "                data = future.result()\n",
    "            except Exception as exc:\n",
    "                #print('%r generated an exception: %s' % (url, exc))\n",
    "                re = 'ERR'\n",
    "            else:\n",
    "                #print('%r page is %d bytes' % (url, len(data)))\n",
    "                re = 'OK'\n",
    "            res.append((url, re))\n",
    "            \n",
    "    return res# sc.parallelize(res).filter(lambda row: row[-1]=='ERR')"
   ]
  },
  {
   "cell_type": "code",
   "execution_count": 23,
   "metadata": {},
   "outputs": [
    {
     "name": "stdout",
     "output_type": "stream",
     "text": [
      "                                                     _1   _2\n",
      "0     (http://l.facebook.com/lsr.php?u=http%3A%2F%2F...  ERR\n",
      "1        (http://www.almhuette-raith.at/licence.php, 1)  ERR\n",
      "2     (http://almhuette-raith.at/modules/mod_mapsapi...  ERR\n",
      "3      (http://almhuette-raith.at/admin/moadmin.php, 2)  ERR\n",
      "4     (http://almhuette-raith.at/scripts/moadmin.php...  ERR\n",
      "...                                                 ...  ...\n",
      "7101  (http://engadget.search.aol.com/search?q=TPHSC...  ERR\n",
      "7102  (http://almhuette-raith.at/index.php?option=co...  ERR\n",
      "7103        (http://www.almhuette-raith.at/XBSZYIPN, 1)  ERR\n",
      "7104  (http://engadget.search.aol.com/search?q=XPEDY...  ERR\n",
      "7105           (http://www.google.com/?q=PSAMZRQTKV, 2)  ERR\n",
      "\n",
      "[7106 rows x 2 columns]\n",
      "--- 1185.9937462806702 seconds ---\n"
     ]
    }
   ],
   "source": [
    "import time\n",
    "start_time = time.time()\n",
    "\n",
    "yy = url_count_rdd.mapPartitions(load_all_parts).filter(lambda row: row[-1]=='ERR').toDF()\n",
    "\n",
    "print(yy.toPandas())\n",
    "\n",
    "print(\"--- %s seconds ---\" % (time.time() - start_time))"
   ]
  },
  {
   "cell_type": "code",
   "execution_count": 217,
   "metadata": {},
   "outputs": [
    {
     "name": "stdout",
     "output_type": "stream",
     "text": [
      "                                                     _1   _2\n",
      "0     (http://almhuette-raith.at/modules/mod_mapsapi...  ERR\n",
      "1        (http://www.almhuette-raith.at/licence.php, 1)  ERR\n",
      "2      (http://almhuette-raith.at/admin/moadmin.php, 2)  ERR\n",
      "3     (http://l.facebook.com/lsr.php?u=http%3A%2F%2F...  ERR\n",
      "4     (http://almhuette-raith.at/scripts/moadmin.php...  ERR\n",
      "...                                                 ...  ...\n",
      "5661                (http://acheter-actos.snack.ws/, 5)  ERR\n",
      "5662            (http://tanisma06144.ampedpages.com, 4)  ERR\n",
      "5663        (http://deaikeisaito58105.blogocial.com, 4)  ERR\n",
      "5664                 (http://kis33027.blogocial.com, 4)  ERR\n",
      "5665  (http://yourpot.com/users/Carusel/blog/Kak_zhe...  ERR\n",
      "\n",
      "[5666 rows x 2 columns]\n",
      "--- 2191.588401079178 seconds ---\n"
     ]
    }
   ],
   "source": [
    "\n",
    "import time\n",
    "start_time = time.time()\n",
    "\n",
    "yy = url_count_rdd.mapPartitions(load_all_parts).filter(lambda row: row[-1]=='ERR').toDF()\n",
    "\n",
    "print(yy.toPandas())\n",
    "\n",
    "print(\"--- %s seconds ---\" % (time.time() - start_time))"
   ]
  },
  {
   "cell_type": "code",
   "execution_count": null,
   "metadata": {},
   "outputs": [],
   "source": []
  },
  {
   "cell_type": "code",
   "execution_count": null,
   "metadata": {},
   "outputs": [],
   "source": []
  },
  {
   "cell_type": "markdown",
   "metadata": {},
   "source": [
    "# Verify there are no null columns in the original dataset"
   ]
  },
  {
   "cell_type": "code",
   "execution_count": 58,
   "metadata": {},
   "outputs": [
    {
     "data": {
      "text/plain": [
       "2338007"
      ]
     },
     "execution_count": 58,
     "metadata": {},
     "output_type": "execute_result"
    }
   ],
   "source": [
    "text_file.count()"
   ]
  },
  {
   "cell_type": "code",
   "execution_count": 60,
   "metadata": {},
   "outputs": [
    {
     "data": {
      "text/plain": [
       "2338006"
      ]
     },
     "execution_count": 60,
     "metadata": {},
     "output_type": "execute_result"
    }
   ],
   "source": [
    "text_lines = text_file.filter(lambda row: row!='')\n",
    "text_lines.count()"
   ]
  },
  {
   "cell_type": "markdown",
   "metadata": {},
   "source": [
    "# Replace null values with constants such as 0"
   ]
  },
  {
   "cell_type": "code",
   "execution_count": null,
   "metadata": {},
   "outputs": [],
   "source": []
  },
  {
   "cell_type": "code",
   "execution_count": 186,
   "metadata": {},
   "outputs": [
    {
     "data": {
      "text/plain": [
       "['109.169.248.247 - - [12/Dec/2015:18:25:11 +0100] GET /administrator/ HTTP/1.1 200 4263 - Mozilla/5.0 (Windows NT 6.0; rv:34.0) Gecko/20100101 Firefox/34.0 -',\n",
       " '109.169.248.247 - - [12/Dec/2015:18:25:11 +0100] POST /administrator/index.php HTTP/1.1 200 4494 http://almhuette-raith.at/administrator/ Mozilla/5.0 (Windows NT 6.0; rv:34.0) Gecko/20100101 Firefox/34.0 -',\n",
       " '46.72.177.4 - - [12/Dec/2015:18:31:08 +0100] GET /administrator/ HTTP/1.1 200 4263 - Mozilla/5.0 (Windows NT 6.0; rv:34.0) Gecko/20100101 Firefox/34.0 -',\n",
       " '46.72.177.4 - - [12/Dec/2015:18:31:08 +0100] POST /administrator/index.php HTTP/1.1 200 4494 http://almhuette-raith.at/administrator/ Mozilla/5.0 (Windows NT 6.0; rv:34.0) Gecko/20100101 Firefox/34.0 -',\n",
       " '83.167.113.100 - - [12/Dec/2015:18:31:25 +0100] GET /administrator/ HTTP/1.1 200 4263 - Mozilla/5.0 (Windows NT 6.0; rv:34.0) Gecko/20100101 Firefox/34.0 -',\n",
       " '83.167.113.100 - - [12/Dec/2015:18:31:25 +0100] POST /administrator/index.php HTTP/1.1 200 4494 http://almhuette-raith.at/administrator/ Mozilla/5.0 (Windows NT 6.0; rv:34.0) Gecko/20100101 Firefox/34.0 -',\n",
       " '95.29.198.15 - - [12/Dec/2015:18:32:10 +0100] GET /administrator/ HTTP/1.1 200 4263 - Mozilla/5.0 (Windows NT 6.0; rv:34.0) Gecko/20100101 Firefox/34.0 -',\n",
       " '95.29.198.15 - - [12/Dec/2015:18:32:11 +0100] POST /administrator/index.php HTTP/1.1 200 4494 http://almhuette-raith.at/administrator/ Mozilla/5.0 (Windows NT 6.0; rv:34.0) Gecko/20100101 Firefox/34.0 -',\n",
       " '109.184.11.34 - - [12/Dec/2015:18:32:56 +0100] GET /administrator/ HTTP/1.1 200 4263 - Mozilla/5.0 (Windows NT 6.0; rv:34.0) Gecko/20100101 Firefox/34.0 -',\n",
       " '109.184.11.34 - - [12/Dec/2015:18:32:56 +0100] POST /administrator/index.php HTTP/1.1 200 4494 http://almhuette-raith.at/administrator/ Mozilla/5.0 (Windows NT 6.0; rv:34.0) Gecko/20100101 Firefox/34.0 -',\n",
       " '91.227.29.79 - - [12/Dec/2015:18:33:51 +0100] GET /administrator/ HTTP/1.1 200 4263 - Mozilla/5.0 (Windows NT 6.0; rv:34.0) Gecko/20100101 Firefox/34.0 -',\n",
       " '91.227.29.79 - - [12/Dec/2015:18:33:52 +0100] POST /administrator/index.php HTTP/1.1 200 4494 http://almhuette-raith.at/administrator/ Mozilla/5.0 (Windows NT 6.0; rv:34.0) Gecko/20100101 Firefox/34.0 -',\n",
       " '90.154.66.233 - - [12/Dec/2015:18:36:16 +0100] GET /administrator/ HTTP/1.1 200 4263 - Mozilla/5.0 (Windows NT 6.0; rv:34.0) Gecko/20100101 Firefox/34.0 -',\n",
       " '90.154.66.233 - - [12/Dec/2015:18:36:16 +0100] POST /administrator/index.php HTTP/1.1 200 4494 http://almhuette-raith.at/administrator/ Mozilla/5.0 (Windows NT 6.0; rv:34.0) Gecko/20100101 Firefox/34.0 -',\n",
       " '95.140.24.131 - - [12/Dec/2015:18:38:42 +0100] GET /administrator/ HTTP/1.1 200 4263 - Mozilla/5.0 (Windows NT 6.0; rv:34.0) Gecko/20100101 Firefox/34.0 -',\n",
       " '95.140.24.131 - - [12/Dec/2015:18:38:42 +0100] POST /administrator/index.php HTTP/1.1 200 4494 http://almhuette-raith.at/administrator/ Mozilla/5.0 (Windows NT 6.0; rv:34.0) Gecko/20100101 Firefox/34.0 -',\n",
       " '95.188.245.16 - - [12/Dec/2015:18:38:55 +0100] GET /administrator/ HTTP/1.1 200 4263 - Mozilla/5.0 (Windows NT 6.0; rv:34.0) Gecko/20100101 Firefox/34.0 -',\n",
       " '95.188.245.16 - - [12/Dec/2015:18:38:56 +0100] POST /administrator/index.php HTTP/1.1 200 4494 http://almhuette-raith.at/administrator/ Mozilla/5.0 (Windows NT 6.0; rv:34.0) Gecko/20100101 Firefox/34.0 -',\n",
       " '46.72.213.133 - - [12/Dec/2015:18:39:27 +0100] GET /administrator/ HTTP/1.1 200 4263 - Mozilla/5.0 (Windows NT 6.0; rv:34.0) Gecko/20100101 Firefox/34.0 -',\n",
       " '46.72.213.133 - - [12/Dec/2015:18:39:27 +0100] POST /administrator/index.php HTTP/1.1 200 4494 http://almhuette-raith.at/administrator/ Mozilla/5.0 (Windows NT 6.0; rv:34.0) Gecko/20100101 Firefox/34.0 -',\n",
       " '178.204.119.130 - - [12/Dec/2015:18:40:58 +0100] GET /administrator/ HTTP/1.1 200 4263 - Mozilla/5.0 (Windows NT 6.0; rv:34.0) Gecko/20100101 Firefox/34.0 -',\n",
       " '178.204.119.130 - - [12/Dec/2015:18:40:58 +0100] POST /administrator/index.php HTTP/1.1 200 4494 http://almhuette-raith.at/administrator/ Mozilla/5.0 (Windows NT 6.0; rv:34.0) Gecko/20100101 Firefox/34.0 -',\n",
       " '178.35.0.41 - - [12/Dec/2015:18:44:48 +0100] GET /administrator/ HTTP/1.1 200 4263 - Mozilla/5.0 (Windows NT 6.0; rv:34.0) Gecko/20100101 Firefox/34.0 -',\n",
       " '178.35.0.41 - - [12/Dec/2015:18:44:48 +0100] POST /administrator/index.php HTTP/1.1 200 4494 http://almhuette-raith.at/administrator/ Mozilla/5.0 (Windows NT 6.0; rv:34.0) Gecko/20100101 Firefox/34.0 -',\n",
       " '92.252.165.97 - - [12/Dec/2015:18:44:53 +0100] GET /administrator/ HTTP/1.1 200 4263 - Mozilla/5.0 (Windows NT 6.0; rv:34.0) Gecko/20100101 Firefox/34.0 -',\n",
       " '92.252.165.97 - - [12/Dec/2015:18:44:53 +0100] POST /administrator/index.php HTTP/1.1 200 4494 http://almhuette-raith.at/administrator/ Mozilla/5.0 (Windows NT 6.0; rv:34.0) Gecko/20100101 Firefox/34.0 -',\n",
       " '31.202.233.212 - - [12/Dec/2015:18:46:21 +0100] GET /administrator/ HTTP/1.1 200 4263 - Mozilla/5.0 (Windows NT 6.0; rv:34.0) Gecko/20100101 Firefox/34.0 -',\n",
       " '31.202.233.212 - - [12/Dec/2015:18:46:21 +0100] POST /administrator/index.php HTTP/1.1 200 4494 http://almhuette-raith.at/administrator/ Mozilla/5.0 (Windows NT 6.0; rv:34.0) Gecko/20100101 Firefox/34.0 -',\n",
       " '83.219.151.232 - - [12/Dec/2015:18:46:25 +0100] GET /administrator/ HTTP/1.1 200 4263 - Mozilla/5.0 (Windows NT 6.0; rv:34.0) Gecko/20100101 Firefox/34.0 -',\n",
       " '83.219.151.232 - - [12/Dec/2015:18:46:25 +0100] POST /administrator/index.php HTTP/1.1 200 4494 http://almhuette-raith.at/administrator/ Mozilla/5.0 (Windows NT 6.0; rv:34.0) Gecko/20100101 Firefox/34.0 -',\n",
       " '46.72.184.174 - - [12/Dec/2015:18:51:08 +0100] GET /administrator/ HTTP/1.1 200 4263 - Mozilla/5.0 (Windows NT 6.0; rv:34.0) Gecko/20100101 Firefox/34.0 -',\n",
       " '46.72.184.174 - - [12/Dec/2015:18:51:08 +0100] POST /administrator/index.php HTTP/1.1 200 4494 http://almhuette-raith.at/administrator/ Mozilla/5.0 (Windows NT 6.0; rv:34.0) Gecko/20100101 Firefox/34.0 -',\n",
       " '176.116.138.82 - - [12/Dec/2015:18:51:25 +0100] GET /administrator/ HTTP/1.1 200 4263 - Mozilla/5.0 (Windows NT 6.0; rv:34.0) Gecko/20100101 Firefox/34.0 -',\n",
       " '176.116.138.82 - - [12/Dec/2015:18:51:25 +0100] POST /administrator/index.php HTTP/1.1 200 4494 http://almhuette-raith.at/administrator/ Mozilla/5.0 (Windows NT 6.0; rv:34.0) Gecko/20100101 Firefox/34.0 -',\n",
       " '178.47.189.163 - - [12/Dec/2015:18:53:10 +0100] GET /administrator/ HTTP/1.1 200 4263 - Mozilla/5.0 (Windows NT 6.0; rv:34.0) Gecko/20100101 Firefox/34.0 -',\n",
       " '178.47.189.163 - - [12/Dec/2015:18:53:11 +0100] POST /administrator/index.php HTTP/1.1 200 4494 http://almhuette-raith.at/administrator/ Mozilla/5.0 (Windows NT 6.0; rv:34.0) Gecko/20100101 Firefox/34.0 -',\n",
       " '178.44.144.231 - - [12/Dec/2015:18:57:24 +0100] GET /administrator/ HTTP/1.1 200 4263 - Mozilla/5.0 (Windows NT 6.0; rv:34.0) Gecko/20100101 Firefox/34.0 -',\n",
       " '178.44.144.231 - - [12/Dec/2015:18:57:24 +0100] POST /administrator/index.php HTTP/1.1 200 4494 http://almhuette-raith.at/administrator/ Mozilla/5.0 (Windows NT 6.0; rv:34.0) Gecko/20100101 Firefox/34.0 -',\n",
       " '213.24.134.32 - - [12/Dec/2015:18:58:50 +0100] GET /administrator/ HTTP/1.1 200 4263 - Mozilla/5.0 (Windows NT 6.0; rv:34.0) Gecko/20100101 Firefox/34.0 -',\n",
       " '213.24.134.32 - - [12/Dec/2015:18:58:51 +0100] POST /administrator/index.php HTTP/1.1 200 4494 http://almhuette-raith.at/administrator/ Mozilla/5.0 (Windows NT 6.0; rv:34.0) Gecko/20100101 Firefox/34.0 -',\n",
       " '191.182.199.16 - - [12/Dec/2015:19:02:35 +0100] GET / HTTP/1.1 200 10439 http://top1-seo-service.com/try.php?u=http://almhuette-raith.at Mozilla/5.0 (Windows NT 6.1; WOW64) AppleWebKit/537.36 (KHTML, like Gecko) Chrome/36.0.1985.143 Safari/537.36 -',\n",
       " '191.182.199.16 - - [12/Dec/2015:19:02:35 +0100] GET /modules/mod_bowslideshow/tmpl/css/bowslideshow.css HTTP/1.1 200 1725 http://almhuette-raith.at/ Mozilla/5.0 (Windows NT 6.1; WOW64) AppleWebKit/537.36 (KHTML, like Gecko) Chrome/36.0.1985.143 Safari/537.36 -',\n",
       " '191.182.199.16 - - [12/Dec/2015:19:02:36 +0100] GET /templates/_system/css/general.css HTTP/1.1 404 239 http://almhuette-raith.at/ Mozilla/5.0 (Windows NT 6.1; WOW64) AppleWebKit/537.36 (KHTML, like Gecko) Chrome/36.0.1985.143 Safari/537.36 -',\n",
       " '191.182.199.16 - - [12/Dec/2015:19:02:36 +0100] GET /media/system/js/caption.js HTTP/1.1 200 1963 http://almhuette-raith.at/ Mozilla/5.0 (Windows NT 6.1; WOW64) AppleWebKit/537.36 (KHTML, like Gecko) Chrome/36.0.1985.143 Safari/537.36 -',\n",
       " '191.182.199.16 - - [12/Dec/2015:19:02:36 +0100] GET /templates/jp_hotel/css/template.css HTTP/1.1 200 10004 http://almhuette-raith.at/ Mozilla/5.0 (Windows NT 6.1; WOW64) AppleWebKit/537.36 (KHTML, like Gecko) Chrome/36.0.1985.143 Safari/537.36 -',\n",
       " '191.182.199.16 - - [12/Dec/2015:19:02:36 +0100] GET /templates/jp_hotel/css/layout.css HTTP/1.1 200 1801 http://almhuette-raith.at/ Mozilla/5.0 (Windows NT 6.1; WOW64) AppleWebKit/537.36 (KHTML, like Gecko) Chrome/36.0.1985.143 Safari/537.36 -',\n",
       " '191.182.199.16 - - [12/Dec/2015:19:02:36 +0100] GET /templates/jp_hotel/css/menu.css HTTP/1.1 200 1457 http://almhuette-raith.at/ Mozilla/5.0 (Windows NT 6.1; WOW64) AppleWebKit/537.36 (KHTML, like Gecko) Chrome/36.0.1985.143 Safari/537.36 -',\n",
       " '191.182.199.16 - - [12/Dec/2015:19:02:36 +0100] GET /templates/jp_hotel/css/suckerfish.css HTTP/1.1 200 3465 http://almhuette-raith.at/ Mozilla/5.0 (Windows NT 6.1; WOW64) AppleWebKit/537.36 (KHTML, like Gecko) Chrome/36.0.1985.143 Safari/537.36 -',\n",
       " '191.182.199.16 - - [12/Dec/2015:19:02:36 +0100] GET /templates/jp_hotel/js/moomenu.js HTTP/1.1 200 4890 http://almhuette-raith.at/ Mozilla/5.0 (Windows NT 6.1; WOW64) AppleWebKit/537.36 (KHTML, like Gecko) Chrome/36.0.1985.143 Safari/537.36 -',\n",
       " '191.182.199.16 - - [12/Dec/2015:19:02:36 +0100] GET /modules/mod_bowslideshow/tmpl/js/sliderman.1.3.0.js HTTP/1.1 200 33472 http://almhuette-raith.at/ Mozilla/5.0 (Windows NT 6.1; WOW64) AppleWebKit/537.36 (KHTML, like Gecko) Chrome/36.0.1985.143 Safari/537.36 -',\n",
       " '191.182.199.16 - - [12/Dec/2015:19:02:36 +0100] GET /media/system/js/mootools.js HTTP/1.1 200 74434 http://almhuette-raith.at/ Mozilla/5.0 (Windows NT 6.1; WOW64) AppleWebKit/537.36 (KHTML, like Gecko) Chrome/36.0.1985.143 Safari/537.36 -',\n",
       " '191.182.199.16 - - [12/Dec/2015:19:02:38 +0100] GET /images/stories/slideshow/almhuette_raith_01.jpg HTTP/1.1 200 88161 http://almhuette-raith.at/ Mozilla/5.0 (Windows NT 6.1; WOW64) AppleWebKit/537.36 (KHTML, like Gecko) Chrome/36.0.1985.143 Safari/537.36 -',\n",
       " '191.182.199.16 - - [12/Dec/2015:19:02:38 +0100] GET /images/stories/slideshow/almhuette_raith_02.jpg HTTP/1.1 200 62918 http://almhuette-raith.at/ Mozilla/5.0 (Windows NT 6.1; WOW64) AppleWebKit/537.36 (KHTML, like Gecko) Chrome/36.0.1985.143 Safari/537.36 -',\n",
       " '191.182.199.16 - - [12/Dec/2015:19:02:38 +0100] GET /images/stories/slideshow/almhuette_raith_03.jpg HTTP/1.1 200 87782 http://almhuette-raith.at/ Mozilla/5.0 (Windows NT 6.1; WOW64) AppleWebKit/537.36 (KHTML, like Gecko) Chrome/36.0.1985.143 Safari/537.36 -',\n",
       " '191.182.199.16 - - [12/Dec/2015:19:02:38 +0100] GET /images/stories/slideshow/almhuette_raith_06.jpg HTTP/1.1 200 68977 http://almhuette-raith.at/ Mozilla/5.0 (Windows NT 6.1; WOW64) AppleWebKit/537.36 (KHTML, like Gecko) Chrome/36.0.1985.143 Safari/537.36 -',\n",
       " '191.182.199.16 - - [12/Dec/2015:19:02:39 +0100] GET /images/stories/slideshow/almhuette_raith_04.jpg HTTP/1.1 200 80637 http://almhuette-raith.at/ Mozilla/5.0 (Windows NT 6.1; WOW64) AppleWebKit/537.36 (KHTML, like Gecko) Chrome/36.0.1985.143 Safari/537.36 -',\n",
       " '191.182.199.16 - - [12/Dec/2015:19:02:39 +0100] GET /images/stories/slideshow/almhuette_raith_05.jpg HTTP/1.1 200 77796 http://almhuette-raith.at/ Mozilla/5.0 (Windows NT 6.1; WOW64) AppleWebKit/537.36 (KHTML, like Gecko) Chrome/36.0.1985.143 Safari/537.36 -',\n",
       " '191.182.199.16 - - [12/Dec/2015:19:02:39 +0100] GET /templates/jp_hotel/images/logo.jpg HTTP/1.1 200 369 http://almhuette-raith.at/ Mozilla/5.0 (Windows NT 6.1; WOW64) AppleWebKit/537.36 (KHTML, like Gecko) Chrome/36.0.1985.143 Safari/537.36 -',\n",
       " '191.182.199.16 - - [12/Dec/2015:19:02:39 +0100] GET /images/stories/slideshow/almhuette_raith_07.jpg HTTP/1.1 200 94861 http://almhuette-raith.at/ Mozilla/5.0 (Windows NT 6.1; WOW64) AppleWebKit/537.36 (KHTML, like Gecko) Chrome/36.0.1985.143 Safari/537.36 -',\n",
       " '191.182.199.16 - - [12/Dec/2015:19:02:39 +0100] GET /images/stories/raith/almhuette_raith.jpg HTTP/1.1 200 43300 http://almhuette-raith.at/ Mozilla/5.0 (Windows NT 6.1; WOW64) AppleWebKit/537.36 (KHTML, like Gecko) Chrome/36.0.1985.143 Safari/537.36 -',\n",
       " '191.182.199.16 - - [12/Dec/2015:19:02:39 +0100] GET /images/stories/raith/wohnraum.jpg HTTP/1.1 200 43586 http://almhuette-raith.at/ Mozilla/5.0 (Windows NT 6.1; WOW64) AppleWebKit/537.36 (KHTML, like Gecko) Chrome/36.0.1985.143 Safari/537.36 -',\n",
       " '191.182.199.16 - - [12/Dec/2015:19:02:39 +0100] GET /images/stories/raith/grillplatz.jpg HTTP/1.1 200 55303 http://almhuette-raith.at/ Mozilla/5.0 (Windows NT 6.1; WOW64) AppleWebKit/537.36 (KHTML, like Gecko) Chrome/36.0.1985.143 Safari/537.36 -',\n",
       " '191.182.199.16 - - [12/Dec/2015:19:02:39 +0100] GET /images/stories/raith/almenland_logo.jpg HTTP/1.1 200 21490 http://almhuette-raith.at/ Mozilla/5.0 (Windows NT 6.1; WOW64) AppleWebKit/537.36 (KHTML, like Gecko) Chrome/36.0.1985.143 Safari/537.36 -',\n",
       " '191.182.199.16 - - [12/Dec/2015:19:02:40 +0100] GET /images/stories/raith/oststeiermark.png HTTP/1.1 200 65225 http://almhuette-raith.at/ Mozilla/5.0 (Windows NT 6.1; WOW64) AppleWebKit/537.36 (KHTML, like Gecko) Chrome/36.0.1985.143 Safari/537.36 -',\n",
       " '191.182.199.16 - - [12/Dec/2015:19:02:40 +0100] GET /images/stories/raith/garage.jpg HTTP/1.1 200 57339 http://almhuette-raith.at/ Mozilla/5.0 (Windows NT 6.1; WOW64) AppleWebKit/537.36 (KHTML, like Gecko) Chrome/36.0.1985.143 Safari/537.36 -',\n",
       " '191.182.199.16 - - [12/Dec/2015:19:02:40 +0100] GET /images/stories/raith/steiermark_herz.png HTTP/1.1 200 39683 http://almhuette-raith.at/ Mozilla/5.0 (Windows NT 6.1; WOW64) AppleWebKit/537.36 (KHTML, like Gecko) Chrome/36.0.1985.143 Safari/537.36 -',\n",
       " '191.182.199.16 - - [12/Dec/2015:19:02:40 +0100] GET /modules/mod_bowslideshow/tmpl/images/image_shadow.png HTTP/1.1 200 5017 http://almhuette-raith.at/ Mozilla/5.0 (Windows NT 6.1; WOW64) AppleWebKit/537.36 (KHTML, like Gecko) Chrome/36.0.1985.143 Safari/537.36 -',\n",
       " '191.182.199.16 - - [12/Dec/2015:19:02:40 +0100] GET /templates/jp_hotel/images/content_heading.gif HTTP/1.1 200 69 http://almhuette-raith.at/ Mozilla/5.0 (Windows NT 6.1; WOW64) AppleWebKit/537.36 (KHTML, like Gecko) Chrome/36.0.1985.143 Safari/537.36 -',\n",
       " '191.182.199.16 - - [12/Dec/2015:19:02:40 +0100] GET /images/bg_raith.jpg HTTP/1.1 200 329961 http://almhuette-raith.at/ Mozilla/5.0 (Windows NT 6.1; WOW64) AppleWebKit/537.36 (KHTML, like Gecko) Chrome/36.0.1985.143 Safari/537.36 -',\n",
       " '191.182.199.16 - - [12/Dec/2015:19:02:40 +0100] GET /templates/jp_hotel/images/module_heading.gif HTTP/1.1 200 83 http://almhuette-raith.at/ Mozilla/5.0 (Windows NT 6.1; WOW64) AppleWebKit/537.36 (KHTML, like Gecko) Chrome/36.0.1985.143 Safari/537.36 -',\n",
       " '191.182.199.16 - - [12/Dec/2015:19:02:48 +0100] GET /images/stories/slideshow/almhuette_raith_02.jpg HTTP/1.1 200 62918 http://almhuette-raith.at/ Mozilla/5.0 (Windows NT 6.1; WOW64) AppleWebKit/537.36 (KHTML, like Gecko) Chrome/36.0.1985.143 Safari/537.36 -',\n",
       " '191.182.199.16 - - [12/Dec/2015:19:02:48 +0100] GET /images/stories/slideshow/almhuette_raith_04.jpg HTTP/1.1 200 80637 http://almhuette-raith.at/ Mozilla/5.0 (Windows NT 6.1; WOW64) AppleWebKit/537.36 (KHTML, like Gecko) Chrome/36.0.1985.143 Safari/537.36 -',\n",
       " '191.182.199.16 - - [12/Dec/2015:19:02:48 +0100] GET /images/stories/slideshow/almhuette_raith_05.jpg HTTP/1.1 200 77796 http://almhuette-raith.at/ Mozilla/5.0 (Windows NT 6.1; WOW64) AppleWebKit/537.36 (KHTML, like Gecko) Chrome/36.0.1985.143 Safari/537.36 -',\n",
       " '191.182.199.16 - - [12/Dec/2015:19:02:48 +0100] GET /images/stories/slideshow/almhuette_raith_06.jpg HTTP/1.1 200 68977 http://almhuette-raith.at/ Mozilla/5.0 (Windows NT 6.1; WOW64) AppleWebKit/537.36 (KHTML, like Gecko) Chrome/36.0.1985.143 Safari/537.36 -',\n",
       " '191.182.199.16 - - [12/Dec/2015:19:02:48 +0100] GET /images/stories/slideshow/almhuette_raith_03.jpg HTTP/1.1 200 87782 http://almhuette-raith.at/ Mozilla/5.0 (Windows NT 6.1; WOW64) AppleWebKit/537.36 (KHTML, like Gecko) Chrome/36.0.1985.143 Safari/537.36 -',\n",
       " '191.182.199.16 - - [12/Dec/2015:19:02:48 +0100] GET /images/stories/slideshow/almhuette_raith_01.jpg HTTP/1.1 200 88161 http://almhuette-raith.at/ Mozilla/5.0 (Windows NT 6.1; WOW64) AppleWebKit/537.36 (KHTML, like Gecko) Chrome/36.0.1985.143 Safari/537.36 -',\n",
       " '191.182.199.16 - - [12/Dec/2015:19:02:49 +0100] GET /images/stories/slideshow/almhuette_raith_07.jpg HTTP/1.1 200 43495 http://almhuette-raith.at/ Mozilla/5.0 (Windows NT 6.1; WOW64) AppleWebKit/537.36 (KHTML, like Gecko) Chrome/36.0.1985.143 Safari/537.36 -',\n",
       " '176.212.187.84 - - [12/Dec/2015:19:03:02 +0100] GET /administrator/ HTTP/1.1 200 4263 - Mozilla/5.0 (Windows NT 6.0; rv:34.0) Gecko/20100101 Firefox/34.0 -',\n",
       " '176.212.187.84 - - [12/Dec/2015:19:03:02 +0100] POST /administrator/index.php HTTP/1.1 200 4494 http://almhuette-raith.at/administrator/ Mozilla/5.0 (Windows NT 6.0; rv:34.0) Gecko/20100101 Firefox/34.0 -',\n",
       " '180.180.104.183 - - [12/Dec/2015:19:04:13 +0100] GET /apache-log/access.log HTTP/1.1 200 17511 http://www.almhuette-raith.at/ Mozilla/5.0 (Windows NT 6.1; WOW64) AppleWebKit/537.36 (KHTML, like Gecko) Maxthon/4.4.3.4000 Chrome/30.0.1599.101 Safari/537.36 -',\n",
       " '176.194.214.104 - - [12/Dec/2015:19:09:36 +0100] GET /administrator/ HTTP/1.1 200 4263 - Mozilla/5.0 (Windows NT 6.0; rv:34.0) Gecko/20100101 Firefox/34.0 -',\n",
       " '176.194.214.104 - - [12/Dec/2015:19:09:36 +0100] POST /administrator/index.php HTTP/1.1 200 4494 http://almhuette-raith.at/administrator/ Mozilla/5.0 (Windows NT 6.0; rv:34.0) Gecko/20100101 Firefox/34.0 -',\n",
       " '189.16.1.18 - - [12/Dec/2015:19:12:25 +0100] GET /administrator/ HTTP/1.1 200 4263 - Mozilla/5.0 (Windows NT 6.0; rv:34.0) Gecko/20100101 Firefox/34.0 -',\n",
       " '189.16.1.18 - - [12/Dec/2015:19:12:26 +0100] POST /administrator/index.php HTTP/1.1 200 4494 http://almhuette-raith.at/administrator/ Mozilla/5.0 (Windows NT 6.0; rv:34.0) Gecko/20100101 Firefox/34.0 -',\n",
       " '177.6.184.110 - - [12/Dec/2015:19:17:18 +0100] GET /administrator/ HTTP/1.1 200 4263 - Mozilla/5.0 (Windows NT 6.0; rv:34.0) Gecko/20100101 Firefox/34.0 -',\n",
       " '177.6.184.110 - - [12/Dec/2015:19:17:18 +0100] POST /administrator/index.php HTTP/1.1 200 4494 http://almhuette-raith.at/administrator/ Mozilla/5.0 (Windows NT 6.0; rv:34.0) Gecko/20100101 Firefox/34.0 -',\n",
       " '81.88.222.215 - - [12/Dec/2015:19:20:57 +0100] GET /administrator/ HTTP/1.1 200 4263 - Mozilla/5.0 (Windows NT 6.0; rv:34.0) Gecko/20100101 Firefox/34.0 -',\n",
       " '81.88.222.215 - - [12/Dec/2015:19:20:57 +0100] POST /administrator/index.php HTTP/1.1 200 4494 http://almhuette-raith.at/administrator/ Mozilla/5.0 (Windows NT 6.0; rv:34.0) Gecko/20100101 Firefox/34.0 -',\n",
       " '66.249.66.19 - - [12/Dec/2015:19:23:59 +0100] GET /index.php?option=com_content&view=article&id=46&Itemid=54 HTTP/1.1 200 8932 - Mozilla/5.0 (compatible; Googlebot/2.1; +http://www.google.com/bot.html) -',\n",
       " '87.255.246.50 - - [12/Dec/2015:19:24:25 +0100] GET /administrator/ HTTP/1.1 200 4263 - Mozilla/5.0 (Windows NT 6.0; rv:34.0) Gecko/20100101 Firefox/34.0 -',\n",
       " '87.255.246.50 - - [12/Dec/2015:19:24:25 +0100] POST /administrator/index.php HTTP/1.1 200 4494 http://almhuette-raith.at/administrator/ Mozilla/5.0 (Windows NT 6.0; rv:34.0) Gecko/20100101 Firefox/34.0 -',\n",
       " '46.116.249.142 - - [12/Dec/2015:19:28:28 +0100] GET /administrator/ HTTP/1.1 200 4263 - Mozilla/5.0 (Windows NT 6.0; rv:34.0) Gecko/20100101 Firefox/34.0 -',\n",
       " '46.116.249.142 - - [12/Dec/2015:19:28:28 +0100] POST /administrator/index.php HTTP/1.1 200 4494 http://almhuette-raith.at/administrator/ Mozilla/5.0 (Windows NT 6.0; rv:34.0) Gecko/20100101 Firefox/34.0 -',\n",
       " '46.39.229.183 - - [12/Dec/2015:19:29:16 +0100] GET /administrator/ HTTP/1.1 200 4263 - Mozilla/5.0 (Windows NT 6.0; rv:34.0) Gecko/20100101 Firefox/34.0 -',\n",
       " '46.39.229.183 - - [12/Dec/2015:19:29:16 +0100] POST /administrator/index.php HTTP/1.1 200 4494 http://almhuette-raith.at/administrator/ Mozilla/5.0 (Windows NT 6.0; rv:34.0) Gecko/20100101 Firefox/34.0 -',\n",
       " '46.72.185.236 - - [12/Dec/2015:19:31:11 +0100] GET /administrator/ HTTP/1.1 200 4263 - Mozilla/5.0 (Windows NT 6.0; rv:34.0) Gecko/20100101 Firefox/34.0 -',\n",
       " '46.72.185.236 - - [12/Dec/2015:19:31:12 +0100] POST /administrator/index.php HTTP/1.1 200 4494 http://almhuette-raith.at/administrator/ Mozilla/5.0 (Windows NT 6.0; rv:34.0) Gecko/20100101 Firefox/34.0 -',\n",
       " '92.248.235.103 - - [12/Dec/2015:19:31:28 +0100] GET /administrator/ HTTP/1.1 200 4263 - Mozilla/5.0 (Windows NT 6.0; rv:34.0) Gecko/20100101 Firefox/34.0 -',\n",
       " '92.248.235.103 - - [12/Dec/2015:19:31:28 +0100] POST /administrator/index.php HTTP/1.1 200 4494 http://almhuette-raith.at/administrator/ Mozilla/5.0 (Windows NT 6.0; rv:34.0) Gecko/20100101 Firefox/34.0 -',\n",
       " '83.167.113.100 - - [12/Dec/2015:19:37:49 +0100] GET /administrator/ HTTP/1.1 200 4263 - Mozilla/5.0 (Windows NT 6.0; rv:34.0) Gecko/20100101 Firefox/34.0 -',\n",
       " '83.167.113.100 - - [12/Dec/2015:19:37:50 +0100] POST /administrator/index.php HTTP/1.1 200 4494 http://almhuette-raith.at/administrator/ Mozilla/5.0 (Windows NT 6.0; rv:34.0) Gecko/20100101 Firefox/34.0 -',\n",
       " '109.252.11.47 - - [12/Dec/2015:19:38:10 +0100] GET /administrator/ HTTP/1.1 200 4263 - Mozilla/5.0 (Windows NT 6.0; rv:34.0) Gecko/20100101 Firefox/34.0 -',\n",
       " '109.252.11.47 - - [12/Dec/2015:19:38:11 +0100] POST /administrator/index.php HTTP/1.1 200 4494 http://almhuette-raith.at/administrator/ Mozilla/5.0 (Windows NT 6.0; rv:34.0) Gecko/20100101 Firefox/34.0 -',\n",
       " '2.93.207.163 - - [12/Dec/2015:19:40:11 +0100] GET /administrator/ HTTP/1.1 200 4263 - Mozilla/5.0 (Windows NT 6.0; rv:34.0) Gecko/20100101 Firefox/34.0 -',\n",
       " '2.93.207.163 - - [12/Dec/2015:19:40:11 +0100] POST /administrator/index.php HTTP/1.1 200 4494 http://almhuette-raith.at/administrator/ Mozilla/5.0 (Windows NT 6.0; rv:34.0) Gecko/20100101 Firefox/34.0 -',\n",
       " '178.34.161.222 - - [12/Dec/2015:19:43:31 +0100] GET /administrator/ HTTP/1.1 200 4263 - Mozilla/5.0 (Windows NT 6.0; rv:34.0) Gecko/20100101 Firefox/34.0 -',\n",
       " '178.34.161.222 - - [12/Dec/2015:19:43:35 +0100] POST /administrator/index.php HTTP/1.1 200 4494 http://almhuette-raith.at/administrator/ Mozilla/5.0 (Windows NT 6.0; rv:34.0) Gecko/20100101 Firefox/34.0 -',\n",
       " '188.45.108.168 - - [12/Dec/2015:19:44:06 +0100] GET / HTTP/1.1 200 10479 http://www.almenland.at/almhuetten-mit-naechtigung.html Mozilla/5.0 (Linux; Android 4.4.2; de-at; SAMSUNG GT-I9301I Build/KOT49H) AppleWebKit/537.36 (KHTML, like Gecko) Version/1.5 Chrome/28.0.1500.94 Mobile Safari/537.36 -',\n",
       " '188.45.108.168 - - [12/Dec/2015:19:44:06 +0100] GET /modules/mod_bowslideshow/tmpl/css/bowslideshow.css HTTP/1.1 200 1725 http://www.almhuette-raith.at/ Mozilla/5.0 (Linux; Android 4.4.2; de-at; SAMSUNG GT-I9301I Build/KOT49H) AppleWebKit/537.36 (KHTML, like Gecko) Version/1.5 Chrome/28.0.1500.94 Mobile Safari/537.36 -',\n",
       " '188.45.108.168 - - [12/Dec/2015:19:44:06 +0100] GET /templates/_system/css/general.css HTTP/1.1 404 239 http://www.almhuette-raith.at/ Mozilla/5.0 (Linux; Android 4.4.2; de-at; SAMSUNG GT-I9301I Build/KOT49H) AppleWebKit/537.36 (KHTML, like Gecko) Version/1.5 Chrome/28.0.1500.94 Mobile Safari/537.36 -',\n",
       " '188.45.108.168 - - [12/Dec/2015:19:44:06 +0100] GET /templates/jp_hotel/css/template.css HTTP/1.1 200 10004 http://www.almhuette-raith.at/ Mozilla/5.0 (Linux; Android 4.4.2; de-at; SAMSUNG GT-I9301I Build/KOT49H) AppleWebKit/537.36 (KHTML, like Gecko) Version/1.5 Chrome/28.0.1500.94 Mobile Safari/537.36 -',\n",
       " '188.45.108.168 - - [12/Dec/2015:19:44:06 +0100] GET /templates/jp_hotel/css/layout.css HTTP/1.1 200 1801 http://www.almhuette-raith.at/ Mozilla/5.0 (Linux; Android 4.4.2; de-at; SAMSUNG GT-I9301I Build/KOT49H) AppleWebKit/537.36 (KHTML, like Gecko) Version/1.5 Chrome/28.0.1500.94 Mobile Safari/537.36 -',\n",
       " '188.45.108.168 - - [12/Dec/2015:19:44:06 +0100] GET /templates/jp_hotel/css/menu.css HTTP/1.1 200 1457 http://www.almhuette-raith.at/ Mozilla/5.0 (Linux; Android 4.4.2; de-at; SAMSUNG GT-I9301I Build/KOT49H) AppleWebKit/537.36 (KHTML, like Gecko) Version/1.5 Chrome/28.0.1500.94 Mobile Safari/537.36 -',\n",
       " '188.45.108.168 - - [12/Dec/2015:19:44:06 +0100] GET /templates/jp_hotel/css/suckerfish.css HTTP/1.1 200 3465 http://www.almhuette-raith.at/ Mozilla/5.0 (Linux; Android 4.4.2; de-at; SAMSUNG GT-I9301I Build/KOT49H) AppleWebKit/537.36 (KHTML, like Gecko) Version/1.5 Chrome/28.0.1500.94 Mobile Safari/537.36 -',\n",
       " '188.45.108.168 - - [12/Dec/2015:19:44:06 +0100] GET /media/system/js/caption.js HTTP/1.1 200 1963 http://www.almhuette-raith.at/ Mozilla/5.0 (Linux; Android 4.4.2; de-at; SAMSUNG GT-I9301I Build/KOT49H) AppleWebKit/537.36 (KHTML, like Gecko) Version/1.5 Chrome/28.0.1500.94 Mobile Safari/537.36 -',\n",
       " '188.45.108.168 - - [12/Dec/2015:19:44:06 +0100] GET /templates/jp_hotel/js/moomenu.js HTTP/1.1 200 4890 http://www.almhuette-raith.at/ Mozilla/5.0 (Linux; Android 4.4.2; de-at; SAMSUNG GT-I9301I Build/KOT49H) AppleWebKit/537.36 (KHTML, like Gecko) Version/1.5 Chrome/28.0.1500.94 Mobile Safari/537.36 -',\n",
       " '188.45.108.168 - - [12/Dec/2015:19:44:06 +0100] GET /modules/mod_bowslideshow/tmpl/js/sliderman.1.3.0.js HTTP/1.1 200 33472 http://www.almhuette-raith.at/ Mozilla/5.0 (Linux; Android 4.4.2; de-at; SAMSUNG GT-I9301I Build/KOT49H) AppleWebKit/537.36 (KHTML, like Gecko) Version/1.5 Chrome/28.0.1500.94 Mobile Safari/537.36 -',\n",
       " '188.45.108.168 - - [12/Dec/2015:19:44:06 +0100] GET /media/system/js/mootools.js HTTP/1.1 200 74434 http://www.almhuette-raith.at/ Mozilla/5.0 (Linux; Android 4.4.2; de-at; SAMSUNG GT-I9301I Build/KOT49H) AppleWebKit/537.36 (KHTML, like Gecko) Version/1.5 Chrome/28.0.1500.94 Mobile Safari/537.36 -',\n",
       " '188.45.108.168 - - [12/Dec/2015:19:44:06 +0100] GET /templates/jp_hotel/images/logo.jpg HTTP/1.1 200 369 http://www.almhuette-raith.at/ Mozilla/5.0 (Linux; Android 4.4.2; de-at; SAMSUNG GT-I9301I Build/KOT49H) AppleWebKit/537.36 (KHTML, like Gecko) Version/1.5 Chrome/28.0.1500.94 Mobile Safari/537.36 -',\n",
       " '188.45.108.168 - - [12/Dec/2015:19:44:07 +0100] GET /images/stories/slideshow/almhuette_raith_02.jpg HTTP/1.1 200 62918 http://www.almhuette-raith.at/ Mozilla/5.0 (Linux; Android 4.4.2; de-at; SAMSUNG GT-I9301I Build/KOT49H) AppleWebKit/537.36 (KHTML, like Gecko) Version/1.5 Chrome/28.0.1500.94 Mobile Safari/537.36 -',\n",
       " '188.45.108.168 - - [12/Dec/2015:19:44:07 +0100] GET /images/stories/raith/wohnraum.jpg HTTP/1.1 200 43586 http://www.almhuette-raith.at/ Mozilla/5.0 (Linux; Android 4.4.2; de-at; SAMSUNG GT-I9301I Build/KOT49H) AppleWebKit/537.36 (KHTML, like Gecko) Version/1.5 Chrome/28.0.1500.94 Mobile Safari/537.36 -',\n",
       " '188.45.108.168 - - [12/Dec/2015:19:44:07 +0100] GET /images/stories/slideshow/almhuette_raith_01.jpg HTTP/1.1 200 88161 http://www.almhuette-raith.at/ Mozilla/5.0 (Linux; Android 4.4.2; de-at; SAMSUNG GT-I9301I Build/KOT49H) AppleWebKit/537.36 (KHTML, like Gecko) Version/1.5 Chrome/28.0.1500.94 Mobile Safari/537.36 -',\n",
       " '188.45.108.168 - - [12/Dec/2015:19:44:08 +0100] GET /images/stories/raith/grillplatz.jpg HTTP/1.1 200 55303 http://www.almhuette-raith.at/ Mozilla/5.0 (Linux; Android 4.4.2; de-at; SAMSUNG GT-I9301I Build/KOT49H) AppleWebKit/537.36 (KHTML, like Gecko) Version/1.5 Chrome/28.0.1500.94 Mobile Safari/537.36 -',\n",
       " '188.45.108.168 - - [12/Dec/2015:19:44:08 +0100] GET /images/stories/raith/garage.jpg HTTP/1.1 200 57339 http://www.almhuette-raith.at/ Mozilla/5.0 (Linux; Android 4.4.2; de-at; SAMSUNG GT-I9301I Build/KOT49H) AppleWebKit/537.36 (KHTML, like Gecko) Version/1.5 Chrome/28.0.1500.94 Mobile Safari/537.36 -',\n",
       " '188.45.108.168 - - [12/Dec/2015:19:44:09 +0100] GET /images/stories/slideshow/almhuette_raith_03.jpg HTTP/1.1 200 87782 http://www.almhuette-raith.at/ Mozilla/5.0 (Linux; Android 4.4.2; de-at; SAMSUNG GT-I9301I Build/KOT49H) AppleWebKit/537.36 (KHTML, like Gecko) Version/1.5 Chrome/28.0.1500.94 Mobile Safari/537.36 -',\n",
       " '188.45.108.168 - - [12/Dec/2015:19:44:09 +0100] GET /images/stories/slideshow/almhuette_raith_06.jpg HTTP/1.1 200 68977 http://www.almhuette-raith.at/ Mozilla/5.0 (Linux; Android 4.4.2; de-at; SAMSUNG GT-I9301I Build/KOT49H) AppleWebKit/537.36 (KHTML, like Gecko) Version/1.5 Chrome/28.0.1500.94 Mobile Safari/537.36 -',\n",
       " '188.45.108.168 - - [12/Dec/2015:19:44:09 +0100] GET /images/stories/raith/almhuette_raith.jpg HTTP/1.1 200 43300 http://www.almhuette-raith.at/ Mozilla/5.0 (Linux; Android 4.4.2; de-at; SAMSUNG GT-I9301I Build/KOT49H) AppleWebKit/537.36 (KHTML, like Gecko) Version/1.5 Chrome/28.0.1500.94 Mobile Safari/537.36 -',\n",
       " '188.45.108.168 - - [12/Dec/2015:19:44:09 +0100] GET /modules/mod_bowslideshow/tmpl/images/image_shadow.png HTTP/1.1 200 5017 http://www.almhuette-raith.at/ Mozilla/5.0 (Linux; Android 4.4.2; de-at; SAMSUNG GT-I9301I Build/KOT49H) AppleWebKit/537.36 (KHTML, like Gecko) Version/1.5 Chrome/28.0.1500.94 Mobile Safari/537.36 -',\n",
       " '188.45.108.168 - - [12/Dec/2015:19:44:09 +0100] GET /templates/jp_hotel/images/content_heading.gif HTTP/1.1 200 69 http://www.almhuette-raith.at/ Mozilla/5.0 (Linux; Android 4.4.2; de-at; SAMSUNG GT-I9301I Build/KOT49H) AppleWebKit/537.36 (KHTML, like Gecko) Version/1.5 Chrome/28.0.1500.94 Mobile Safari/537.36 -',\n",
       " '188.45.108.168 - - [12/Dec/2015:19:44:09 +0100] GET /templates/jp_hotel/images/module_heading.gif HTTP/1.1 200 83 http://www.almhuette-raith.at/ Mozilla/5.0 (Linux; Android 4.4.2; de-at; SAMSUNG GT-I9301I Build/KOT49H) AppleWebKit/537.36 (KHTML, like Gecko) Version/1.5 Chrome/28.0.1500.94 Mobile Safari/537.36 -',\n",
       " '188.45.108.168 - - [12/Dec/2015:19:44:10 +0100] GET /images/stories/slideshow/almhuette_raith_05.jpg HTTP/1.1 200 77796 http://www.almhuette-raith.at/ Mozilla/5.0 (Linux; Android 4.4.2; de-at; SAMSUNG GT-I9301I Build/KOT49H) AppleWebKit/537.36 (KHTML, like Gecko) Version/1.5 Chrome/28.0.1500.94 Mobile Safari/537.36 -',\n",
       " '188.45.108.168 - - [12/Dec/2015:19:44:10 +0100] GET /images/stories/raith/almenland_logo.jpg HTTP/1.1 200 21490 http://www.almhuette-raith.at/ Mozilla/5.0 (Linux; Android 4.4.2; de-at; SAMSUNG GT-I9301I Build/KOT49H) AppleWebKit/537.36 (KHTML, like Gecko) Version/1.5 Chrome/28.0.1500.94 Mobile Safari/537.36 -',\n",
       " '188.45.108.168 - - [12/Dec/2015:19:44:10 +0100] GET /images/stories/raith/steiermark_herz.png HTTP/1.1 200 39683 http://www.almhuette-raith.at/ Mozilla/5.0 (Linux; Android 4.4.2; de-at; SAMSUNG GT-I9301I Build/KOT49H) AppleWebKit/537.36 (KHTML, like Gecko) Version/1.5 Chrome/28.0.1500.94 Mobile Safari/537.36 -',\n",
       " '188.45.108.168 - - [12/Dec/2015:19:44:10 +0100] GET /images/stories/slideshow/almhuette_raith_04.jpg HTTP/1.1 200 80637 http://www.almhuette-raith.at/ Mozilla/5.0 (Linux; Android 4.4.2; de-at; SAMSUNG GT-I9301I Build/KOT49H) AppleWebKit/537.36 (KHTML, like Gecko) Version/1.5 Chrome/28.0.1500.94 Mobile Safari/537.36 -',\n",
       " '188.45.108.168 - - [12/Dec/2015:19:44:10 +0100] GET /images/stories/raith/oststeiermark.png HTTP/1.1 200 65225 http://www.almhuette-raith.at/ Mozilla/5.0 (Linux; Android 4.4.2; de-at; SAMSUNG GT-I9301I Build/KOT49H) AppleWebKit/537.36 (KHTML, like Gecko) Version/1.5 Chrome/28.0.1500.94 Mobile Safari/537.36 -',\n",
       " '188.45.108.168 - - [12/Dec/2015:19:44:12 +0100] GET /images/stories/slideshow/almhuette_raith_07.jpg HTTP/1.1 200 94861 http://www.almhuette-raith.at/ Mozilla/5.0 (Linux; Android 4.4.2; de-at; SAMSUNG GT-I9301I Build/KOT49H) AppleWebKit/537.36 (KHTML, like Gecko) Version/1.5 Chrome/28.0.1500.94 Mobile Safari/537.36 -',\n",
       " '188.45.108.168 - - [12/Dec/2015:19:44:13 +0100] GET /images/bg_raith.jpg HTTP/1.1 200 329961 http://www.almhuette-raith.at/ Mozilla/5.0 (Linux; Android 4.4.2; de-at; SAMSUNG GT-I9301I Build/KOT49H) AppleWebKit/537.36 (KHTML, like Gecko) Version/1.5 Chrome/28.0.1500.94 Mobile Safari/537.36 -',\n",
       " '188.45.108.168 - - [12/Dec/2015:19:44:15 +0100] GET /favicon.ico HTTP/1.1 404 217 - Mozilla/5.0 (Linux; Android 4.4.2; de-at; SAMSUNG GT-I9301I Build/KOT49H) AppleWebKit/537.36 (KHTML, like Gecko) Version/1.5 Chrome/28.0.1500.94 Mobile Safari/537.36 -',\n",
       " '188.254.126.77 - - [12/Dec/2015:19:46:35 +0100] GET /administrator/ HTTP/1.1 200 4263 - Mozilla/5.0 (Windows NT 6.0; rv:34.0) Gecko/20100101 Firefox/34.0 -',\n",
       " '188.254.126.77 - - [12/Dec/2015:19:46:35 +0100] POST /administrator/index.php HTTP/1.1 200 4494 http://almhuette-raith.at/administrator/ Mozilla/5.0 (Windows NT 6.0; rv:34.0) Gecko/20100101 Firefox/34.0 -',\n",
       " '95.153.132.103 - - [12/Dec/2015:19:47:21 +0100] GET /administrator/ HTTP/1.1 200 4263 - Mozilla/5.0 (Windows NT 6.0; rv:34.0) Gecko/20100101 Firefox/34.0 -',\n",
       " '95.153.132.103 - - [12/Dec/2015:19:47:22 +0100] POST /administrator/index.php HTTP/1.1 200 4494 http://almhuette-raith.at/administrator/ Mozilla/5.0 (Windows NT 6.0; rv:34.0) Gecko/20100101 Firefox/34.0 -',\n",
       " '78.81.147.127 - - [12/Dec/2015:19:48:01 +0100] GET /administrator/ HTTP/1.1 200 4263 - Mozilla/5.0 (Windows NT 6.0; rv:34.0) Gecko/20100101 Firefox/34.0 -',\n",
       " '78.81.147.127 - - [12/Dec/2015:19:48:02 +0100] POST /administrator/index.php HTTP/1.1 200 4494 http://almhuette-raith.at/administrator/ Mozilla/5.0 (Windows NT 6.0; rv:34.0) Gecko/20100101 Firefox/34.0 -',\n",
       " '178.44.144.231 - - [12/Dec/2015:19:51:02 +0100] GET /administrator/ HTTP/1.1 200 4263 - Mozilla/5.0 (Windows NT 6.0; rv:34.0) Gecko/20100101 Firefox/34.0 -',\n",
       " '178.44.144.231 - - [12/Dec/2015:19:51:02 +0100] POST /administrator/index.php HTTP/1.1 200 4494 http://almhuette-raith.at/administrator/ Mozilla/5.0 (Windows NT 6.0; rv:34.0) Gecko/20100101 Firefox/34.0 -',\n",
       " '195.91.157.50 - - [12/Dec/2015:19:52:16 +0100] GET /administrator/ HTTP/1.1 200 4263 - Mozilla/5.0 (Windows NT 6.0; rv:34.0) Gecko/20100101 Firefox/34.0 -',\n",
       " '195.91.157.50 - - [12/Dec/2015:19:52:16 +0100] POST /administrator/index.php HTTP/1.1 200 4494 http://almhuette-raith.at/administrator/ Mozilla/5.0 (Windows NT 6.0; rv:34.0) Gecko/20100101 Firefox/34.0 -',\n",
       " '5.140.164.122 - - [12/Dec/2015:19:52:40 +0100] GET /administrator/ HTTP/1.0 200 4250 - Mozilla/5.0 (Windows NT 6.0; rv:34.0) Gecko/20100101 Firefox/34.0 -',\n",
       " '5.140.164.122 - - [12/Dec/2015:19:52:40 +0100] POST /administrator/index.php HTTP/1.0 200 4481 http://almhuette-raith.at/administrator/ Mozilla/5.0 (Windows NT 6.0; rv:34.0) Gecko/20100101 Firefox/34.0 -']"
      ]
     },
     "execution_count": 186,
     "metadata": {},
     "output_type": "execute_result"
    }
   ],
   "source": [
    "text_lines.take(150)"
   ]
  },
  {
   "cell_type": "markdown",
   "metadata": {},
   "source": [
    "# Parse timestamp to readable date"
   ]
  },
  {
   "cell_type": "code",
   "execution_count": 19,
   "metadata": {},
   "outputs": [],
   "source": [
    "import re\n",
    "date_codes = split_rdd.map(lambda row: (row[2], row[5]))\n"
   ]
  },
  {
   "cell_type": "code",
   "execution_count": 46,
   "metadata": {},
   "outputs": [
    {
     "data": {
      "text/plain": [
       "[(datetime.datetime(2015, 12, 12, 18, 25, 11, tzinfo=tzoffset(None, 3600)),\n",
       "  200),\n",
       " (datetime.datetime(2015, 12, 12, 18, 25, 11, tzinfo=tzoffset(None, 3600)),\n",
       "  200)]"
      ]
     },
     "execution_count": 46,
     "metadata": {},
     "output_type": "execute_result"
    }
   ],
   "source": [
    "date_codes.take(2)"
   ]
  },
  {
   "cell_type": "markdown",
   "metadata": {},
   "source": [
    "# Describe which HTTP status values appear in data and how many"
   ]
  },
  {
   "cell_type": "code",
   "execution_count": 48,
   "metadata": {},
   "outputs": [],
   "source": [
    "\n",
    "codes = date_codes.map(lambda line: line[1])"
   ]
  },
  {
   "cell_type": "code",
   "execution_count": 49,
   "metadata": {},
   "outputs": [],
   "source": [
    "\n",
    "code_counts = codes.map(lambda code: (code,1)).reduceByKey(lambda x, y: x + y).sortBy(lambda a: -a[1])\n",
    "\n"
   ]
  },
  {
   "cell_type": "code",
   "execution_count": 50,
   "metadata": {},
   "outputs": [
    {
     "data": {
      "text/plain": [
       "[(200, 1157832),\n",
       " (206, 939929),\n",
       " (404, 227101),\n",
       " (304, 6330),\n",
       " (500, 3252),\n",
       " (403, 2222),\n",
       " (301, 619),\n",
       " (303, 247),\n",
       " (401, 153),\n",
       " (501, 143),\n",
       " (405, 83),\n",
       " (406, 53),\n",
       " (400, 23),\n",
       " (412, 19)]"
      ]
     },
     "execution_count": 50,
     "metadata": {},
     "output_type": "execute_result"
    }
   ],
   "source": [
    "code_counts.collect()"
   ]
  },
  {
   "cell_type": "code",
   "execution_count": 51,
   "metadata": {},
   "outputs": [
    {
     "data": {
      "text/plain": [
       "[200, 200]"
      ]
     },
     "execution_count": 51,
     "metadata": {},
     "output_type": "execute_result"
    }
   ],
   "source": [
    "codes.take(2)"
   ]
  },
  {
   "cell_type": "markdown",
   "metadata": {},
   "source": [
    "# Display as chart the above stat in chart in Zeppelin notebook"
   ]
  },
  {
   "cell_type": "code",
   "execution_count": 70,
   "metadata": {},
   "outputs": [],
   "source": [
    "df = code_counts.toDF().toPandas()\n",
    "responses = df.iloc[:,0].values.astype(str)\n",
    "counts = df.iloc[:,1].values"
   ]
  },
  {
   "cell_type": "code",
   "execution_count": 72,
   "metadata": {},
   "outputs": [
    {
     "data": {
      "image/png": "[encoded data removed]",
      "text/plain": [
       "<Figure size 640x480 with 1 Axes>"
      ]
     },
     "metadata": {},
     "output_type": "display_data"
    }
   ],
   "source": [
    "import matplotlib.pyplot as plt\n",
    "plt.rcdefaults()\n",
    "\n",
    "import numpy as np\n",
    "\n",
    "y_pos = np.arange(len(responses))\n",
    "\n",
    "\n",
    "plt.bar(y_pos, counts, align='center', alpha=0.5, log = True)\n",
    "plt.xticks(y_pos, responses)\n",
    "plt.ylabel('Counts')\n",
    "plt.xlabel('Codes')\n",
    "\n",
    "plt.title('Log counts per status code')\n",
    "\n",
    "plt.show()"
   ]
  },
  {
   "cell_type": "markdown",
   "metadata": {},
   "source": [
    "# How many unique hosts are there in the entire log and their average request"
   ]
  },
  {
   "cell_type": "code",
   "execution_count": 21,
   "metadata": {},
   "outputs": [],
   "source": [
    "from urllib.parse import urlparse\n",
    "hosts = url_count_rdd.map(lambda row: (urlparse(row[0]).netloc, row[1]) )"
   ]
  },
  {
   "cell_type": "code",
   "execution_count": 212,
   "metadata": {},
   "outputs": [
    {
     "data": {
      "text/plain": [
       "11241"
      ]
     },
     "execution_count": 212,
     "metadata": {},
     "output_type": "execute_result"
    }
   ],
   "source": [
    "hosts.count()"
   ]
  },
  {
   "cell_type": "code",
   "execution_count": 215,
   "metadata": {},
   "outputs": [
    {
     "data": {
      "text/plain": [
       "4956"
      ]
     },
     "execution_count": 215,
     "metadata": {},
     "output_type": "execute_result"
    }
   ],
   "source": [
    "hosts_counts = hosts.reduceByKey(lambda x, y: x + y).sortBy(lambda a: -a[1])\n",
    "hosts_counts.count()"
   ]
  },
  {
   "cell_type": "code",
   "execution_count": 216,
   "metadata": {},
   "outputs": [
    {
     "data": {
      "text/html": [
       "<div>\n",
       "<style scoped>\n",
       "    .dataframe tbody tr th:only-of-type {\n",
       "        vertical-align: middle;\n",
       "    }\n",
       "\n",
       "    .dataframe tbody tr th {\n",
       "        vertical-align: top;\n",
       "    }\n",
       "\n",
       "    .dataframe thead th {\n",
       "        text-align: right;\n",
       "    }\n",
       "</style>\n",
       "<table border=\"1\" class=\"dataframe\">\n",
       "  <thead>\n",
       "    <tr style=\"text-align: right;\">\n",
       "      <th></th>\n",
       "      <th>_1</th>\n",
       "      <th>_2</th>\n",
       "    </tr>\n",
       "  </thead>\n",
       "  <tbody>\n",
       "    <tr>\n",
       "      <td>0</td>\n",
       "      <td>www.almhuette-raith.at</td>\n",
       "      <td>1207208</td>\n",
       "    </tr>\n",
       "    <tr>\n",
       "      <td>1</td>\n",
       "      <td>almhuette-raith.at</td>\n",
       "      <td>408303</td>\n",
       "    </tr>\n",
       "    <tr>\n",
       "      <td>2</td>\n",
       "      <td>www.jobboerse.com</td>\n",
       "      <td>3147</td>\n",
       "    </tr>\n",
       "    <tr>\n",
       "      <td>3</td>\n",
       "      <td>site.ru</td>\n",
       "      <td>2588</td>\n",
       "    </tr>\n",
       "    <tr>\n",
       "      <td>4</td>\n",
       "      <td>ALMHUETTE-RAITH.AT</td>\n",
       "      <td>1510</td>\n",
       "    </tr>\n",
       "    <tr>\n",
       "      <td>...</td>\n",
       "      <td>...</td>\n",
       "      <td>...</td>\n",
       "    </tr>\n",
       "    <tr>\n",
       "      <td>4951</td>\n",
       "      <td>www.pov4.com</td>\n",
       "      <td>1</td>\n",
       "    </tr>\n",
       "    <tr>\n",
       "      <td>4952</td>\n",
       "      <td>yaderenergy.ru</td>\n",
       "      <td>1</td>\n",
       "    </tr>\n",
       "    <tr>\n",
       "      <td>4953</td>\n",
       "      <td>acheter-nitroglycerin.comunidades.net</td>\n",
       "      <td>1</td>\n",
       "    </tr>\n",
       "    <tr>\n",
       "      <td>4954</td>\n",
       "      <td>betapace-kaufen.page.tl</td>\n",
       "      <td>1</td>\n",
       "    </tr>\n",
       "    <tr>\n",
       "      <td>4955</td>\n",
       "      <td>acquistare-danazol.comunidades.net</td>\n",
       "      <td>1</td>\n",
       "    </tr>\n",
       "  </tbody>\n",
       "</table>\n",
       "<p>4956 rows × 2 columns</p>\n",
       "</div>"
      ],
      "text/plain": [
       "                                         _1       _2\n",
       "0                    www.almhuette-raith.at  1207208\n",
       "1                        almhuette-raith.at   408303\n",
       "2                         www.jobboerse.com     3147\n",
       "3                                   site.ru     2588\n",
       "4                        ALMHUETTE-RAITH.AT     1510\n",
       "...                                     ...      ...\n",
       "4951                           www.pov4.com        1\n",
       "4952                         yaderenergy.ru        1\n",
       "4953  acheter-nitroglycerin.comunidades.net        1\n",
       "4954                betapace-kaufen.page.tl        1\n",
       "4955     acquistare-danazol.comunidades.net        1\n",
       "\n",
       "[4956 rows x 2 columns]"
      ]
     },
     "execution_count": 216,
     "metadata": {},
     "output_type": "execute_result"
    }
   ],
   "source": [
    "hosts_counts.toDF().toPandas()"
   ]
  },
  {
   "cell_type": "code",
   "execution_count": null,
   "metadata": {},
   "outputs": [],
   "source": []
  }
 ],
 "metadata": {
  "kernelspec": {
   "display_name": "Python 3",
   "language": "python",
   "name": "python3"
  },
  "language_info": {
   "codemirror_mode": {
    "name": "ipython",
    "version": 3
   },
   "file_extension": ".py",
   "mimetype": "text/x-python",
   "name": "python",
   "nbconvert_exporter": "python",
   "pygments_lexer": "ipython3",
   "version": "3.7.3"
  }
 },
 "nbformat": 4,
 "nbformat_minor": 2
}
