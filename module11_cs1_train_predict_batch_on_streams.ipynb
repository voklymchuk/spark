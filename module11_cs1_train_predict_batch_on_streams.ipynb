{
 "cells": [
  {
   "cell_type": "markdown",
   "metadata": {},
   "source": [
    "# Streaming ML Pipeline for Online Spam Detection on Streaming Data Using Apache APIs: Spark, Kafka, Spark Streaming and Structured Streaming"
   ]
  },
  {
   "cell_type": "markdown",
   "metadata": {},
   "source": [
    "In this post, we will go over the following:\n",
    "\n",
    "Running Pyspark in Colab\n",
    "Overview of spark streaming and structured streaming concepts\n",
    "Building feature vectors from text documents\n",
    "Training a machine learning model to classify text as spam/not spam using logistic regression\n",
    "Evaluating and saving the machine learning model"
   ]
  },
  {
   "cell_type": "markdown",
   "metadata": {},
   "source": [
    "The following example demonstrates how to load training and testing data from two different input streams of text files, parse the streams, fit a logistic regression model online to the first stream, and make predictions on the second stream."
   ]
  },
  {
   "cell_type": "markdown",
   "metadata": {},
   "source": [
    "# Training Batch Model on Streaming Data and Serving Online  Predictions "
   ]
  },
  {
   "cell_type": "markdown",
   "metadata": {},
   "source": [
    "# Batch Logistic Regression model on streaming data"
   ]
  },
  {
   "cell_type": "markdown",
   "metadata": {},
   "source": [
    "Apache Spark was build to analyze Big Data with faster speed. One of the important features that Apache Spark offers is the ability to run the computations in memory. \n",
    "PySpark is the interface that gives access to Spark using the Python programming language. PySpark is an API developed in python for spark programming and writing spark applications in Python style"
   ]
  },
  {
   "cell_type": "markdown",
   "metadata": {},
   "source": [
    "In this effort, we will mostly deal with the PySpark ml - machine learning library that can be used to import the Logistic Regression model or other machine learning models."
   ]
  },
  {
   "cell_type": "markdown",
   "metadata": {},
   "source": [
    "# Running Pyspark in Colab"
   ]
  },
  {
   "cell_type": "markdown",
   "metadata": {},
   "source": [
    "Google Colab?\n",
    "Colab by Google is based on Jupyter Notebook which is an incredibly powerful tool that leverages google docs features. Since it runs on google server, we don't need to install anything in our system locally, be it Spark or deep learning model. The most attractive features of Colab are the free GPU and TPU support! Since the GPU support runs on Google's own server, it is, in fact, faster than some commercially available GPUs like the Nvidia 1050Ti. "
   ]
  },
  {
   "cell_type": "markdown",
   "metadata": {},
   "source": [
    "Let’s create a simple logistic regression model with PySpark in Google Colab. To open Colab Jupyter Notebook, click on this link."
   ]
  },
  {
   "cell_type": "code",
   "execution_count": 1,
   "metadata": {
    "collapsed": true
   },
   "outputs": [
    {
     "name": "stdout",
     "output_type": "stream",
     "text": [
      "/bin/sh: apt-get: command not found\n",
      "^C\n",
      "tar: Error opening archive: Failed to open 'spark-2.4.4-bin-hadoop2.7.tgz'\n"
     ]
    }
   ],
   "source": [
    "!apt-get install openjdk-8-jdk-headless -qq > /dev/null\n",
    "!wget -q https://www-us.apache.org/dist/spark/spark-2.4.4/spark-2.4.4-bin-hadoop2.7.tgz\n",
    "!tar xf spark-2.4.4-bin-hadoop2.7.tgz\n",
    "!pip install -q findspark pyspark2pmml"
   ]
  },
  {
   "cell_type": "code",
   "execution_count": 2,
   "metadata": {},
   "outputs": [],
   "source": [
    "import os\n",
    "# Apache Hadoop 3.x now supports only Java 8\n",
    "os.environ[\"JAVA_HOME\"] = \"/usr/lib/jvm/java-8-openjdk-amd64\"\n",
    "os.environ[\"SPARK_HOME\"] = \"/content/spark-2.4.4-bin-hadoop2.7\""
   ]
  },
  {
   "cell_type": "code",
   "execution_count": 3,
   "metadata": {
    "collapsed": true
   },
   "outputs": [
    {
     "ename": "IndexError",
     "evalue": "list index out of range",
     "output_type": "error",
     "traceback": [
      "\u001b[0;31m---------------------------------------------------------------------------\u001b[0m",
      "\u001b[0;31mIndexError\u001b[0m                                Traceback (most recent call last)",
      "\u001b[0;32m<ipython-input-3-4e91d34768ac>\u001b[0m in \u001b[0;36m<module>\u001b[0;34m\u001b[0m\n\u001b[1;32m      1\u001b[0m \u001b[0;32mimport\u001b[0m \u001b[0mfindspark\u001b[0m\u001b[0;34m\u001b[0m\u001b[0;34m\u001b[0m\u001b[0m\n\u001b[0;32m----> 2\u001b[0;31m \u001b[0mfindspark\u001b[0m\u001b[0;34m.\u001b[0m\u001b[0minit\u001b[0m\u001b[0;34m(\u001b[0m\u001b[0;34m)\u001b[0m\u001b[0;34m\u001b[0m\u001b[0;34m\u001b[0m\u001b[0m\n\u001b[0m",
      "\u001b[0;32m~/opt/anaconda3/envs/beam/lib/python3.7/site-packages/findspark.py\u001b[0m in \u001b[0;36minit\u001b[0;34m(spark_home, python_path, edit_rc, edit_profile)\u001b[0m\n\u001b[1;32m    133\u001b[0m     \u001b[0;31m# add pyspark to sys.path\u001b[0m\u001b[0;34m\u001b[0m\u001b[0;34m\u001b[0m\u001b[0;34m\u001b[0m\u001b[0m\n\u001b[1;32m    134\u001b[0m     \u001b[0mspark_python\u001b[0m \u001b[0;34m=\u001b[0m \u001b[0mos\u001b[0m\u001b[0;34m.\u001b[0m\u001b[0mpath\u001b[0m\u001b[0;34m.\u001b[0m\u001b[0mjoin\u001b[0m\u001b[0;34m(\u001b[0m\u001b[0mspark_home\u001b[0m\u001b[0;34m,\u001b[0m \u001b[0;34m'python'\u001b[0m\u001b[0;34m)\u001b[0m\u001b[0;34m\u001b[0m\u001b[0;34m\u001b[0m\u001b[0m\n\u001b[0;32m--> 135\u001b[0;31m     \u001b[0mpy4j\u001b[0m \u001b[0;34m=\u001b[0m \u001b[0mglob\u001b[0m\u001b[0;34m(\u001b[0m\u001b[0mos\u001b[0m\u001b[0;34m.\u001b[0m\u001b[0mpath\u001b[0m\u001b[0;34m.\u001b[0m\u001b[0mjoin\u001b[0m\u001b[0;34m(\u001b[0m\u001b[0mspark_python\u001b[0m\u001b[0;34m,\u001b[0m \u001b[0;34m'lib'\u001b[0m\u001b[0;34m,\u001b[0m \u001b[0;34m'py4j-*.zip'\u001b[0m\u001b[0;34m)\u001b[0m\u001b[0;34m)\u001b[0m\u001b[0;34m[\u001b[0m\u001b[0;36m0\u001b[0m\u001b[0;34m]\u001b[0m\u001b[0;34m\u001b[0m\u001b[0;34m\u001b[0m\u001b[0m\n\u001b[0m\u001b[1;32m    136\u001b[0m     \u001b[0msys\u001b[0m\u001b[0;34m.\u001b[0m\u001b[0mpath\u001b[0m\u001b[0;34m[\u001b[0m\u001b[0;34m:\u001b[0m\u001b[0;36m0\u001b[0m\u001b[0;34m]\u001b[0m \u001b[0;34m=\u001b[0m \u001b[0;34m[\u001b[0m\u001b[0mspark_python\u001b[0m\u001b[0;34m,\u001b[0m \u001b[0mpy4j\u001b[0m\u001b[0;34m]\u001b[0m\u001b[0;34m\u001b[0m\u001b[0;34m\u001b[0m\u001b[0m\n\u001b[1;32m    137\u001b[0m \u001b[0;34m\u001b[0m\u001b[0m\n",
      "\u001b[0;31mIndexError\u001b[0m: list index out of range"
     ]
    }
   ],
   "source": [
    "import findspark\n",
    "findspark.init()\n"
   ]
  },
  {
   "cell_type": "markdown",
   "metadata": {},
   "source": [
    "## Spark ML Workflow"
   ]
  },
  {
   "cell_type": "markdown",
   "metadata": {},
   "source": [
    "![alt text](presentation/SparkMLworkflow.png \"Title\")"
   ]
  },
  {
   "cell_type": "code",
   "execution_count": 1,
   "metadata": {},
   "outputs": [],
   "source": [
    "import os\n",
    "# location to stream train data from \n",
    "train_csv_dir = os.getcwd()+\"/module11_cs1/train_data_csv\"\n",
    "# location to stream test data from\n",
    "test_csv_dir = os.getcwd()+\"/module11_cs1/test_data_csv\""
   ]
  },
  {
   "cell_type": "code",
   "execution_count": 2,
   "metadata": {},
   "outputs": [],
   "source": [
    "# create training and testing dirs if they do not exist\n",
    "if not os.path.exists(train_csv_dir):\n",
    "    os.makedirs(train_csv_dir)\n",
    "\n",
    "if not os.path.exists(test_csv_dir):\n",
    "    os.makedirs(test_csv_dir)"
   ]
  },
  {
   "cell_type": "markdown",
   "metadata": {},
   "source": [
    "Our Colab is ready to run PySpark. Let's build a simple Logistic Regression model."
   ]
  },
  {
   "cell_type": "markdown",
   "metadata": {},
   "source": [
    "# Import libraries"
   ]
  },
  {
   "cell_type": "code",
   "execution_count": 3,
   "metadata": {},
   "outputs": [],
   "source": [
    "import os\n",
    "#import pyspark\n",
    "import sys\n",
    "import re\n",
    "\n",
    "import pandas as pd\n",
    "import numpy as np\n",
    "import time\n",
    "\n",
    "\n",
    "from pyspark import SparkConf,SparkContext\n",
    "from pyspark.streaming import StreamingContext\n",
    "\n",
    "from pyspark.streaming.kafka import KafkaUtils\n",
    "from pyspark.context import SparkContext\n",
    "\n",
    "from pyspark.sql.session import SparkSession\n",
    "from pyspark.sql import SQLContext\n",
    "from pyspark.sql.types import StructType\n",
    "from pyspark.sql import functions as f\n",
    "\n",
    "from pyspark.ml import Pipeline, PipelineModel\n",
    "from pyspark.ml.feature import Tokenizer\n",
    "from pyspark.ml.feature import StopWordsRemover\n",
    "from pyspark.ml.feature import HashingTF\n",
    "from pyspark.ml.feature import OneHotEncoder, StringIndexer\n",
    "from pyspark.ml.classification import DecisionTreeClassifier\n",
    "from pyspark.ml.classification import RandomForestClassificationModel, RandomForestClassifier\n",
    "from pyspark.ml.classification import LogisticRegression\n",
    "from pyspark.ml.tuning import CrossValidator, ParamGridBuilder\n",
    "from pyspark.ml.evaluation import BinaryClassificationEvaluator\n",
    "from pyspark.ml.linalg import Vectors, SparseVector, DenseVector\n",
    "from pyspark.ml.tuning import ParamGridBuilder, TrainValidationSplit\n",
    "from pyspark.ml.evaluation import BinaryClassificationEvaluator\n",
    "\n",
    "\n",
    "from pyspark.mllib.evaluation import BinaryClassificationMetrics as metric\n",
    "from sklearn.metrics import roc_curve, auc\n",
    "import matplotlib.pyplot as plt\n",
    "\n",
    "from pyspark2pmml import PMMLBuilder\n",
    "\n",
    "%matplotlib inline\n"
   ]
  },
  {
   "cell_type": "markdown",
   "metadata": {},
   "source": [
    "# Define global variables"
   ]
  },
  {
   "cell_type": "code",
   "execution_count": 4,
   "metadata": {},
   "outputs": [],
   "source": [
    "os.environ['PYSPARK_SUBMIT_ARGS'] = '--jars jpmml-sparkml-executable-1.5.7.jar --packages org.apache.spark:spark-sql-kafka-0-10_2.11:2.4.3 pyspark-shell'\n",
    "\n",
    "userSchema = StructType().add(\"spam\", \"string\").add(\"message\", \"string\")\n",
    "\n",
    "dataset_df = None\n",
    "# alternatilvelly, start with an intitial dataset\n",
    "# dataset_df = sc.textFile(\"gs://drive3/data/spark/8_cs1_dataset/SMSSpamCollection\").map(lambda line: re.split('\\t', line)).toDF([\"spam\", \"message\"])  \n",
    "\n",
    "checkpointDirectory = \"chkpnt\"\n",
    "\n",
    "spark = None\n",
    "\n",
    "model = None\n",
    "\n",
    "prev_length = 0\n",
    "\n",
    "graph_flag = True\n",
    "\n",
    "evaluate = True\n",
    "# duration of training a model on entire batch dataset\n",
    "train_duration = 15  # train a model every n seconds\n"
   ]
  },
  {
   "cell_type": "markdown",
   "metadata": {},
   "source": [
    "## Training model in time intervals using Spark Streaming"
   ]
  },
  {
   "cell_type": "markdown",
   "metadata": {},
   "source": [
    "For a Spark Streaming application running on a cluster to be stable, the system should be able to process data as fast as it is being received, so the batch processing time should be less than the batch interval.\n",
    "The batch interval needs to be set such that the expected data rate in production can be sustained.\n",
    "We will test it with a conservative batch interval (say, 5-20 seconds) and a low data rate. To verify whether the system is able to keep up with the data rate."
   ]
  },
  {
   "cell_type": "code",
   "execution_count": 5,
   "metadata": {},
   "outputs": [],
   "source": [
    "\n",
    "\n",
    "def train(rdd):\n",
    "    global dataset_df\n",
    "    global model\n",
    "    global prev_length\n",
    "    global evaluate\n",
    "    global crossval_full\n",
    "    global graph_flag\n",
    "\n",
    "    if dataset_df.count() > prev_length:\n",
    "        prev_length = dataset_df.count()\n",
    "\n",
    "        if evaluate == True:\n",
    "            # Split to train and test\n",
    "            (trainingData, testData) = dataset_df.randomSplit([0.7, 0.3], seed=0)\n",
    "        else:\n",
    "            trainingData = dataset_df\n",
    "\n",
    "        my_train_df = trainingData\n",
    "\n",
    "        print(\"\\n\\nStarting to fit a model on \" + str(my_train_df.count()) +\" records\")\n",
    "        \n",
    "        model = crossval_full.fit(my_train_df)\n",
    "        print(\"Model fit compleeted\\n\")\n",
    "        \n",
    "        if evaluate == True:\n",
    "            predictions = model.transform(testData)\n",
    "            evaluator = BinaryClassificationEvaluator().setLabelCol(\"label\").setRawPredictionCol(\"prediction\").setMetricName(\"areaUnderROC\")\n",
    "            accuracy = evaluator.evaluate(predictions)\n",
    "            print(\"Evalluated on \"+ str(predictions.count()) +\" records\")\n",
    "            print (\"Accuracy\", accuracy)\n",
    "            \n",
    "            if graph_flag:\n",
    "                # plot graph once only ! after first training\n",
    "                plot_roc(predictions)\n",
    "                graph_flag = False\n",
    "\n",
    "                \n"
   ]
  },
  {
   "cell_type": "markdown",
   "metadata": {},
   "source": [
    "![alt text](presentation/trainValidate.png \"Title\")"
   ]
  },
  {
   "cell_type": "markdown",
   "metadata": {},
   "source": [
    "## Starting and Checkpointing StreamingContext for fault-tolerant spark streaming"
   ]
  },
  {
   "cell_type": "code",
   "execution_count": 6,
   "metadata": {},
   "outputs": [],
   "source": [
    "\n",
    "\n",
    "# Function to create and setup a new StreamingContext\n",
    "def functionToCreateContext():\n",
    "    global spark\n",
    "    global sc\n",
    "    global dataset_df\n",
    "    global userSchema\n",
    "    global train_duration\n",
    "    \n",
    "    sc = SparkContext(\"local[2]\", \"Batch_Model_on_Stream_Data\")  # new context\n",
    "    ssc = StreamingContext(sc, train_duration)\n",
    "    \n",
    "    spark = SparkSession(sc)\n",
    "    sqlContext = SQLContext(sc)\n",
    "    # create an empty datframe\n",
    "    dataset_df = sqlContext.createDataFrame(sc.emptyRDD(), userSchema)\n",
    "\n",
    "    emptly_stream = ssc.queueStream([dataset_df.limit(1).rdd], oneAtATime=True, default=dataset_df.limit(1).rdd)  # create DStream\n",
    "    emptly_stream.foreachRDD(train)\n",
    "    ssc.start() \n",
    "\n",
    "    ssc.checkpoint(checkpointDirectory)  # set checkpoint directory\n",
    "    return ssc\n",
    "\n"
   ]
  },
  {
   "cell_type": "code",
   "execution_count": 7,
   "metadata": {},
   "outputs": [],
   "source": [
    "# Get StreamingContext from checkpoint data or create a new one\n",
    "context = StreamingContext.getOrCreate(checkpointDirectory, functionToCreateContext)"
   ]
  },
  {
   "cell_type": "code",
   "execution_count": 8,
   "metadata": {},
   "outputs": [
    {
     "data": {
      "text/html": [
       "\n",
       "        <div>\n",
       "            <p><b>SparkContext</b></p>\n",
       "\n",
       "            <p><a href=\"http://valeriis-mini.fios-router.home:4040\">Spark UI</a></p>\n",
       "\n",
       "            <dl>\n",
       "              <dt>Version</dt>\n",
       "                <dd><code>v2.4.4</code></dd>\n",
       "              <dt>Master</dt>\n",
       "                <dd><code>local[2]</code></dd>\n",
       "              <dt>AppName</dt>\n",
       "                <dd><code>Batch_Model_on_Stream_Data</code></dd>\n",
       "            </dl>\n",
       "        </div>\n",
       "        "
      ],
      "text/plain": [
       "<SparkContext master=local[2] appName=Batch_Model_on_Stream_Data>"
      ]
     },
     "execution_count": 8,
     "metadata": {},
     "output_type": "execute_result"
    }
   ],
   "source": [
    "sc"
   ]
  },
  {
   "cell_type": "markdown",
   "metadata": {},
   "source": [
    "## Cross-validation Model Pipeline definition"
   ]
  },
  {
   "cell_type": "code",
   "execution_count": 9,
   "metadata": {},
   "outputs": [],
   "source": [
    "from pyspark.ml.feature import CountVectorizer, CountVectorizerModel\n",
    "\n",
    "indexer = StringIndexer().setInputCol(\"spam\").setOutputCol(\"label\")\n",
    "# Extract words\n",
    "tokenizer = Tokenizer().setInputCol(\"message\").setOutputCol(\"words\")\n",
    "# Remove custom stopwords\n",
    "stopwords = StopWordsRemover().getStopWords() + [\"-\"]\n",
    "remover = StopWordsRemover().setStopWords(stopwords).setInputCol(\"words\").setOutputCol(\"filtered\")\n",
    "# create features\n",
    "# cvmodel = CountVectorizer().setInputCol(\"filtered\").setOutputCol(\"features\")\n",
    "hashingTF = HashingTF(numFeatures=10, inputCol=\"filtered\", outputCol=\"features\")\n",
    "rf = RandomForestClassifier().setFeaturesCol(\"features\").setNumTrees(10)\n",
    "#dt = DecisionTreeClassifier()\n",
    "lr = LogisticRegression(maxIter=10)\n",
    "\n",
    "full_pipeline = Pipeline().setStages([ indexer, tokenizer, remover, hashingTF, lr])\n",
    "\n",
    "\n",
    "paramGrid = ParamGridBuilder() \\\n",
    ".addGrid(hashingTF.numFeatures, [10, 100, 1000]) \\\n",
    ".addGrid(lr.regParam, [0.1, 0.01]) \\\n",
    ".build()\n",
    "\n",
    "\n",
    "crossval_full = CrossValidator(estimator=full_pipeline,\n",
    "                            estimatorParamMaps=paramGrid,\n",
    "                            evaluator=BinaryClassificationEvaluator(),\n",
    "                            numFolds=2)  # use 3+ folds in practice\n",
    "\n"
   ]
  },
  {
   "cell_type": "markdown",
   "metadata": {},
   "source": [
    "We will use an ML Pipeline to pass the data through transformers in order to extract the features and an estimator to produce the model.\n",
    "\n",
    "Transformer: A transformer is an algorithm that transforms one DataFrame into another DataFrame. We will use transformers to get a DataFrame with a features vector column.\n",
    "Estimator: An estimator is an algorithm that can be fit on a DataFrame to produce a transformer. We will use an estimator to train a model, which can transform input data to get predictions.\n",
    "Pipeline: A pipeline chains multiple transformers and estimators together to specify an ML workflow."
   ]
  },
  {
   "cell_type": "markdown",
   "metadata": {},
   "source": [
    "![alt text](presentation/pipeline.png \"Title\")"
   ]
  },
  {
   "cell_type": "code",
   "execution_count": 10,
   "metadata": {},
   "outputs": [],
   "source": [
    "def plot_roc(predictions):\n",
    "    \n",
    "    results = predictions.select(['probability', 'label'])\n",
    "\n",
    "    ## prepare score-label set\n",
    "    results_collect = results.collect()\n",
    "    results_list = [(float(i[0][0]), 1.0-float(i[1])) for i in results_collect]\n",
    "    scoreAndLabels = sc.parallelize(results_list)\n",
    "\n",
    "    metrics = metric(scoreAndLabels)\n",
    "    print(\"\\nTest Data Aread under ROC score is : \", metrics.areaUnderROC, \"\\n\")\n",
    "            \n",
    " \n",
    "    fpr = dict()\n",
    "    tpr = dict()\n",
    "    roc_auc = dict()\n",
    "\n",
    "    y_test = [i[1] for i in results_list]\n",
    "    y_score = [i[0] for i in results_list]\n",
    "\n",
    "    fpr, tpr, _ = roc_curve(y_test, y_score)\n",
    "    roc_auc = auc(fpr, tpr)\n",
    "\n",
    "    %matplotlib inline\n",
    "    plt.figure(figsize=(8,8))\n",
    "    plt.plot(fpr, tpr, label='ROC curve (area = %0.2f)' % roc_auc)\n",
    "    plt.plot([0, 1], [0, 1], 'k--')\n",
    "    plt.xlim([0.0, 1.0])\n",
    "    plt.ylim([0.0, 1.05])\n",
    "    plt.xlabel('False Positive Rate')\n",
    "    plt.ylabel('True Positive Rate')\n",
    "    plt.title('Receiver operating characteristic Graph')\n",
    "    plt.legend(loc=\"lower right\")\n",
    "    plt.show()\n",
    "\n"
   ]
  },
  {
   "cell_type": "markdown",
   "metadata": {},
   "source": [
    "## Machine Learning Workflow"
   ]
  },
  {
   "cell_type": "markdown",
   "metadata": {},
   "source": [
    "![alt text](presentation/MachineLearningWorkflow.png \"Title\")"
   ]
  },
  {
   "cell_type": "markdown",
   "metadata": {},
   "source": [
    "# Stream training data form a directory of csv files"
   ]
  },
  {
   "cell_type": "code",
   "execution_count": 11,
   "metadata": {},
   "outputs": [],
   "source": [
    "# Append dataset_df with data from each batch\n",
    "def sendPartition(df, epoch_id):\n",
    "    global dataset_df\n",
    "    \n",
    "    if not len(df.head(1)) == 0:\n",
    "        dataset_df = df.union(dataset_df)\n"
   ]
  },
  {
   "cell_type": "code",
   "execution_count": 12,
   "metadata": {},
   "outputs": [
    {
     "name": "stdout",
     "output_type": "stream",
     "text": [
      "\n",
      "\n",
      "Starting to fit a model on 3920 records\n",
      "Model fit compleeted\n",
      "\n",
      "Evalluated on 1654 records\n",
      "Accuracy 0.8895487298485588\n",
      "\n",
      "Test Data Aread under ROC score is :  0.980227161700049\n"
     ]
    },
    {
     "data": {
      "image/png": "[encoded data removed]",
      "text/plain": [
       "<Figure size 576x576 with 1 Axes>"
      ]
     },
     "metadata": {
      "needs_background": "light"
     },
     "output_type": "display_data"
    }
   ],
   "source": [
    "# screen subfolders in working directory for new csv files\n",
    "# and append new batches or raw data to dataset_df\n",
    "df = spark \\\n",
    "    .readStream \\\n",
    "    .option(\"sep\", \"\\t\") \\\n",
    "    .schema(userSchema)  \\\n",
    "    .csv(train_csv_dir) \\\n",
    "    .writeStream.foreachBatch(sendPartition)\\\n",
    "    .start()\n",
    "\n",
    "# allow first training to finish\n",
    "time.sleep(train_duration*4)"
   ]
  },
  {
   "cell_type": "code",
   "execution_count": null,
   "metadata": {},
   "outputs": [],
   "source": [
    "# alternativelly, subscribe to a kafka topic\n",
    "#df = spark \\\n",
    "#    .readStream \\\n",
    "#    .format(\"kafka\") \\\n",
    "#    .option(\"kafka.bootstrap.servers\", \"localhost:9092\") \\\n",
    "#    .option(\"subscribe\", \"sample-topic\") \\\n",
    "#    .option(\"startingOffsets\", \"earliest\") \\\n",
    "#    .load()\n",
    "\n",
    "#df = df.selectExpr( \"CAST(value AS STRING)\")\n",
    "\n",
    "# split text lines into two fields\n",
    "#split_col = f.split(df['value'], '\\t')\n",
    "#df = df.withColumn('spam', split_col.getItem(0)).withColumn('message', split_col.getItem(1))\n",
    "#df = df.select(['spam', 'message'])\n"
   ]
  },
  {
   "cell_type": "markdown",
   "metadata": {},
   "source": [
    "# Serve real-time predictions with structured streaming"
   ]
  },
  {
   "cell_type": "markdown",
   "metadata": {},
   "source": [
    "![alt text](presentation/structured-streaming-kafka-blog-image-1-overview.png \"Title\")"
   ]
  },
  {
   "cell_type": "markdown",
   "metadata": {},
   "source": [
    "\n",
    "Now we register the stream for testing and start the job."
   ]
  },
  {
   "cell_type": "code",
   "execution_count": 13,
   "metadata": {},
   "outputs": [],
   "source": [
    "# compute predictions on every batch\n",
    "def predict(df, epoch_id):\n",
    "    global model\n",
    "    \n",
    "    if not len(df.head(1)) == 0:\n",
    "        if not model == None:\n",
    "            print(\"Predictions:\")\n",
    "            predictions = model.transform(df)['spam', 'message','label', 'prediction', 'probability']\n",
    "            # print predictions to the console\n",
    "            predictions.show()\n",
    "\n",
    "        else:\n",
    "            print(\"Model has not seen training data yet, therefore - no model exists\")"
   ]
  },
  {
   "cell_type": "code",
   "execution_count": 14,
   "metadata": {},
   "outputs": [],
   "source": [
    "# output predictions to foreachBatch sink\n",
    "df_test = spark \\\n",
    "    .readStream \\\n",
    "    .option(\"sep\", \"\\t\") \\\n",
    "    .schema(userSchema)  \\\n",
    "    .csv(test_csv_dir)\\\n",
    "    .writeStream.foreachBatch(predict)\\\n",
    "    .start()\n",
    "\n"
   ]
  },
  {
   "cell_type": "code",
   "execution_count": 15,
   "metadata": {},
   "outputs": [
    {
     "name": "stdout",
     "output_type": "stream",
     "text": [
      "Predictions:\n",
      "+----+--------------------+-----+----------+--------------------+\n",
      "|spam|             message|label|prediction|         probability|\n",
      "+----+--------------------+-----+----------+--------------------+\n",
      "| ham|Go until jurong p...|  0.0|       0.0|[0.98331389758221...|\n",
      "| ham|Ok lar... Joking ...|  0.0|       0.0|[0.98191730875921...|\n",
      "|spam|Free entry in 2 a...|  1.0|       1.0|[0.01857597772401...|\n",
      "| ham|U dun say so earl...|  0.0|       0.0|[0.97832246220121...|\n",
      "| ham|Nah I don't think...|  0.0|       0.0|[0.94812958970465...|\n",
      "|spam|FreeMsg Hey there...|  1.0|       1.0|[0.36635076043752...|\n",
      "| ham|Even my brother i...|  0.0|       0.0|[0.96741317460673...|\n",
      "| ham|As per your reque...|  0.0|       0.0|[0.94712526066206...|\n",
      "|spam|WINNER!! As a val...|  1.0|       1.0|[0.05101474425265...|\n",
      "|spam|Had your mobile 1...|  1.0|       1.0|[0.06212898426081...|\n",
      "| ham|I'm gonna be home...|  0.0|       0.0|[0.99140294905419...|\n",
      "|spam|SIX chances to wi...|  1.0|       1.0|[0.12108851195747...|\n",
      "|spam|URGENT! You have ...|  1.0|       1.0|[0.00903940669157...|\n",
      "| ham|I've been searchi...|  0.0|       0.0|[0.76410717478928...|\n",
      "| ham|I HAVE A DATE ON ...|  0.0|       0.0|[0.98454806335463...|\n",
      "|spam|XXXMobileMovieClu...|  1.0|       0.0|[0.54524519279634...|\n",
      "| ham|Oh k...i'm watchi...|  0.0|       0.0|[0.97268233446981...|\n",
      "| ham|Eh u remember how...|  0.0|       0.0|[0.96104459400379...|\n",
      "| ham|Fine if thats th...|  0.0|       0.0|[0.97693212146909...|\n",
      "|spam|England v Macedon...|  1.0|       1.0|[0.14086375878964...|\n",
      "+----+--------------------+-----+----------+--------------------+\n",
      "only showing top 20 rows\n",
      "\n"
     ]
    }
   ],
   "source": [
    "# output predictions to the console window\n",
    "df_predictions = model.transform(\n",
    "    spark \\\n",
    "    .readStream \\\n",
    "    .option(\"sep\", \"\\t\") \\\n",
    "    .schema(userSchema)  \\\n",
    "    .csv(test_csv_dir)\\\n",
    ")['spam', 'message','label', 'prediction', 'probability'].writeStream.format(\"console\").start()"
   ]
  },
  {
   "cell_type": "markdown",
   "metadata": {},
   "source": [
    "Stream processing on Sprak SQL engine is fast scalable, fault-tolerant."
   ]
  },
  {
   "cell_type": "markdown",
   "metadata": {},
   "source": [
    "We can now save text files with data to the training or testing folders. Anytime a text file is placed in sys.argv[1] the model will update. Anytime a text file is placed in sys.argv[2] you will see predictions. As you feed more data to the training directory, dataset_df gets appended with the new batch. The next scheduled model training with use data from appended dataset_df. "
   ]
  },
  {
   "cell_type": "markdown",
   "metadata": {},
   "source": [
    "# Saving the model File"
   ]
  },
  {
   "cell_type": "code",
   "execution_count": 19,
   "metadata": {},
   "outputs": [],
   "source": [
    "modeldirectory = \"module11_cs1/model\""
   ]
  },
  {
   "cell_type": "markdown",
   "metadata": {},
   "source": [
    "We can now save our fitted pipeline model to the distributed file store for later use in production. This saves both the feature extraction stage and the logistic regression model in the pipeline."
   ]
  },
  {
   "cell_type": "code",
   "execution_count": 20,
   "metadata": {},
   "outputs": [],
   "source": [
    "pip_model = model.bestModel\n",
    "pip_model.write().overwrite().save(modeldirectory)"
   ]
  },
  {
   "cell_type": "markdown",
   "metadata": {},
   "source": [
    "The result of saving the pipeline model is a JSON file for metadata and Parquet files for model data. We can reload the model with the load command; the original and reloaded models are the same:"
   ]
  },
  {
   "cell_type": "code",
   "execution_count": 21,
   "metadata": {},
   "outputs": [],
   "source": [
    "sameModel = PipelineModel.load(modeldirectory)"
   ]
  },
  {
   "cell_type": "code",
   "execution_count": null,
   "metadata": {},
   "outputs": [],
   "source": [
    "\n",
    "# Start the computation\n",
    "context.awaitTermination()  # Wait for the computation to terminate\n",
    "#print(flag)"
   ]
  },
  {
   "cell_type": "markdown",
   "metadata": {},
   "source": [
    "# Summary\n",
    "There are plenty of great tools to build classification models. Apache Spark provides an excellent framework for building solutions to business problems that can extract value from massive, distributed datasets.\n",
    "\n",
    "Machine learning algorithms cannot answer all questions perfectly. But they do provide evidence for humans to consider when interpreting results, assuming the right question is asked in the first place."
   ]
  },
  {
   "cell_type": "markdown",
   "metadata": {},
   "source": [
    "# Code\n",
    "All of the data and code to train the models and make your own conclusions, using Apache Spark, are located in GitHub;\n",
    "\n",
    "https://github.com/voklymchuk/spark/blob/master/module11_cs1_train_predict_batch_on_streams.ipynb\n",
    "\n",
    "\n",
    "Colab viewer of notebook: https://colab.research.google.com/github/voklymchuk/spark/blob/master/module11_cs1_train_predict_batch_on_streams.ipynb"
   ]
  },
  {
   "cell_type": "code",
   "execution_count": null,
   "metadata": {},
   "outputs": [],
   "source": []
  }
 ],
 "metadata": {
  "kernelspec": {
   "display_name": "Python 3",
   "language": "python",
   "name": "python3"
  },
  "language_info": {
   "codemirror_mode": {
    "name": "ipython",
    "version": 3
   },
   "file_extension": ".py",
   "mimetype": "text/x-python",
   "name": "python",
   "nbconvert_exporter": "python",
   "pygments_lexer": "ipython3",
   "version": "3.7.4"
  }
 },
 "nbformat": 4,
 "nbformat_minor": 2
}
