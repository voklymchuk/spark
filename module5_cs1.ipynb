{
 "cells": [
  {
   "cell_type": "markdown",
   "metadata": {},
   "source": [
    "# Imports"
   ]
  },
  {
   "cell_type": "code",
   "execution_count": 1,
   "metadata": {},
   "outputs": [],
   "source": [
    "import sys\n",
    "import os\n",
    "\n",
    "from pyspark import SparkContext, SparkConf\n",
    "from pyspark.sql.session import SparkSession"
   ]
  },
  {
   "cell_type": "code",
   "execution_count": 2,
   "metadata": {},
   "outputs": [
    {
     "name": "stdout",
     "output_type": "stream",
     "text": [
      "/Applications/google-cloud-sdk/gcs-connector-hadoop2-1.9.17-javadoc.jar\n"
     ]
    }
   ],
   "source": [
    "import os\n",
    "print(os.environ['SPARK_CLASSPATH'])"
   ]
  },
  {
   "cell_type": "code",
   "execution_count": 3,
   "metadata": {},
   "outputs": [],
   "source": [
    "app_name=\"Case Study 1\"\n",
    "\n",
    "conf = SparkConf().setAppName(app_name)\n",
    "sc = SparkContext(conf = conf)\n",
    "spark = SparkSession(sc)"
   ]
  },
  {
   "cell_type": "code",
   "execution_count": 4,
   "metadata": {},
   "outputs": [
    {
     "data": {
      "text/plain": [
       "'local-1571526239445'"
      ]
     },
     "execution_count": 4,
     "metadata": {},
     "output_type": "execute_result"
    }
   ],
   "source": [
    "sc.applicationId"
   ]
  },
  {
   "cell_type": "code",
   "execution_count": 5,
   "metadata": {},
   "outputs": [],
   "source": [
    "sc.setLogLevel(\"ERROR\")\n",
    "log4jLogger = sc._jvm.org.apache.log4j\n",
    "LOGGER = log4jLogger.LogManager.getLogger(__name__)\n",
    "LOGGER.info(\"pyspark script logger initialized\")"
   ]
  },
  {
   "cell_type": "markdown",
   "metadata": {},
   "source": [
    "# Load csv into spark"
   ]
  },
  {
   "cell_type": "code",
   "execution_count": 10,
   "metadata": {},
   "outputs": [],
   "source": [
    "def get_hdfs_filepath(file_name, on_cloud=True):\n",
    "    # path to folder containing this code\n",
    "    prefix = '/data/spark/5_cs1_dataset/'\n",
    "    if on_cloud:\n",
    "        bucket  = os.environ['BUCKET']\n",
    "        file_path = bucket + prefix + file_name\n",
    "    else:\n",
    "        file_path = '/Users/val' + prefix + file_name\n",
    "\n",
    "    return file_path"
   ]
  },
  {
   "cell_type": "code",
   "execution_count": 11,
   "metadata": {},
   "outputs": [],
   "source": [
    "APP_STORE = get_hdfs_filepath('AppleStore.csv')\n",
    "DESCRIPTIONS = get_hdfs_filepath('appleStore_description.csv')"
   ]
  },
  {
   "cell_type": "code",
   "execution_count": 12,
   "metadata": {},
   "outputs": [
    {
     "name": "stdout",
     "output_type": "stream",
     "text": [
      "data/appleStore_description.csv: cannot open `data/appleStore_description.csv' (No such file or directory)\r\n"
     ]
    }
   ],
   "source": [
    "!file 'data/appleStore_description.csv'"
   ]
  },
  {
   "cell_type": "code",
   "execution_count": null,
   "metadata": {},
   "outputs": [],
   "source": []
  },
  {
   "cell_type": "code",
   "execution_count": 13,
   "metadata": {},
   "outputs": [
    {
     "data": {
      "text/plain": [
       "(7197, 7197)"
      ]
     },
     "execution_count": 13,
     "metadata": {},
     "output_type": "execute_result"
    }
   ],
   "source": [
    "df_store = spark.read.csv(APP_STORE, multiLine=True, header=\"true\",encoding='utf-8', escape= \"\\\"\",inferSchema =True)\n",
    "df_desc = spark.read.csv(DESCRIPTIONS, multiLine=True, header=\"true\",encoding='utf-8', escape= \"\\\"\",inferSchema =True)\n",
    "\n",
    "df_store.count(), df_desc.count()"
   ]
  },
  {
   "cell_type": "markdown",
   "metadata": {},
   "source": [
    "# Parse the data as csv"
   ]
  },
  {
   "cell_type": "code",
   "execution_count": 14,
   "metadata": {},
   "outputs": [],
   "source": [
    "df_store = df_store.drop('_c0')"
   ]
  },
  {
   "cell_type": "code",
   "execution_count": 15,
   "metadata": {},
   "outputs": [],
   "source": [
    "cols = ['id',\n",
    " 'track_name',\n",
    " 'size_bytes',\n",
    " 'currency',\n",
    " 'price',\n",
    " 'rating_count_tot',\n",
    " 'rating_count_ver',\n",
    " 'user_rating',\n",
    " 'user_rating_ver',\n",
    " 'ver',\n",
    " 'cont_rating',\n",
    " 'prime_genre',\n",
    " 'sup_devices_num',\n",
    " 'screenshots_num',\n",
    " 'lang_num',\n",
    " 'vpp_lic']\n",
    "\n",
    "#rename columns containing period character\n",
    "df_store = df_store.toDF(*cols)"
   ]
  },
  {
   "cell_type": "code",
   "execution_count": 16,
   "metadata": {},
   "outputs": [
    {
     "data": {
      "text/plain": [
       "['id',\n",
       " 'track_name',\n",
       " 'size_bytes',\n",
       " 'currency',\n",
       " 'price',\n",
       " 'rating_count_tot',\n",
       " 'rating_count_ver',\n",
       " 'user_rating',\n",
       " 'user_rating_ver',\n",
       " 'ver',\n",
       " 'cont_rating',\n",
       " 'prime_genre',\n",
       " 'sup_devices_num',\n",
       " 'screenshots_num',\n",
       " 'lang_num',\n",
       " 'vpp_lic']"
      ]
     },
     "execution_count": 16,
     "metadata": {},
     "output_type": "execute_result"
    }
   ],
   "source": [
    "df_store.schema.names"
   ]
  },
  {
   "cell_type": "markdown",
   "metadata": {},
   "source": [
    "# Convert bytes to MB and GB in a new column"
   ]
  },
  {
   "cell_type": "code",
   "execution_count": 17,
   "metadata": {},
   "outputs": [],
   "source": [
    "df_store = df_store.withColumn(\"MB\", df_store['size_bytes']/1024).withColumn(\"GB\", df_store['size_bytes']/1024/1024)"
   ]
  },
  {
   "cell_type": "code",
   "execution_count": 18,
   "metadata": {},
   "outputs": [
    {
     "data": {
      "text/plain": [
       "['id',\n",
       " 'track_name',\n",
       " 'size_bytes',\n",
       " 'currency',\n",
       " 'price',\n",
       " 'rating_count_tot',\n",
       " 'rating_count_ver',\n",
       " 'user_rating',\n",
       " 'user_rating_ver',\n",
       " 'ver',\n",
       " 'cont_rating',\n",
       " 'prime_genre',\n",
       " 'sup_devices_num',\n",
       " 'screenshots_num',\n",
       " 'lang_num',\n",
       " 'vpp_lic',\n",
       " 'MB',\n",
       " 'GB']"
      ]
     },
     "execution_count": 18,
     "metadata": {},
     "output_type": "execute_result"
    }
   ],
   "source": [
    "df_store.schema.names"
   ]
  },
  {
   "cell_type": "code",
   "execution_count": 19,
   "metadata": {},
   "outputs": [
    {
     "name": "stdout",
     "output_type": "stream",
     "text": [
      "\n",
      "3.\tConvert bytes to MB and GB in a new column\tDone!\n",
      "\n",
      "          id                                         track_name  size_bytes  \\\n",
      "0  281656475                                    PAC-MAN Premium   100788224   \n",
      "1  281796108                          Evernote - stay organized   158578688   \n",
      "2  281940292    WeatherBug - Local Weather, Radar, Maps, Alerts   100524032   \n",
      "3  282614216  eBay: Best App to Buy, Sell, Save! Online Shop...   128512000   \n",
      "4  282935706                                              Bible    92774400   \n",
      "\n",
      "  currency  price  rating_count_tot  rating_count_ver  user_rating  \\\n",
      "0      USD   3.99             21292                26          4.0   \n",
      "1      USD   0.00            161065                26          4.0   \n",
      "2      USD   0.00            188583              2822          3.5   \n",
      "3      USD   0.00            262241               649          4.0   \n",
      "4      USD   0.00            985920              5320          4.5   \n",
      "\n",
      "   user_rating_ver     ver cont_rating   prime_genre  sup_devices_num  \\\n",
      "0              4.5   6.3.5          4+         Games               38   \n",
      "1              3.5   8.2.2          4+  Productivity               37   \n",
      "2              4.5   5.0.0          4+       Weather               37   \n",
      "3              4.5  5.10.0         12+      Shopping               37   \n",
      "4              5.0   7.5.1          4+     Reference               37   \n",
      "\n",
      "   screenshots_num  lang_num  vpp_lic        MB          GB  \n",
      "0                5        10        1   98426.0   96.119141  \n",
      "1                5        23        1  154862.0  151.232422  \n",
      "2                5         3        1   98168.0   95.867188  \n",
      "3                5         9        1  125500.0  122.558594  \n",
      "4                5        45        1   90600.0   88.476562  \n"
     ]
    }
   ],
   "source": [
    "print(\"\\n3.\\tConvert bytes to MB and GB in a new column\\tDone!\\n\\n{}\".format(df_store.toPandas().head(5)))"
   ]
  },
  {
   "cell_type": "code",
   "execution_count": 20,
   "metadata": {},
   "outputs": [
    {
     "data": {
      "text/html": [
       "<div>\n",
       "<style scoped>\n",
       "    .dataframe tbody tr th:only-of-type {\n",
       "        vertical-align: middle;\n",
       "    }\n",
       "\n",
       "    .dataframe tbody tr th {\n",
       "        vertical-align: top;\n",
       "    }\n",
       "\n",
       "    .dataframe thead th {\n",
       "        text-align: right;\n",
       "    }\n",
       "</style>\n",
       "<table border=\"1\" class=\"dataframe\">\n",
       "  <thead>\n",
       "    <tr style=\"text-align: right;\">\n",
       "      <th></th>\n",
       "      <th>id</th>\n",
       "      <th>track_name</th>\n",
       "      <th>size_bytes</th>\n",
       "      <th>MB</th>\n",
       "      <th>GB</th>\n",
       "    </tr>\n",
       "  </thead>\n",
       "  <tbody>\n",
       "    <tr>\n",
       "      <td>0</td>\n",
       "      <td>281656475</td>\n",
       "      <td>PAC-MAN Premium</td>\n",
       "      <td>100788224</td>\n",
       "      <td>98426.0</td>\n",
       "      <td>96.119141</td>\n",
       "    </tr>\n",
       "    <tr>\n",
       "      <td>1</td>\n",
       "      <td>281796108</td>\n",
       "      <td>Evernote - stay organized</td>\n",
       "      <td>158578688</td>\n",
       "      <td>154862.0</td>\n",
       "      <td>151.232422</td>\n",
       "    </tr>\n",
       "    <tr>\n",
       "      <td>2</td>\n",
       "      <td>281940292</td>\n",
       "      <td>WeatherBug - Local Weather, Radar, Maps, Alerts</td>\n",
       "      <td>100524032</td>\n",
       "      <td>98168.0</td>\n",
       "      <td>95.867188</td>\n",
       "    </tr>\n",
       "    <tr>\n",
       "      <td>3</td>\n",
       "      <td>282614216</td>\n",
       "      <td>eBay: Best App to Buy, Sell, Save! Online Shop...</td>\n",
       "      <td>128512000</td>\n",
       "      <td>125500.0</td>\n",
       "      <td>122.558594</td>\n",
       "    </tr>\n",
       "    <tr>\n",
       "      <td>4</td>\n",
       "      <td>282935706</td>\n",
       "      <td>Bible</td>\n",
       "      <td>92774400</td>\n",
       "      <td>90600.0</td>\n",
       "      <td>88.476562</td>\n",
       "    </tr>\n",
       "  </tbody>\n",
       "</table>\n",
       "</div>"
      ],
      "text/plain": [
       "          id                                         track_name  size_bytes  \\\n",
       "0  281656475                                    PAC-MAN Premium   100788224   \n",
       "1  281796108                          Evernote - stay organized   158578688   \n",
       "2  281940292    WeatherBug - Local Weather, Radar, Maps, Alerts   100524032   \n",
       "3  282614216  eBay: Best App to Buy, Sell, Save! Online Shop...   128512000   \n",
       "4  282935706                                              Bible    92774400   \n",
       "\n",
       "         MB          GB  \n",
       "0   98426.0   96.119141  \n",
       "1  154862.0  151.232422  \n",
       "2   98168.0   95.867188  \n",
       "3  125500.0  122.558594  \n",
       "4   90600.0   88.476562  "
      ]
     },
     "execution_count": 20,
     "metadata": {},
     "output_type": "execute_result"
    }
   ],
   "source": [
    "df_store.toPandas().head(5).iloc[:,[0,1,2,-2,-1]]"
   ]
  },
  {
   "cell_type": "markdown",
   "metadata": {},
   "source": [
    "# List top 10 trending apps"
   ]
  },
  {
   "cell_type": "code",
   "execution_count": 21,
   "metadata": {},
   "outputs": [
    {
     "data": {
      "text/html": [
       "<div>\n",
       "<style scoped>\n",
       "    .dataframe tbody tr th:only-of-type {\n",
       "        vertical-align: middle;\n",
       "    }\n",
       "\n",
       "    .dataframe tbody tr th {\n",
       "        vertical-align: top;\n",
       "    }\n",
       "\n",
       "    .dataframe thead th {\n",
       "        text-align: right;\n",
       "    }\n",
       "</style>\n",
       "<table border=\"1\" class=\"dataframe\">\n",
       "  <thead>\n",
       "    <tr style=\"text-align: right;\">\n",
       "      <th></th>\n",
       "      <th>id</th>\n",
       "      <th>track_name</th>\n",
       "      <th>size_bytes</th>\n",
       "      <th>currency</th>\n",
       "      <th>price</th>\n",
       "      <th>rating_count_tot</th>\n",
       "      <th>rating_count_ver</th>\n",
       "      <th>user_rating</th>\n",
       "      <th>user_rating_ver</th>\n",
       "      <th>ver</th>\n",
       "      <th>cont_rating</th>\n",
       "      <th>prime_genre</th>\n",
       "      <th>sup_devices_num</th>\n",
       "      <th>screenshots_num</th>\n",
       "      <th>lang_num</th>\n",
       "      <th>vpp_lic</th>\n",
       "      <th>MB</th>\n",
       "      <th>GB</th>\n",
       "    </tr>\n",
       "  </thead>\n",
       "  <tbody>\n",
       "    <tr>\n",
       "      <td>0</td>\n",
       "      <td>284882215</td>\n",
       "      <td>Facebook</td>\n",
       "      <td>389879808</td>\n",
       "      <td>USD</td>\n",
       "      <td>0.0</td>\n",
       "      <td>2974676</td>\n",
       "      <td>212</td>\n",
       "      <td>3.5</td>\n",
       "      <td>3.5</td>\n",
       "      <td>95.0</td>\n",
       "      <td>4+</td>\n",
       "      <td>Social Networking</td>\n",
       "      <td>37</td>\n",
       "      <td>1</td>\n",
       "      <td>29</td>\n",
       "      <td>1</td>\n",
       "      <td>380742.0</td>\n",
       "      <td>371.818359</td>\n",
       "    </tr>\n",
       "    <tr>\n",
       "      <td>1</td>\n",
       "      <td>389801252</td>\n",
       "      <td>Instagram</td>\n",
       "      <td>113954816</td>\n",
       "      <td>USD</td>\n",
       "      <td>0.0</td>\n",
       "      <td>2161558</td>\n",
       "      <td>1289</td>\n",
       "      <td>4.5</td>\n",
       "      <td>4.0</td>\n",
       "      <td>10.23</td>\n",
       "      <td>12+</td>\n",
       "      <td>Photo &amp; Video</td>\n",
       "      <td>37</td>\n",
       "      <td>0</td>\n",
       "      <td>29</td>\n",
       "      <td>1</td>\n",
       "      <td>111284.0</td>\n",
       "      <td>108.675781</td>\n",
       "    </tr>\n",
       "    <tr>\n",
       "      <td>2</td>\n",
       "      <td>529479190</td>\n",
       "      <td>Clash of Clans</td>\n",
       "      <td>116476928</td>\n",
       "      <td>USD</td>\n",
       "      <td>0.0</td>\n",
       "      <td>2130805</td>\n",
       "      <td>579</td>\n",
       "      <td>4.5</td>\n",
       "      <td>4.5</td>\n",
       "      <td>9.24.12</td>\n",
       "      <td>9+</td>\n",
       "      <td>Games</td>\n",
       "      <td>38</td>\n",
       "      <td>5</td>\n",
       "      <td>18</td>\n",
       "      <td>1</td>\n",
       "      <td>113747.0</td>\n",
       "      <td>111.081055</td>\n",
       "    </tr>\n",
       "    <tr>\n",
       "      <td>3</td>\n",
       "      <td>420009108</td>\n",
       "      <td>Temple Run</td>\n",
       "      <td>65921024</td>\n",
       "      <td>USD</td>\n",
       "      <td>0.0</td>\n",
       "      <td>1724546</td>\n",
       "      <td>3842</td>\n",
       "      <td>4.5</td>\n",
       "      <td>4.0</td>\n",
       "      <td>1.6.2</td>\n",
       "      <td>9+</td>\n",
       "      <td>Games</td>\n",
       "      <td>40</td>\n",
       "      <td>5</td>\n",
       "      <td>1</td>\n",
       "      <td>1</td>\n",
       "      <td>64376.0</td>\n",
       "      <td>62.867188</td>\n",
       "    </tr>\n",
       "    <tr>\n",
       "      <td>4</td>\n",
       "      <td>284035177</td>\n",
       "      <td>Pandora - Music &amp; Radio</td>\n",
       "      <td>130242560</td>\n",
       "      <td>USD</td>\n",
       "      <td>0.0</td>\n",
       "      <td>1126879</td>\n",
       "      <td>3594</td>\n",
       "      <td>4.0</td>\n",
       "      <td>4.5</td>\n",
       "      <td>8.4.1</td>\n",
       "      <td>12+</td>\n",
       "      <td>Music</td>\n",
       "      <td>37</td>\n",
       "      <td>4</td>\n",
       "      <td>1</td>\n",
       "      <td>1</td>\n",
       "      <td>127190.0</td>\n",
       "      <td>124.208984</td>\n",
       "    </tr>\n",
       "    <tr>\n",
       "      <td>5</td>\n",
       "      <td>429047995</td>\n",
       "      <td>Pinterest</td>\n",
       "      <td>74778624</td>\n",
       "      <td>USD</td>\n",
       "      <td>0.0</td>\n",
       "      <td>1061624</td>\n",
       "      <td>1814</td>\n",
       "      <td>4.5</td>\n",
       "      <td>4.0</td>\n",
       "      <td>6.26</td>\n",
       "      <td>12+</td>\n",
       "      <td>Social Networking</td>\n",
       "      <td>37</td>\n",
       "      <td>5</td>\n",
       "      <td>27</td>\n",
       "      <td>1</td>\n",
       "      <td>73026.0</td>\n",
       "      <td>71.314453</td>\n",
       "    </tr>\n",
       "    <tr>\n",
       "      <td>6</td>\n",
       "      <td>282935706</td>\n",
       "      <td>Bible</td>\n",
       "      <td>92774400</td>\n",
       "      <td>USD</td>\n",
       "      <td>0.0</td>\n",
       "      <td>985920</td>\n",
       "      <td>5320</td>\n",
       "      <td>4.5</td>\n",
       "      <td>5.0</td>\n",
       "      <td>7.5.1</td>\n",
       "      <td>4+</td>\n",
       "      <td>Reference</td>\n",
       "      <td>37</td>\n",
       "      <td>5</td>\n",
       "      <td>45</td>\n",
       "      <td>1</td>\n",
       "      <td>90600.0</td>\n",
       "      <td>88.476562</td>\n",
       "    </tr>\n",
       "    <tr>\n",
       "      <td>7</td>\n",
       "      <td>553834731</td>\n",
       "      <td>Candy Crush Saga</td>\n",
       "      <td>222846976</td>\n",
       "      <td>USD</td>\n",
       "      <td>0.0</td>\n",
       "      <td>961794</td>\n",
       "      <td>2453</td>\n",
       "      <td>4.5</td>\n",
       "      <td>4.5</td>\n",
       "      <td>1.101.0</td>\n",
       "      <td>4+</td>\n",
       "      <td>Games</td>\n",
       "      <td>43</td>\n",
       "      <td>5</td>\n",
       "      <td>24</td>\n",
       "      <td>1</td>\n",
       "      <td>217624.0</td>\n",
       "      <td>212.523438</td>\n",
       "    </tr>\n",
       "    <tr>\n",
       "      <td>8</td>\n",
       "      <td>324684580</td>\n",
       "      <td>Spotify Music</td>\n",
       "      <td>132510720</td>\n",
       "      <td>USD</td>\n",
       "      <td>0.0</td>\n",
       "      <td>878563</td>\n",
       "      <td>8253</td>\n",
       "      <td>4.5</td>\n",
       "      <td>4.5</td>\n",
       "      <td>8.4.3</td>\n",
       "      <td>12+</td>\n",
       "      <td>Music</td>\n",
       "      <td>37</td>\n",
       "      <td>5</td>\n",
       "      <td>18</td>\n",
       "      <td>1</td>\n",
       "      <td>129405.0</td>\n",
       "      <td>126.372070</td>\n",
       "    </tr>\n",
       "    <tr>\n",
       "      <td>9</td>\n",
       "      <td>343200656</td>\n",
       "      <td>Angry Birds</td>\n",
       "      <td>175966208</td>\n",
       "      <td>USD</td>\n",
       "      <td>0.0</td>\n",
       "      <td>824451</td>\n",
       "      <td>107</td>\n",
       "      <td>4.5</td>\n",
       "      <td>3.0</td>\n",
       "      <td>7.4.0</td>\n",
       "      <td>4+</td>\n",
       "      <td>Games</td>\n",
       "      <td>38</td>\n",
       "      <td>0</td>\n",
       "      <td>10</td>\n",
       "      <td>1</td>\n",
       "      <td>171842.0</td>\n",
       "      <td>167.814453</td>\n",
       "    </tr>\n",
       "  </tbody>\n",
       "</table>\n",
       "</div>"
      ],
      "text/plain": [
       "          id               track_name  size_bytes currency  price  \\\n",
       "0  284882215                 Facebook   389879808      USD    0.0   \n",
       "1  389801252                Instagram   113954816      USD    0.0   \n",
       "2  529479190           Clash of Clans   116476928      USD    0.0   \n",
       "3  420009108               Temple Run    65921024      USD    0.0   \n",
       "4  284035177  Pandora - Music & Radio   130242560      USD    0.0   \n",
       "5  429047995                Pinterest    74778624      USD    0.0   \n",
       "6  282935706                    Bible    92774400      USD    0.0   \n",
       "7  553834731         Candy Crush Saga   222846976      USD    0.0   \n",
       "8  324684580            Spotify Music   132510720      USD    0.0   \n",
       "9  343200656              Angry Birds   175966208      USD    0.0   \n",
       "\n",
       "   rating_count_tot  rating_count_ver  user_rating  user_rating_ver      ver  \\\n",
       "0           2974676               212          3.5              3.5     95.0   \n",
       "1           2161558              1289          4.5              4.0    10.23   \n",
       "2           2130805               579          4.5              4.5  9.24.12   \n",
       "3           1724546              3842          4.5              4.0    1.6.2   \n",
       "4           1126879              3594          4.0              4.5    8.4.1   \n",
       "5           1061624              1814          4.5              4.0     6.26   \n",
       "6            985920              5320          4.5              5.0    7.5.1   \n",
       "7            961794              2453          4.5              4.5  1.101.0   \n",
       "8            878563              8253          4.5              4.5    8.4.3   \n",
       "9            824451               107          4.5              3.0    7.4.0   \n",
       "\n",
       "  cont_rating        prime_genre  sup_devices_num  screenshots_num  lang_num  \\\n",
       "0          4+  Social Networking               37                1        29   \n",
       "1         12+      Photo & Video               37                0        29   \n",
       "2          9+              Games               38                5        18   \n",
       "3          9+              Games               40                5         1   \n",
       "4         12+              Music               37                4         1   \n",
       "5         12+  Social Networking               37                5        27   \n",
       "6          4+          Reference               37                5        45   \n",
       "7          4+              Games               43                5        24   \n",
       "8         12+              Music               37                5        18   \n",
       "9          4+              Games               38                0        10   \n",
       "\n",
       "   vpp_lic        MB          GB  \n",
       "0        1  380742.0  371.818359  \n",
       "1        1  111284.0  108.675781  \n",
       "2        1  113747.0  111.081055  \n",
       "3        1   64376.0   62.867188  \n",
       "4        1  127190.0  124.208984  \n",
       "5        1   73026.0   71.314453  \n",
       "6        1   90600.0   88.476562  \n",
       "7        1  217624.0  212.523438  \n",
       "8        1  129405.0  126.372070  \n",
       "9        1  171842.0  167.814453  "
      ]
     },
     "execution_count": 21,
     "metadata": {},
     "output_type": "execute_result"
    }
   ],
   "source": [
    "df_store.sort(df_store.rating_count_tot.desc()).limit(10).toPandas()"
   ]
  },
  {
   "cell_type": "markdown",
   "metadata": {},
   "source": [
    "# The difference in the average number of screenshots displayed of highest and lowest rating apps"
   ]
  },
  {
   "cell_type": "code",
   "execution_count": 22,
   "metadata": {},
   "outputs": [
    {
     "data": {
      "text/plain": [
       "(0.0, 5.0)"
      ]
     },
     "execution_count": 22,
     "metadata": {},
     "output_type": "execute_result"
    }
   ],
   "source": [
    "import pyspark.sql.functions as F \n",
    "\n",
    "min_rating, max_rating = df_store.agg(F.min(df_store.user_rating),F.max(df_store.user_rating)).collect()[0]\n",
    "min_rating, max_rating\n"
   ]
  },
  {
   "cell_type": "code",
   "execution_count": 23,
   "metadata": {},
   "outputs": [],
   "source": [
    "df1 = df_store"
   ]
  },
  {
   "cell_type": "code",
   "execution_count": 24,
   "metadata": {
    "scrolled": true
   },
   "outputs": [
    {
     "name": "stdout",
     "output_type": "stream",
     "text": [
      "+--------------------+\n",
      "|avg(screenshots_num)|\n",
      "+--------------------+\n",
      "|  3.7134146341463414|\n",
      "+--------------------+\n",
      "\n"
     ]
    }
   ],
   "source": [
    "a = df1.filter(df1.user_rating == max_rating).agg(F.avg(df1.screenshots_num))\n",
    "a.show()"
   ]
  },
  {
   "cell_type": "code",
   "execution_count": 25,
   "metadata": {},
   "outputs": [
    {
     "name": "stdout",
     "output_type": "stream",
     "text": [
      "+--------------------+\n",
      "|avg(screenshots_num)|\n",
      "+--------------------+\n",
      "|   2.582346609257266|\n",
      "+--------------------+\n",
      "\n"
     ]
    }
   ],
   "source": [
    "b = df1.filter(df1.user_rating == min_rating).agg(F.avg(df1.screenshots_num))\n",
    "b.show()"
   ]
  },
  {
   "cell_type": "code",
   "execution_count": 26,
   "metadata": {},
   "outputs": [
    {
     "data": {
      "text/plain": [
       "1.1310680248890757"
      ]
     },
     "execution_count": 26,
     "metadata": {},
     "output_type": "execute_result"
    }
   ],
   "source": [
    "diff = a.first()[0] - b.first()[0]\n",
    "diff"
   ]
  },
  {
   "cell_type": "markdown",
   "metadata": {},
   "source": [
    "# What percentage of high rated apps support multiplelanguages"
   ]
  },
  {
   "cell_type": "code",
   "execution_count": 27,
   "metadata": {},
   "outputs": [
    {
     "data": {
      "text/plain": [
       "47.5609756097561"
      ]
     },
     "execution_count": 27,
     "metadata": {},
     "output_type": "execute_result"
    }
   ],
   "source": [
    "df1.filter(df1.lang_num > 1).filter(df1.user_rating == max_rating).count() * 100 / df1.filter(\n",
    "    df1.user_rating == max_rating).count()"
   ]
  },
  {
   "cell_type": "markdown",
   "metadata": {},
   "source": [
    "# How does app details contribute to user ratings?"
   ]
  },
  {
   "cell_type": "code",
   "execution_count": 28,
   "metadata": {},
   "outputs": [
    {
     "data": {
      "text/plain": [
       "[3.5, 4.0, 4.5]"
      ]
     },
     "execution_count": 28,
     "metadata": {},
     "output_type": "execute_result"
    }
   ],
   "source": [
    "# get percentiles of ratings\n",
    "percentiles = df1.stat.approxQuantile(\"user_rating\",[0.25,0.50,0.75],0.0)\n",
    "percentiles"
   ]
  },
  {
   "cell_type": "code",
   "execution_count": 29,
   "metadata": {},
   "outputs": [],
   "source": [
    "# get the datasets with different percentiles\n",
    "df_25 = df1.filter(df1.user_rating<percentiles[0])\n",
    "df_50 = df1.filter((df1.user_rating>=percentiles[0]) & (df1.user_rating<percentiles[1]))\n",
    "df_75 = df1.filter((df1.user_rating>=percentiles[1]) & (df1.user_rating<percentiles[2]))\n",
    "df_100 = df1.filter(df1.user_rating>=percentiles[2])"
   ]
  },
  {
   "cell_type": "code",
   "execution_count": 30,
   "metadata": {},
   "outputs": [
    {
     "name": "stdout",
     "output_type": "stream",
     "text": [
      "+-----------------+\n",
      "|    avg(lang_num)|\n",
      "+-----------------+\n",
      "|3.030338389731622|\n",
      "+-----------------+\n",
      "\n"
     ]
    }
   ],
   "source": [
    "# compare statistics\n",
    "q1 = df_25.agg(F.avg(df_25.lang_num))\n",
    "q1.show()"
   ]
  },
  {
   "cell_type": "code",
   "execution_count": 31,
   "metadata": {},
   "outputs": [
    {
     "name": "stdout",
     "output_type": "stream",
     "text": [
      "+-----------------+\n",
      "|    avg(lang_num)|\n",
      "+-----------------+\n",
      "|5.777777777777778|\n",
      "+-----------------+\n",
      "\n"
     ]
    }
   ],
   "source": [
    "q2 = df_50.agg(F.avg(df_50.lang_num))\n",
    "q2.show()"
   ]
  },
  {
   "cell_type": "code",
   "execution_count": 32,
   "metadata": {},
   "outputs": [
    {
     "name": "stdout",
     "output_type": "stream",
     "text": [
      "+-----------------+\n",
      "|    avg(lang_num)|\n",
      "+-----------------+\n",
      "|5.911439114391144|\n",
      "+-----------------+\n",
      "\n"
     ]
    }
   ],
   "source": [
    "q3 = df_75.agg(F.avg(df_75.lang_num))\n",
    "q3.show()"
   ]
  },
  {
   "cell_type": "code",
   "execution_count": 33,
   "metadata": {},
   "outputs": [
    {
     "name": "stdout",
     "output_type": "stream",
     "text": [
      "+----------------+\n",
      "|   avg(lang_num)|\n",
      "+----------------+\n",
      "|6.41933438985737|\n",
      "+----------------+\n",
      "\n"
     ]
    }
   ],
   "source": [
    "q4 = df_100.agg(F.avg(df_100.lang_num))\n",
    "q4.show()"
   ]
  },
  {
   "cell_type": "code",
   "execution_count": 34,
   "metadata": {},
   "outputs": [
    {
     "data": {
      "text/html": [
       "<div>\n",
       "<style scoped>\n",
       "    .dataframe tbody tr th:only-of-type {\n",
       "        vertical-align: middle;\n",
       "    }\n",
       "\n",
       "    .dataframe tbody tr th {\n",
       "        vertical-align: top;\n",
       "    }\n",
       "\n",
       "    .dataframe thead th {\n",
       "        text-align: right;\n",
       "    }\n",
       "</style>\n",
       "<table border=\"1\" class=\"dataframe\">\n",
       "  <thead>\n",
       "    <tr style=\"text-align: right;\">\n",
       "      <th></th>\n",
       "      <th>avg_lang_num</th>\n",
       "    </tr>\n",
       "    <tr>\n",
       "      <th>percentile</th>\n",
       "      <th></th>\n",
       "    </tr>\n",
       "  </thead>\n",
       "  <tbody>\n",
       "    <tr>\n",
       "      <td>25</td>\n",
       "      <td>3.030338</td>\n",
       "    </tr>\n",
       "    <tr>\n",
       "      <td>50</td>\n",
       "      <td>5.777778</td>\n",
       "    </tr>\n",
       "    <tr>\n",
       "      <td>75</td>\n",
       "      <td>5.911439</td>\n",
       "    </tr>\n",
       "    <tr>\n",
       "      <td>100</td>\n",
       "      <td>6.419334</td>\n",
       "    </tr>\n",
       "  </tbody>\n",
       "</table>\n",
       "</div>"
      ],
      "text/plain": [
       "            avg_lang_num\n",
       "percentile              \n",
       "25              3.030338\n",
       "50              5.777778\n",
       "75              5.911439\n",
       "100             6.419334"
      ]
     },
     "execution_count": 34,
     "metadata": {},
     "output_type": "execute_result"
    }
   ],
   "source": [
    "import pandas as pd\n",
    "data = [q1.first()[0], q2.first()[0], q3.first()[0], q4.first()[0]]\n",
    "pd.DataFrame(zip([25, 50, 75, 100],data), columns = ['percentile','avg_lang_num']).set_index('percentile')"
   ]
  },
  {
   "cell_type": "markdown",
   "metadata": {},
   "source": [
    "# Compare the statistics of different app groups/genres"
   ]
  },
  {
   "cell_type": "code",
   "execution_count": 35,
   "metadata": {},
   "outputs": [
    {
     "data": {
      "text/html": [
       "<div>\n",
       "<style scoped>\n",
       "    .dataframe tbody tr th:only-of-type {\n",
       "        vertical-align: middle;\n",
       "    }\n",
       "\n",
       "    .dataframe tbody tr th {\n",
       "        vertical-align: top;\n",
       "    }\n",
       "\n",
       "    .dataframe thead th {\n",
       "        text-align: right;\n",
       "    }\n",
       "</style>\n",
       "<table border=\"1\" class=\"dataframe\">\n",
       "  <thead>\n",
       "    <tr style=\"text-align: right;\">\n",
       "      <th></th>\n",
       "      <th>prime_genre</th>\n",
       "      <th>avg(lang_num)</th>\n",
       "      <th>avg(screenshots_num)</th>\n",
       "      <th>avg(rating_count_tot)</th>\n",
       "      <th>avg(MB)</th>\n",
       "    </tr>\n",
       "  </thead>\n",
       "  <tbody>\n",
       "    <tr>\n",
       "      <td>0</td>\n",
       "      <td>Education</td>\n",
       "      <td>7.205298</td>\n",
       "      <td>4.421634</td>\n",
       "      <td>2239.229581</td>\n",
       "      <td>176195.528652</td>\n",
       "    </tr>\n",
       "    <tr>\n",
       "      <td>1</td>\n",
       "      <td>Navigation</td>\n",
       "      <td>6.000000</td>\n",
       "      <td>2.565217</td>\n",
       "      <td>11853.956522</td>\n",
       "      <td>100932.114534</td>\n",
       "    </tr>\n",
       "    <tr>\n",
       "      <td>2</td>\n",
       "      <td>Entertainment</td>\n",
       "      <td>4.528972</td>\n",
       "      <td>3.050467</td>\n",
       "      <td>7533.678505</td>\n",
       "      <td>99100.313497</td>\n",
       "    </tr>\n",
       "    <tr>\n",
       "      <td>3</td>\n",
       "      <td>Sports</td>\n",
       "      <td>4.140351</td>\n",
       "      <td>3.000000</td>\n",
       "      <td>14026.929825</td>\n",
       "      <td>77024.973684</td>\n",
       "    </tr>\n",
       "    <tr>\n",
       "      <td>4</td>\n",
       "      <td>Food &amp; Drink</td>\n",
       "      <td>3.571429</td>\n",
       "      <td>2.063492</td>\n",
       "      <td>13938.619048</td>\n",
       "      <td>75776.365079</td>\n",
       "    </tr>\n",
       "    <tr>\n",
       "      <td>5</td>\n",
       "      <td>Photo &amp; Video</td>\n",
       "      <td>9.664756</td>\n",
       "      <td>2.957020</td>\n",
       "      <td>14352.280802</td>\n",
       "      <td>66915.922636</td>\n",
       "    </tr>\n",
       "    <tr>\n",
       "      <td>6</td>\n",
       "      <td>Travel</td>\n",
       "      <td>7.592593</td>\n",
       "      <td>2.592593</td>\n",
       "      <td>14129.444444</td>\n",
       "      <td>80768.469136</td>\n",
       "    </tr>\n",
       "    <tr>\n",
       "      <td>7</td>\n",
       "      <td>Finance</td>\n",
       "      <td>2.250000</td>\n",
       "      <td>1.721154</td>\n",
       "      <td>11047.653846</td>\n",
       "      <td>76402.206336</td>\n",
       "    </tr>\n",
       "    <tr>\n",
       "      <td>8</td>\n",
       "      <td>Social Networking</td>\n",
       "      <td>9.125749</td>\n",
       "      <td>1.742515</td>\n",
       "      <td>45498.898204</td>\n",
       "      <td>77512.148011</td>\n",
       "    </tr>\n",
       "    <tr>\n",
       "      <td>9</td>\n",
       "      <td>Book</td>\n",
       "      <td>2.375000</td>\n",
       "      <td>2.991071</td>\n",
       "      <td>5125.437500</td>\n",
       "      <td>174629.517857</td>\n",
       "    </tr>\n",
       "    <tr>\n",
       "      <td>10</td>\n",
       "      <td>Shopping</td>\n",
       "      <td>3.770492</td>\n",
       "      <td>2.172131</td>\n",
       "      <td>18615.327869</td>\n",
       "      <td>91159.016393</td>\n",
       "    </tr>\n",
       "    <tr>\n",
       "      <td>11</td>\n",
       "      <td>Reference</td>\n",
       "      <td>5.437500</td>\n",
       "      <td>3.906250</td>\n",
       "      <td>22410.843750</td>\n",
       "      <td>151526.057800</td>\n",
       "    </tr>\n",
       "    <tr>\n",
       "      <td>12</td>\n",
       "      <td>Health &amp; Fitness</td>\n",
       "      <td>6.661111</td>\n",
       "      <td>2.450000</td>\n",
       "      <td>9913.172222</td>\n",
       "      <td>87994.766667</td>\n",
       "    </tr>\n",
       "    <tr>\n",
       "      <td>13</td>\n",
       "      <td>Utilities</td>\n",
       "      <td>6.520161</td>\n",
       "      <td>2.725806</td>\n",
       "      <td>6863.822581</td>\n",
       "      <td>53017.637353</td>\n",
       "    </tr>\n",
       "    <tr>\n",
       "      <td>14</td>\n",
       "      <td>Productivity</td>\n",
       "      <td>11.050562</td>\n",
       "      <td>3.808989</td>\n",
       "      <td>8051.325843</td>\n",
       "      <td>76602.185393</td>\n",
       "    </tr>\n",
       "    <tr>\n",
       "      <td>15</td>\n",
       "      <td>Games</td>\n",
       "      <td>4.587778</td>\n",
       "      <td>4.298032</td>\n",
       "      <td>13691.996634</td>\n",
       "      <td>277010.059080</td>\n",
       "    </tr>\n",
       "    <tr>\n",
       "      <td>16</td>\n",
       "      <td>Music</td>\n",
       "      <td>7.137681</td>\n",
       "      <td>3.637681</td>\n",
       "      <td>28842.021739</td>\n",
       "      <td>107066.052324</td>\n",
       "    </tr>\n",
       "    <tr>\n",
       "      <td>17</td>\n",
       "      <td>Lifestyle</td>\n",
       "      <td>4.777778</td>\n",
       "      <td>1.847222</td>\n",
       "      <td>6161.763889</td>\n",
       "      <td>60846.159675</td>\n",
       "    </tr>\n",
       "    <tr>\n",
       "      <td>18</td>\n",
       "      <td>Business</td>\n",
       "      <td>10.684211</td>\n",
       "      <td>3.368421</td>\n",
       "      <td>4788.087719</td>\n",
       "      <td>62664.543860</td>\n",
       "    </tr>\n",
       "    <tr>\n",
       "      <td>19</td>\n",
       "      <td>Catalogs</td>\n",
       "      <td>2.400000</td>\n",
       "      <td>3.400000</td>\n",
       "      <td>1732.500000</td>\n",
       "      <td>49005.500000</td>\n",
       "    </tr>\n",
       "    <tr>\n",
       "      <td>20</td>\n",
       "      <td>Weather</td>\n",
       "      <td>7.319444</td>\n",
       "      <td>3.125000</td>\n",
       "      <td>22181.027778</td>\n",
       "      <td>60001.347222</td>\n",
       "    </tr>\n",
       "    <tr>\n",
       "      <td>21</td>\n",
       "      <td>Medical</td>\n",
       "      <td>3.695652</td>\n",
       "      <td>3.173913</td>\n",
       "      <td>592.782609</td>\n",
       "      <td>367567.391304</td>\n",
       "    </tr>\n",
       "    <tr>\n",
       "      <td>22</td>\n",
       "      <td>News</td>\n",
       "      <td>2.880000</td>\n",
       "      <td>2.760000</td>\n",
       "      <td>13015.066667</td>\n",
       "      <td>61006.692643</td>\n",
       "    </tr>\n",
       "  </tbody>\n",
       "</table>\n",
       "</div>"
      ],
      "text/plain": [
       "          prime_genre  avg(lang_num)  avg(screenshots_num)  \\\n",
       "0           Education       7.205298              4.421634   \n",
       "1          Navigation       6.000000              2.565217   \n",
       "2       Entertainment       4.528972              3.050467   \n",
       "3              Sports       4.140351              3.000000   \n",
       "4        Food & Drink       3.571429              2.063492   \n",
       "5       Photo & Video       9.664756              2.957020   \n",
       "6              Travel       7.592593              2.592593   \n",
       "7             Finance       2.250000              1.721154   \n",
       "8   Social Networking       9.125749              1.742515   \n",
       "9                Book       2.375000              2.991071   \n",
       "10           Shopping       3.770492              2.172131   \n",
       "11          Reference       5.437500              3.906250   \n",
       "12   Health & Fitness       6.661111              2.450000   \n",
       "13          Utilities       6.520161              2.725806   \n",
       "14       Productivity      11.050562              3.808989   \n",
       "15              Games       4.587778              4.298032   \n",
       "16              Music       7.137681              3.637681   \n",
       "17          Lifestyle       4.777778              1.847222   \n",
       "18           Business      10.684211              3.368421   \n",
       "19           Catalogs       2.400000              3.400000   \n",
       "20            Weather       7.319444              3.125000   \n",
       "21            Medical       3.695652              3.173913   \n",
       "22               News       2.880000              2.760000   \n",
       "\n",
       "    avg(rating_count_tot)        avg(MB)  \n",
       "0             2239.229581  176195.528652  \n",
       "1            11853.956522  100932.114534  \n",
       "2             7533.678505   99100.313497  \n",
       "3            14026.929825   77024.973684  \n",
       "4            13938.619048   75776.365079  \n",
       "5            14352.280802   66915.922636  \n",
       "6            14129.444444   80768.469136  \n",
       "7            11047.653846   76402.206336  \n",
       "8            45498.898204   77512.148011  \n",
       "9             5125.437500  174629.517857  \n",
       "10           18615.327869   91159.016393  \n",
       "11           22410.843750  151526.057800  \n",
       "12            9913.172222   87994.766667  \n",
       "13            6863.822581   53017.637353  \n",
       "14            8051.325843   76602.185393  \n",
       "15           13691.996634  277010.059080  \n",
       "16           28842.021739  107066.052324  \n",
       "17            6161.763889   60846.159675  \n",
       "18            4788.087719   62664.543860  \n",
       "19            1732.500000   49005.500000  \n",
       "20           22181.027778   60001.347222  \n",
       "21             592.782609  367567.391304  \n",
       "22           13015.066667   61006.692643  "
      ]
     },
     "execution_count": 35,
     "metadata": {},
     "output_type": "execute_result"
    }
   ],
   "source": [
    "df1.groupBy(\"prime_genre\").agg(F.avg(df1.lang_num),F.avg(df1.screenshots_num),F.avg(df1.rating_count_tot),F.avg(df1.MB)).toPandas()"
   ]
  },
  {
   "cell_type": "markdown",
   "metadata": {},
   "source": [
    "# Does length of app description contribute to the ratings?"
   ]
  },
  {
   "cell_type": "code",
   "execution_count": 36,
   "metadata": {},
   "outputs": [
    {
     "data": {
      "text/plain": [
       "['id', 'track_name', 'size_bytes', 'app_desc']"
      ]
     },
     "execution_count": 36,
     "metadata": {},
     "output_type": "execute_result"
    }
   ],
   "source": [
    "df2 = df_desc\n",
    "df2.schema.names"
   ]
  },
  {
   "cell_type": "code",
   "execution_count": 37,
   "metadata": {},
   "outputs": [],
   "source": [
    "# Create new column for length of description\n",
    "df2 = df2.withColumn(\"desc_len\", F.length(df2.app_desc))\n"
   ]
  },
  {
   "cell_type": "code",
   "execution_count": 38,
   "metadata": {},
   "outputs": [
    {
     "data": {
      "text/plain": [
       "['id',\n",
       " 'track_name',\n",
       " 'size_bytes',\n",
       " 'currency',\n",
       " 'price',\n",
       " 'rating_count_tot',\n",
       " 'rating_count_ver',\n",
       " 'user_rating',\n",
       " 'user_rating_ver',\n",
       " 'ver',\n",
       " 'cont_rating',\n",
       " 'prime_genre',\n",
       " 'sup_devices_num',\n",
       " 'screenshots_num',\n",
       " 'lang_num',\n",
       " 'vpp_lic',\n",
       " 'MB',\n",
       " 'GB',\n",
       " 'app_desc',\n",
       " 'desc_len']"
      ]
     },
     "execution_count": 38,
     "metadata": {},
     "output_type": "execute_result"
    }
   ],
   "source": [
    "inner_join = df1.join(df2.select([df2.id, df2.app_desc, df2.desc_len]), 'id','outer')\n",
    "inner_join.schema.names"
   ]
  },
  {
   "cell_type": "code",
   "execution_count": 39,
   "metadata": {},
   "outputs": [],
   "source": [
    "df3 = inner_join\n",
    "# Get percentiles of ratings\n",
    "percentiles = df3.stat.approxQuantile(\"rating_count_tot\",[0.25,0.50,0.75],0.0)"
   ]
  },
  {
   "cell_type": "code",
   "execution_count": 40,
   "metadata": {},
   "outputs": [],
   "source": [
    "# Get the datasets with different percentiles\n",
    "df_25 = df3.filter(df3.rating_count_tot < percentiles[0])\n",
    "df_50 = df3.filter((df3.rating_count_tot >= percentiles[0]) & (df3.rating_count_tot < percentiles[1]))\n",
    "df_75 = df3.filter((df3.rating_count_tot >= percentiles[1]) & (df3.rating_count_tot < percentiles[2]))\n",
    "df_100 = df3.filter(df3.rating_count_tot >= percentiles[2])"
   ]
  },
  {
   "cell_type": "code",
   "execution_count": 41,
   "metadata": {},
   "outputs": [
    {
     "name": "stdout",
     "output_type": "stream",
     "text": [
      "+-----------------+\n",
      "|    avg(desc_len)|\n",
      "+-----------------+\n",
      "|1057.452169076752|\n",
      "+-----------------+\n",
      "\n",
      "+------------------+\n",
      "|     avg(desc_len)|\n",
      "+------------------+\n",
      "|1523.2256809338521|\n",
      "+------------------+\n",
      "\n",
      "+------------------+\n",
      "|     avg(desc_len)|\n",
      "+------------------+\n",
      "|1727.3083333333334|\n",
      "+------------------+\n",
      "\n",
      "+------------------+\n",
      "|     avg(desc_len)|\n",
      "+------------------+\n",
      "|1906.3022222222223|\n",
      "+------------------+\n",
      "\n"
     ]
    }
   ],
   "source": [
    "# Compare the statistics\n",
    "q1 = df_25.agg(F.avg(df_25.desc_len))\n",
    "q1.show()\n",
    "q2 = df_50.agg(F.avg(df_50.desc_len))\n",
    "q2.show() \n",
    "q3 = df_75.agg(F.avg(df_75.desc_len))\n",
    "q3.show()\n",
    "q4 = df_100.agg(F.avg(df_100.desc_len))\n",
    "q4.show()"
   ]
  },
  {
   "cell_type": "code",
   "execution_count": 42,
   "metadata": {},
   "outputs": [
    {
     "data": {
      "text/plain": [
       "[28.0, 300.0, 2793.0]"
      ]
     },
     "execution_count": 42,
     "metadata": {},
     "output_type": "execute_result"
    }
   ],
   "source": [
    "percentiles"
   ]
  },
  {
   "cell_type": "code",
   "execution_count": 43,
   "metadata": {},
   "outputs": [
    {
     "data": {
      "text/html": [
       "<div>\n",
       "<style scoped>\n",
       "    .dataframe tbody tr th:only-of-type {\n",
       "        vertical-align: middle;\n",
       "    }\n",
       "\n",
       "    .dataframe tbody tr th {\n",
       "        vertical-align: top;\n",
       "    }\n",
       "\n",
       "    .dataframe thead th {\n",
       "        text-align: right;\n",
       "    }\n",
       "</style>\n",
       "<table border=\"1\" class=\"dataframe\">\n",
       "  <thead>\n",
       "    <tr style=\"text-align: right;\">\n",
       "      <th></th>\n",
       "      <th>avg_desc_len</th>\n",
       "    </tr>\n",
       "    <tr>\n",
       "      <th>rating_percentile</th>\n",
       "      <th></th>\n",
       "    </tr>\n",
       "  </thead>\n",
       "  <tbody>\n",
       "    <tr>\n",
       "      <td>25</td>\n",
       "      <td>1057.452169</td>\n",
       "    </tr>\n",
       "    <tr>\n",
       "      <td>50</td>\n",
       "      <td>1523.225681</td>\n",
       "    </tr>\n",
       "    <tr>\n",
       "      <td>75</td>\n",
       "      <td>1727.308333</td>\n",
       "    </tr>\n",
       "    <tr>\n",
       "      <td>100</td>\n",
       "      <td>1906.302222</td>\n",
       "    </tr>\n",
       "  </tbody>\n",
       "</table>\n",
       "</div>"
      ],
      "text/plain": [
       "                   avg_desc_len\n",
       "rating_percentile              \n",
       "25                  1057.452169\n",
       "50                  1523.225681\n",
       "75                  1727.308333\n",
       "100                 1906.302222"
      ]
     },
     "execution_count": 43,
     "metadata": {},
     "output_type": "execute_result"
    }
   ],
   "source": [
    "import pandas as pd\n",
    "data = [q1.first()[0], q2.first()[0], q3.first()[0], q4.first()[0]]\n",
    "pd.DataFrame(zip([25, 50, 75, 100],data), columns = ['rating_percentile','avg_desc_len']).set_index('rating_percentile')"
   ]
  },
  {
   "cell_type": "code",
   "execution_count": 44,
   "metadata": {},
   "outputs": [
    {
     "data": {
      "text/html": [
       "<div>\n",
       "<style scoped>\n",
       "    .dataframe tbody tr th:only-of-type {\n",
       "        vertical-align: middle;\n",
       "    }\n",
       "\n",
       "    .dataframe tbody tr th {\n",
       "        vertical-align: top;\n",
       "    }\n",
       "\n",
       "    .dataframe thead th {\n",
       "        text-align: right;\n",
       "    }\n",
       "</style>\n",
       "<table border=\"1\" class=\"dataframe\">\n",
       "  <thead>\n",
       "    <tr style=\"text-align: right;\">\n",
       "      <th></th>\n",
       "      <th>avg_rating_count_tot</th>\n",
       "    </tr>\n",
       "    <tr>\n",
       "      <th>desc_len_percentile</th>\n",
       "      <th></th>\n",
       "    </tr>\n",
       "  </thead>\n",
       "  <tbody>\n",
       "    <tr>\n",
       "      <td>25</td>\n",
       "      <td>7580.242762</td>\n",
       "    </tr>\n",
       "    <tr>\n",
       "      <td>50</td>\n",
       "      <td>9895.601888</td>\n",
       "    </tr>\n",
       "    <tr>\n",
       "      <td>75</td>\n",
       "      <td>16092.826570</td>\n",
       "    </tr>\n",
       "    <tr>\n",
       "      <td>100</td>\n",
       "      <td>17991.761799</td>\n",
       "    </tr>\n",
       "  </tbody>\n",
       "</table>\n",
       "</div>"
      ],
      "text/plain": [
       "                     avg_rating_count_tot\n",
       "desc_len_percentile                      \n",
       "25                            7580.242762\n",
       "50                            9895.601888\n",
       "75                           16092.826570\n",
       "100                          17991.761799"
      ]
     },
     "execution_count": 44,
     "metadata": {},
     "output_type": "execute_result"
    }
   ],
   "source": [
    "df3 = inner_join\n",
    "# Get percentiles of ratings\n",
    "percentiles = df3.stat.approxQuantile(\"desc_len\",[0.25,0.50,0.75],0.0)\n",
    "# Get the datasets with different percentiles\n",
    "df_25 = df3.filter(df3.desc_len < percentiles[0])\n",
    "df_50 = df3.filter((df3.desc_len >= percentiles[0]) & (df3.desc_len < percentiles[1]))\n",
    "df_75 = df3.filter((df3.desc_len >= percentiles[1]) & (df3.desc_len < percentiles[2]))\n",
    "df_100 = df3.filter(df3.desc_len >= percentiles[2])\n",
    "# Compare the statistics\n",
    "q1 = df_25.agg(F.avg(df_25.rating_count_tot))\n",
    "q2 = df_50.agg(F.avg(df_50.rating_count_tot))\n",
    "q3 = df_75.agg(F.avg(df_75.rating_count_tot))\n",
    "q4 = df_100.agg(F.avg(df_100.rating_count_tot))\n",
    "# prnt results\n",
    "data = [q1.first()[0], q2.first()[0], q3.first()[0], q4.first()[0]]\n",
    "pd.DataFrame(zip([25, 50, 75, 100],data), columns = ['desc_len_percentile','avg_rating_count_tot']).set_index('desc_len_percentile')"
   ]
  },
  {
   "cell_type": "code",
   "execution_count": 45,
   "metadata": {},
   "outputs": [
    {
     "data": {
      "text/plain": [
       "[737.0, 1366.0, 2190.0]"
      ]
     },
     "execution_count": 45,
     "metadata": {},
     "output_type": "execute_result"
    }
   ],
   "source": [
    "percentiles"
   ]
  },
  {
   "cell_type": "code",
   "execution_count": null,
   "metadata": {},
   "outputs": [],
   "source": []
  }
 ],
 "metadata": {
  "kernelspec": {
   "display_name": "Python 3",
   "language": "python",
   "name": "python3"
  },
  "language_info": {
   "codemirror_mode": {
    "name": "ipython",
    "version": 3
   },
   "file_extension": ".py",
   "mimetype": "text/x-python",
   "name": "python",
   "nbconvert_exporter": "python",
   "pygments_lexer": "ipython3",
   "version": "3.7.4"
  }
 },
 "nbformat": 4,
 "nbformat_minor": 2
}
