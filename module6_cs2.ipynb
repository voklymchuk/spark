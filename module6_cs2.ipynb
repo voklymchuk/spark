{
 "cells": [
  {
   "cell_type": "markdown",
   "metadata": {},
   "source": [
    "# Imports"
   ]
  },
  {
   "cell_type": "code",
   "execution_count": 1,
   "metadata": {},
   "outputs": [],
   "source": [
    "import progressbar"
   ]
  },
  {
   "cell_type": "code",
   "execution_count": 2,
   "metadata": {},
   "outputs": [],
   "source": [
    "import sys\n",
    "import os\n",
    "import requests\n",
    "import pandas as pd\n",
    "\n",
    "from pyspark import SparkContext, SparkConf\n",
    "from pyspark.sql.session import SparkSession"
   ]
  },
  {
   "cell_type": "code",
   "execution_count": 3,
   "metadata": {},
   "outputs": [],
   "source": [
    "app_name=\"Case Study 2\"\n",
    "\n",
    "conf = SparkConf().setAppName(app_name)\n",
    "sc = SparkContext(conf = conf)\n",
    "spark = SparkSession(sc)"
   ]
  },
  {
   "cell_type": "code",
   "execution_count": 4,
   "metadata": {},
   "outputs": [
    {
     "data": {
      "text/plain": [
       "'local-1572213019991'"
      ]
     },
     "execution_count": 4,
     "metadata": {},
     "output_type": "execute_result"
    }
   ],
   "source": [
    "sc.applicationId"
   ]
  },
  {
   "cell_type": "code",
   "execution_count": 5,
   "metadata": {},
   "outputs": [],
   "source": [
    "log4jLogger = sc._jvm.org.apache.log4j\n",
    "LOGGER = log4jLogger.LogManager.getLogger(__name__)\n",
    "LOGGER.info(\"pyspark script logger initialized\")"
   ]
  },
  {
   "cell_type": "markdown",
   "metadata": {},
   "source": [
    "# Load data into Spark DataFrame"
   ]
  },
  {
   "cell_type": "code",
   "execution_count": 11,
   "metadata": {},
   "outputs": [],
   "source": [
    "def get_hdfs_filepath(file_name, on_cloud=True):\n",
    "    # path to folder containing this code\n",
    "    prefix = '/data/spark/6_cs2_dataset/'\n",
    "    if on_cloud:\n",
    "        bucket  = os.environ['BUCKET']\n",
    "        file_path = bucket + prefix + file_name\n",
    "    else:\n",
    "        file_path = '/Users/val' + prefix + file_name\n",
    "\n",
    "    return file_path"
   ]
  },
  {
   "cell_type": "code",
   "execution_count": 12,
   "metadata": {},
   "outputs": [],
   "source": [
    "LOG = get_hdfs_filepath('access.log')\n",
    "CLEAN_LOG = get_hdfs_filepath('access.clean.log')"
   ]
  },
  {
   "cell_type": "code",
   "execution_count": 13,
   "metadata": {},
   "outputs": [
    {
     "name": "stdout",
     "output_type": "stream",
     "text": [
      "gs://drive3/data/spark/6_cs2_dataset/access.log\n"
     ]
    }
   ],
   "source": [
    "print(LOG)"
   ]
  },
  {
   "cell_type": "code",
   "execution_count": 14,
   "metadata": {},
   "outputs": [],
   "source": [
    "from pyspark.sql import Row\n",
    "\n",
    "row = Row(\"line\")\n",
    "\n",
    "log_txt_df=sc.textFile(LOG).filter(lambda line: line != '').map(row).toDF()"
   ]
  },
  {
   "cell_type": "code",
   "execution_count": 15,
   "metadata": {},
   "outputs": [
    {
     "data": {
      "text/plain": [
       "[Row(line='109.169.248.247 - - [12/Dec/2015:18:25:11 +0100] GET /administrator/ HTTP/1.1 200 4263 - Mozilla/5.0 (Windows NT 6.0; rv:34.0) Gecko/20100101 Firefox/34.0 -'),\n",
       " Row(line='109.169.248.247 - - [12/Dec/2015:18:25:11 +0100] POST /administrator/index.php HTTP/1.1 200 4494 http://almhuette-raith.at/administrator/ Mozilla/5.0 (Windows NT 6.0; rv:34.0) Gecko/20100101 Firefox/34.0 -'),\n",
       " Row(line='46.72.177.4 - - [12/Dec/2015:18:31:08 +0100] GET /administrator/ HTTP/1.1 200 4263 - Mozilla/5.0 (Windows NT 6.0; rv:34.0) Gecko/20100101 Firefox/34.0 -'),\n",
       " Row(line='46.72.177.4 - - [12/Dec/2015:18:31:08 +0100] POST /administrator/index.php HTTP/1.1 200 4494 http://almhuette-raith.at/administrator/ Mozilla/5.0 (Windows NT 6.0; rv:34.0) Gecko/20100101 Firefox/34.0 -'),\n",
       " Row(line='83.167.113.100 - - [12/Dec/2015:18:31:25 +0100] GET /administrator/ HTTP/1.1 200 4263 - Mozilla/5.0 (Windows NT 6.0; rv:34.0) Gecko/20100101 Firefox/34.0 -'),\n",
       " Row(line='83.167.113.100 - - [12/Dec/2015:18:31:25 +0100] POST /administrator/index.php HTTP/1.1 200 4494 http://almhuette-raith.at/administrator/ Mozilla/5.0 (Windows NT 6.0; rv:34.0) Gecko/20100101 Firefox/34.0 -'),\n",
       " Row(line='95.29.198.15 - - [12/Dec/2015:18:32:10 +0100] GET /administrator/ HTTP/1.1 200 4263 - Mozilla/5.0 (Windows NT 6.0; rv:34.0) Gecko/20100101 Firefox/34.0 -'),\n",
       " Row(line='95.29.198.15 - - [12/Dec/2015:18:32:11 +0100] POST /administrator/index.php HTTP/1.1 200 4494 http://almhuette-raith.at/administrator/ Mozilla/5.0 (Windows NT 6.0; rv:34.0) Gecko/20100101 Firefox/34.0 -'),\n",
       " Row(line='109.184.11.34 - - [12/Dec/2015:18:32:56 +0100] GET /administrator/ HTTP/1.1 200 4263 - Mozilla/5.0 (Windows NT 6.0; rv:34.0) Gecko/20100101 Firefox/34.0 -'),\n",
       " Row(line='109.184.11.34 - - [12/Dec/2015:18:32:56 +0100] POST /administrator/index.php HTTP/1.1 200 4494 http://almhuette-raith.at/administrator/ Mozilla/5.0 (Windows NT 6.0; rv:34.0) Gecko/20100101 Firefox/34.0 -')]"
      ]
     },
     "execution_count": 15,
     "metadata": {},
     "output_type": "execute_result"
    }
   ],
   "source": [
    "log_txt_df.take(10)"
   ]
  },
  {
   "cell_type": "markdown",
   "metadata": {},
   "source": [
    "## Convert strings to columns"
   ]
  },
  {
   "cell_type": "code",
   "execution_count": 16,
   "metadata": {},
   "outputs": [],
   "source": [
    "import datetime as dt\n",
    "import dateutil.parser\n",
    "import pytz\n",
    "\n",
    "def to_utc_timestamp(string):\n",
    "    zone_idx = string.find('-') if string.find('-') >= 0 else string.find('+')\n",
    "    timezone_str = string[zone_idx:]\n",
    "    date_time_str = string[:zone_idx-1]\n",
    "    date_time_obj = dt.datetime.strptime(date_time_str, '%d/%b/%Y:%H:%M:%S')\n",
    "    dt2 = dateutil.parser.parse(str(date_time_obj)+timezone_str)\n",
    "    return dt2.astimezone(pytz.timezone(\"UTC\"))\n",
    "\n",
    "converted = to_utc_timestamp('12/Dec/2015:18:25:11 +0200')\n"
   ]
  },
  {
   "cell_type": "code",
   "execution_count": 18,
   "metadata": {},
   "outputs": [
    {
     "data": {
      "text/html": [
       "<div>\n",
       "<style scoped>\n",
       "    .dataframe tbody tr th:only-of-type {\n",
       "        vertical-align: middle;\n",
       "    }\n",
       "\n",
       "    .dataframe tbody tr th {\n",
       "        vertical-align: top;\n",
       "    }\n",
       "\n",
       "    .dataframe thead th {\n",
       "        text-align: right;\n",
       "    }\n",
       "</style>\n",
       "<table border=\"1\" class=\"dataframe\">\n",
       "  <thead>\n",
       "    <tr style=\"text-align: right;\">\n",
       "      <th></th>\n",
       "      <th>url</th>\n",
       "      <th>ip</th>\n",
       "      <th>datetime</th>\n",
       "      <th>utc_timestamp</th>\n",
       "      <th>request</th>\n",
       "      <th>path</th>\n",
       "      <th>response</th>\n",
       "      <th>bytes</th>\n",
       "    </tr>\n",
       "  </thead>\n",
       "  <tbody>\n",
       "    <tr>\n",
       "      <td>0</td>\n",
       "      <td></td>\n",
       "      <td>109.169.248.247</td>\n",
       "      <td>12/Dec/2015:18:25:11 +0100</td>\n",
       "      <td>2015-12-12 12:25:11</td>\n",
       "      <td>GET</td>\n",
       "      <td>/administrator/</td>\n",
       "      <td>200</td>\n",
       "      <td>4263</td>\n",
       "    </tr>\n",
       "    <tr>\n",
       "      <td>1</td>\n",
       "      <td>http://almhuette-raith.at/administrator/</td>\n",
       "      <td>109.169.248.247</td>\n",
       "      <td>12/Dec/2015:18:25:11 +0100</td>\n",
       "      <td>2015-12-12 12:25:11</td>\n",
       "      <td>POST</td>\n",
       "      <td>/administrator/index.php</td>\n",
       "      <td>200</td>\n",
       "      <td>4494</td>\n",
       "    </tr>\n",
       "    <tr>\n",
       "      <td>2</td>\n",
       "      <td></td>\n",
       "      <td>46.72.177.4</td>\n",
       "      <td>12/Dec/2015:18:31:08 +0100</td>\n",
       "      <td>2015-12-12 12:31:08</td>\n",
       "      <td>GET</td>\n",
       "      <td>/administrator/</td>\n",
       "      <td>200</td>\n",
       "      <td>4263</td>\n",
       "    </tr>\n",
       "    <tr>\n",
       "      <td>3</td>\n",
       "      <td>http://almhuette-raith.at/administrator/</td>\n",
       "      <td>46.72.177.4</td>\n",
       "      <td>12/Dec/2015:18:31:08 +0100</td>\n",
       "      <td>2015-12-12 12:31:08</td>\n",
       "      <td>POST</td>\n",
       "      <td>/administrator/index.php</td>\n",
       "      <td>200</td>\n",
       "      <td>4494</td>\n",
       "    </tr>\n",
       "    <tr>\n",
       "      <td>4</td>\n",
       "      <td></td>\n",
       "      <td>83.167.113.100</td>\n",
       "      <td>12/Dec/2015:18:31:25 +0100</td>\n",
       "      <td>2015-12-12 12:31:25</td>\n",
       "      <td>GET</td>\n",
       "      <td>/administrator/</td>\n",
       "      <td>200</td>\n",
       "      <td>4263</td>\n",
       "    </tr>\n",
       "    <tr>\n",
       "      <td>5</td>\n",
       "      <td>http://almhuette-raith.at/administrator/</td>\n",
       "      <td>83.167.113.100</td>\n",
       "      <td>12/Dec/2015:18:31:25 +0100</td>\n",
       "      <td>2015-12-12 12:31:25</td>\n",
       "      <td>POST</td>\n",
       "      <td>/administrator/index.php</td>\n",
       "      <td>200</td>\n",
       "      <td>4494</td>\n",
       "    </tr>\n",
       "    <tr>\n",
       "      <td>6</td>\n",
       "      <td></td>\n",
       "      <td>95.29.198.15</td>\n",
       "      <td>12/Dec/2015:18:32:10 +0100</td>\n",
       "      <td>2015-12-12 12:32:10</td>\n",
       "      <td>GET</td>\n",
       "      <td>/administrator/</td>\n",
       "      <td>200</td>\n",
       "      <td>4263</td>\n",
       "    </tr>\n",
       "    <tr>\n",
       "      <td>7</td>\n",
       "      <td>http://almhuette-raith.at/administrator/</td>\n",
       "      <td>95.29.198.15</td>\n",
       "      <td>12/Dec/2015:18:32:11 +0100</td>\n",
       "      <td>2015-12-12 12:32:11</td>\n",
       "      <td>POST</td>\n",
       "      <td>/administrator/index.php</td>\n",
       "      <td>200</td>\n",
       "      <td>4494</td>\n",
       "    </tr>\n",
       "    <tr>\n",
       "      <td>8</td>\n",
       "      <td></td>\n",
       "      <td>109.184.11.34</td>\n",
       "      <td>12/Dec/2015:18:32:56 +0100</td>\n",
       "      <td>2015-12-12 12:32:56</td>\n",
       "      <td>GET</td>\n",
       "      <td>/administrator/</td>\n",
       "      <td>200</td>\n",
       "      <td>4263</td>\n",
       "    </tr>\n",
       "    <tr>\n",
       "      <td>9</td>\n",
       "      <td>http://almhuette-raith.at/administrator/</td>\n",
       "      <td>109.184.11.34</td>\n",
       "      <td>12/Dec/2015:18:32:56 +0100</td>\n",
       "      <td>2015-12-12 12:32:56</td>\n",
       "      <td>POST</td>\n",
       "      <td>/administrator/index.php</td>\n",
       "      <td>200</td>\n",
       "      <td>4494</td>\n",
       "    </tr>\n",
       "  </tbody>\n",
       "</table>\n",
       "</div>"
      ],
      "text/plain": [
       "                                        url                ip  \\\n",
       "0                                            109.169.248.247    \n",
       "1  http://almhuette-raith.at/administrator/  109.169.248.247    \n",
       "2                                                46.72.177.4    \n",
       "3  http://almhuette-raith.at/administrator/      46.72.177.4    \n",
       "4                                             83.167.113.100    \n",
       "5  http://almhuette-raith.at/administrator/   83.167.113.100    \n",
       "6                                               95.29.198.15    \n",
       "7  http://almhuette-raith.at/administrator/     95.29.198.15    \n",
       "8                                              109.184.11.34    \n",
       "9  http://almhuette-raith.at/administrator/    109.184.11.34    \n",
       "\n",
       "                     datetime       utc_timestamp request  \\\n",
       "0  12/Dec/2015:18:25:11 +0100 2015-12-12 12:25:11     GET   \n",
       "1  12/Dec/2015:18:25:11 +0100 2015-12-12 12:25:11    POST   \n",
       "2  12/Dec/2015:18:31:08 +0100 2015-12-12 12:31:08     GET   \n",
       "3  12/Dec/2015:18:31:08 +0100 2015-12-12 12:31:08    POST   \n",
       "4  12/Dec/2015:18:31:25 +0100 2015-12-12 12:31:25     GET   \n",
       "5  12/Dec/2015:18:31:25 +0100 2015-12-12 12:31:25    POST   \n",
       "6  12/Dec/2015:18:32:10 +0100 2015-12-12 12:32:10     GET   \n",
       "7  12/Dec/2015:18:32:11 +0100 2015-12-12 12:32:11    POST   \n",
       "8  12/Dec/2015:18:32:56 +0100 2015-12-12 12:32:56     GET   \n",
       "9  12/Dec/2015:18:32:56 +0100 2015-12-12 12:32:56    POST   \n",
       "\n",
       "                       path  response  bytes  \n",
       "0           /administrator/       200   4263  \n",
       "1  /administrator/index.php       200   4494  \n",
       "2           /administrator/       200   4263  \n",
       "3  /administrator/index.php       200   4494  \n",
       "4           /administrator/       200   4263  \n",
       "5  /administrator/index.php       200   4494  \n",
       "6           /administrator/       200   4263  \n",
       "7  /administrator/index.php       200   4494  \n",
       "8           /administrator/       200   4263  \n",
       "9  /administrator/index.php       200   4494  "
      ]
     },
     "execution_count": 18,
     "metadata": {},
     "output_type": "execute_result"
    }
   ],
   "source": [
    "from pyspark.sql.functions import regexp_extract, col\n",
    "from pyspark.sql.types import StringType, IntegerType, TimestampType\n",
    "from pyspark.sql.functions import udf, expr\n",
    "\n",
    "udf1 = udf(to_utc_timestamp, TimestampType())\n",
    "\n",
    "result = log_txt_df.select(\n",
    "    regexp_extract(col('line'), r'http:\\S+', 0).alias('url'),\n",
    "    regexp_extract(col('line'), r'\\d+\\.\\d+\\.\\d+\\.\\d+\\s', 0).alias(\"ip\"),\n",
    "    regexp_extract(col('line'), r'\\d{2}.\\w{3}.\\d{4}:\\d{2}:\\d{2}:\\d{2}\\s.\\d{4}', 0).alias(\"datetime\"),\n",
    "    regexp_extract(col('line'), r\"(\\sGET\\s|\\sPOST\\s|\\sPUT\\s|\\sHEAD\\s)\", 0).alias(\"request\"), \n",
    "    regexp_extract(col('line'), r\"\\s\\S+\\sHTTP/\\d\", 0).alias(\"path\"),   \n",
    "    regexp_extract(col('line'), r'HTTP/\\S+\\s\\d{3}', 0).alias(\"response\"),                                                                   \n",
    "    regexp_extract(col('line'), r'\\s\\d{3}\\s\\d+\\s', 0).alias(\"bytes\") \n",
    " ).select(\n",
    "    'url', 'ip','datetime', udf1('datetime').alias('utc_timestamp'),\n",
    "    expr(\"substring(request, 2, length(request)-2)\").alias(\"request\"),# same as str[1:-1]\n",
    "    expr(\"substring(path, 2, length(path)-8)\").alias(\"path\"),# same as str[1:-7]   \n",
    "    expr(\"substring(response, -3, 3)\").alias(\"response\").cast(IntegerType()),# same as str[-3:] \n",
    "    expr(\"substring(bytes, 6, length(bytes)-6)\").alias(\"bytes\").cast(IntegerType()),# same as str[5:-1]\n",
    ")\n",
    "df=result\n",
    "df.limit(10).toPandas()#.printSchema()"
   ]
  },
  {
   "cell_type": "markdown",
   "metadata": {},
   "source": [
    "# Find out how many 404 HTTP codes are in access logs"
   ]
  },
  {
   "cell_type": "code",
   "execution_count": 19,
   "metadata": {},
   "outputs": [
    {
     "data": {
      "text/plain": [
       "227101"
      ]
     },
     "execution_count": 19,
     "metadata": {},
     "output_type": "execute_result"
    }
   ],
   "source": [
    "df.filter(\"response = '404'\").count()"
   ]
  },
  {
   "cell_type": "code",
   "execution_count": null,
   "metadata": {},
   "outputs": [],
   "source": []
  },
  {
   "cell_type": "code",
   "execution_count": null,
   "metadata": {},
   "outputs": [],
   "source": []
  },
  {
   "cell_type": "markdown",
   "metadata": {},
   "source": [
    "# Find out which URLs are broken"
   ]
  },
  {
   "cell_type": "code",
   "execution_count": 22,
   "metadata": {},
   "outputs": [],
   "source": [
    "broken = df.where('response!=200').groupBy('url').count().orderBy('count', ascending =0)"
   ]
  },
  {
   "cell_type": "code",
   "execution_count": 23,
   "metadata": {},
   "outputs": [
    {
     "name": "stdout",
     "output_type": "stream",
     "text": [
      "+--------------------+------+\n",
      "|                 url| count|\n",
      "+--------------------+------+\n",
      "|http://www.almhue...|931576|\n",
      "|http://almhuette-...| 92772|\n",
      "|                    | 54855|\n",
      "|http://www.owasp....| 46737|\n",
      "|http://www.almhue...| 13610|\n",
      "|http://www.almhue...|  4528|\n",
      "|http://www.almhue...|  3536|\n",
      "|http://almhuette-...|  3247|\n",
      "|http://www.almhue...|  2702|\n",
      "|      http://site.ru|  2576|\n",
      "+--------------------+------+\n",
      "\n"
     ]
    }
   ],
   "source": [
    "broken.limit(10).show()"
   ]
  },
  {
   "cell_type": "markdown",
   "metadata": {},
   "source": [
    "# Verify there are no null columns in the original dataset"
   ]
  },
  {
   "cell_type": "code",
   "execution_count": 24,
   "metadata": {},
   "outputs": [
    {
     "data": {
      "text/html": [
       "<div>\n",
       "<style scoped>\n",
       "    .dataframe tbody tr th:only-of-type {\n",
       "        vertical-align: middle;\n",
       "    }\n",
       "\n",
       "    .dataframe tbody tr th {\n",
       "        vertical-align: top;\n",
       "    }\n",
       "\n",
       "    .dataframe thead th {\n",
       "        text-align: right;\n",
       "    }\n",
       "</style>\n",
       "<table border=\"1\" class=\"dataframe\">\n",
       "  <thead>\n",
       "    <tr style=\"text-align: right;\">\n",
       "      <th></th>\n",
       "      <th>url</th>\n",
       "      <th>ip</th>\n",
       "      <th>datetime</th>\n",
       "      <th>utc_timestamp</th>\n",
       "      <th>request</th>\n",
       "      <th>path</th>\n",
       "      <th>response</th>\n",
       "      <th>bytes</th>\n",
       "    </tr>\n",
       "  </thead>\n",
       "  <tbody>\n",
       "    <tr>\n",
       "      <td>0</td>\n",
       "      <td>0</td>\n",
       "      <td>0</td>\n",
       "      <td>0</td>\n",
       "      <td>0</td>\n",
       "      <td>0</td>\n",
       "      <td>0</td>\n",
       "      <td>0</td>\n",
       "      <td>6341</td>\n",
       "    </tr>\n",
       "  </tbody>\n",
       "</table>\n",
       "</div>"
      ],
      "text/plain": [
       "   url  ip  datetime  utc_timestamp  request  path  response  bytes\n",
       "0    0   0         0              0        0     0         0   6341"
      ]
     },
     "execution_count": 24,
     "metadata": {},
     "output_type": "execute_result"
    }
   ],
   "source": [
    "# ckeck if null and NaN values are present in our DF\n",
    "from pyspark.sql.functions import isnan, when, count, col\n",
    "\n",
    "df.select([count(when( col(c).isNull(), c)).alias(c) for c in df.columns]).toPandas()"
   ]
  },
  {
   "cell_type": "code",
   "execution_count": null,
   "metadata": {},
   "outputs": [],
   "source": []
  },
  {
   "cell_type": "markdown",
   "metadata": {},
   "source": [
    "# Replace null values with constants such as 0"
   ]
  },
  {
   "cell_type": "code",
   "execution_count": 21,
   "metadata": {},
   "outputs": [],
   "source": [
    "df = df.na.fill(0)"
   ]
  },
  {
   "cell_type": "code",
   "execution_count": 22,
   "metadata": {},
   "outputs": [
    {
     "data": {
      "text/html": [
       "<div>\n",
       "<style scoped>\n",
       "    .dataframe tbody tr th:only-of-type {\n",
       "        vertical-align: middle;\n",
       "    }\n",
       "\n",
       "    .dataframe tbody tr th {\n",
       "        vertical-align: top;\n",
       "    }\n",
       "\n",
       "    .dataframe thead th {\n",
       "        text-align: right;\n",
       "    }\n",
       "</style>\n",
       "<table border=\"1\" class=\"dataframe\">\n",
       "  <thead>\n",
       "    <tr style=\"text-align: right;\">\n",
       "      <th></th>\n",
       "      <th>url</th>\n",
       "      <th>ip</th>\n",
       "      <th>datetime</th>\n",
       "      <th>utc_timestamp</th>\n",
       "      <th>request</th>\n",
       "      <th>path</th>\n",
       "      <th>response</th>\n",
       "      <th>bytes</th>\n",
       "    </tr>\n",
       "  </thead>\n",
       "  <tbody>\n",
       "    <tr>\n",
       "      <td>0</td>\n",
       "      <td>0</td>\n",
       "      <td>0</td>\n",
       "      <td>0</td>\n",
       "      <td>0</td>\n",
       "      <td>0</td>\n",
       "      <td>0</td>\n",
       "      <td>0</td>\n",
       "      <td>0</td>\n",
       "    </tr>\n",
       "  </tbody>\n",
       "</table>\n",
       "</div>"
      ],
      "text/plain": [
       "   url  ip  datetime  utc_timestamp  request  path  response  bytes\n",
       "0    0   0         0              0        0     0         0      0"
      ]
     },
     "execution_count": 22,
     "metadata": {},
     "output_type": "execute_result"
    }
   ],
   "source": [
    "# ckeck if null and NaN values are present in our DF\n",
    "from pyspark.sql.functions import isnan, when, count, col\n",
    "\n",
    "df.select([count(when( col(c).isNull(), c)).alias(c) for c in df.columns]).toPandas()"
   ]
  },
  {
   "cell_type": "markdown",
   "metadata": {},
   "source": [
    "# Parse timestamp to readable date"
   ]
  },
  {
   "cell_type": "code",
   "execution_count": 23,
   "metadata": {},
   "outputs": [
    {
     "data": {
      "text/html": [
       "<div>\n",
       "<style scoped>\n",
       "    .dataframe tbody tr th:only-of-type {\n",
       "        vertical-align: middle;\n",
       "    }\n",
       "\n",
       "    .dataframe tbody tr th {\n",
       "        vertical-align: top;\n",
       "    }\n",
       "\n",
       "    .dataframe thead th {\n",
       "        text-align: right;\n",
       "    }\n",
       "</style>\n",
       "<table border=\"1\" class=\"dataframe\">\n",
       "  <thead>\n",
       "    <tr style=\"text-align: right;\">\n",
       "      <th></th>\n",
       "      <th>datetime</th>\n",
       "      <th>utc_timestamp</th>\n",
       "    </tr>\n",
       "  </thead>\n",
       "  <tbody>\n",
       "    <tr>\n",
       "      <td>0</td>\n",
       "      <td>12/Dec/2015:18:25:11 +0100</td>\n",
       "      <td>2015-12-12 12:25:11</td>\n",
       "    </tr>\n",
       "    <tr>\n",
       "      <td>1</td>\n",
       "      <td>12/Dec/2015:18:25:11 +0100</td>\n",
       "      <td>2015-12-12 12:25:11</td>\n",
       "    </tr>\n",
       "    <tr>\n",
       "      <td>2</td>\n",
       "      <td>12/Dec/2015:18:31:08 +0100</td>\n",
       "      <td>2015-12-12 12:31:08</td>\n",
       "    </tr>\n",
       "    <tr>\n",
       "      <td>3</td>\n",
       "      <td>12/Dec/2015:18:31:08 +0100</td>\n",
       "      <td>2015-12-12 12:31:08</td>\n",
       "    </tr>\n",
       "    <tr>\n",
       "      <td>4</td>\n",
       "      <td>12/Dec/2015:18:31:25 +0100</td>\n",
       "      <td>2015-12-12 12:31:25</td>\n",
       "    </tr>\n",
       "    <tr>\n",
       "      <td>5</td>\n",
       "      <td>12/Dec/2015:18:31:25 +0100</td>\n",
       "      <td>2015-12-12 12:31:25</td>\n",
       "    </tr>\n",
       "    <tr>\n",
       "      <td>6</td>\n",
       "      <td>12/Dec/2015:18:32:10 +0100</td>\n",
       "      <td>2015-12-12 12:32:10</td>\n",
       "    </tr>\n",
       "    <tr>\n",
       "      <td>7</td>\n",
       "      <td>12/Dec/2015:18:32:11 +0100</td>\n",
       "      <td>2015-12-12 12:32:11</td>\n",
       "    </tr>\n",
       "    <tr>\n",
       "      <td>8</td>\n",
       "      <td>12/Dec/2015:18:32:56 +0100</td>\n",
       "      <td>2015-12-12 12:32:56</td>\n",
       "    </tr>\n",
       "    <tr>\n",
       "      <td>9</td>\n",
       "      <td>12/Dec/2015:18:32:56 +0100</td>\n",
       "      <td>2015-12-12 12:32:56</td>\n",
       "    </tr>\n",
       "  </tbody>\n",
       "</table>\n",
       "</div>"
      ],
      "text/plain": [
       "                     datetime       utc_timestamp\n",
       "0  12/Dec/2015:18:25:11 +0100 2015-12-12 12:25:11\n",
       "1  12/Dec/2015:18:25:11 +0100 2015-12-12 12:25:11\n",
       "2  12/Dec/2015:18:31:08 +0100 2015-12-12 12:31:08\n",
       "3  12/Dec/2015:18:31:08 +0100 2015-12-12 12:31:08\n",
       "4  12/Dec/2015:18:31:25 +0100 2015-12-12 12:31:25\n",
       "5  12/Dec/2015:18:31:25 +0100 2015-12-12 12:31:25\n",
       "6  12/Dec/2015:18:32:10 +0100 2015-12-12 12:32:10\n",
       "7  12/Dec/2015:18:32:11 +0100 2015-12-12 12:32:11\n",
       "8  12/Dec/2015:18:32:56 +0100 2015-12-12 12:32:56\n",
       "9  12/Dec/2015:18:32:56 +0100 2015-12-12 12:32:56"
      ]
     },
     "execution_count": 23,
     "metadata": {},
     "output_type": "execute_result"
    }
   ],
   "source": [
    "df.select('datetime','utc_timestamp').limit(10).toPandas()"
   ]
  },
  {
   "cell_type": "markdown",
   "metadata": {},
   "source": [
    "# Describe which HTTP status values appear in data and how many"
   ]
  },
  {
   "cell_type": "code",
   "execution_count": 24,
   "metadata": {},
   "outputs": [],
   "source": [
    "stat = df.groupBy('response').count().orderBy('count', ascending = False)"
   ]
  },
  {
   "cell_type": "code",
   "execution_count": 25,
   "metadata": {},
   "outputs": [
    {
     "name": "stdout",
     "output_type": "stream",
     "text": [
      "+--------+-------+\n",
      "|response|  count|\n",
      "+--------+-------+\n",
      "|     200|1157832|\n",
      "|     206| 939929|\n",
      "|     404| 227101|\n",
      "|     304|   6330|\n",
      "|     500|   3252|\n",
      "|     403|   2222|\n",
      "|     301|    619|\n",
      "|     303|    247|\n",
      "|     401|    153|\n",
      "|     501|    143|\n",
      "|     405|     83|\n",
      "|     406|     53|\n",
      "|     400|     23|\n",
      "|     412|     19|\n",
      "+--------+-------+\n",
      "\n"
     ]
    }
   ],
   "source": [
    "\n",
    "stat.show()\n",
    "#codes = stat.select('response')"
   ]
  },
  {
   "cell_type": "markdown",
   "metadata": {},
   "source": [
    "# Display as chart the above stat in chart in Zeppelin notebook"
   ]
  },
  {
   "cell_type": "code",
   "execution_count": null,
   "metadata": {},
   "outputs": [],
   "source": []
  },
  {
   "cell_type": "code",
   "execution_count": 26,
   "metadata": {},
   "outputs": [],
   "source": [
    "pddf = stat.toPandas()\n",
    "responses = pddf.iloc[:,0].values.astype(str)\n",
    "counts = pddf.iloc[:,1].values"
   ]
  },
  {
   "cell_type": "code",
   "execution_count": 30,
   "metadata": {},
   "outputs": [
    {
     "data": {
      "image/png": "[encoded data removed]",
      "text/plain": [
       "<Figure size 640x480 with 1 Axes>"
      ]
     },
     "metadata": {},
     "output_type": "display_data"
    }
   ],
   "source": [
    "import matplotlib.pyplot as plt\n",
    "plt.rcdefaults()\n",
    "\n",
    "import numpy as np\n",
    "\n",
    "y_pos = np.arange(len(responses))\n",
    "\n",
    "\n",
    "plt.bar(y_pos, counts, align='center', alpha=0.5, log = True)\n",
    "plt.xticks(y_pos, responses)\n",
    "plt.ylabel('Counts')\n",
    "plt.xlabel('Codes')\n",
    "\n",
    "plt.title('Log counts per status code')\n",
    "\n",
    "plt.show()"
   ]
  },
  {
   "cell_type": "markdown",
   "metadata": {},
   "source": [
    "# How many unique hosts are there in the entire log and their average request"
   ]
  },
  {
   "cell_type": "code",
   "execution_count": 29,
   "metadata": {},
   "outputs": [
    {
     "data": {
      "text/html": [
       "<div>\n",
       "<style scoped>\n",
       "    .dataframe tbody tr th:only-of-type {\n",
       "        vertical-align: middle;\n",
       "    }\n",
       "\n",
       "    .dataframe tbody tr th {\n",
       "        vertical-align: top;\n",
       "    }\n",
       "\n",
       "    .dataframe thead th {\n",
       "        text-align: right;\n",
       "    }\n",
       "</style>\n",
       "<table border=\"1\" class=\"dataframe\">\n",
       "  <thead>\n",
       "    <tr style=\"text-align: right;\">\n",
       "      <th></th>\n",
       "      <th>host</th>\n",
       "      <th>count</th>\n",
       "    </tr>\n",
       "  </thead>\n",
       "  <tbody>\n",
       "    <tr>\n",
       "      <td>0</td>\n",
       "      <td>www.almhuette-raith.at</td>\n",
       "      <td>1207302</td>\n",
       "    </tr>\n",
       "    <tr>\n",
       "      <td>1</td>\n",
       "      <td></td>\n",
       "      <td>588728</td>\n",
       "    </tr>\n",
       "    <tr>\n",
       "      <td>2</td>\n",
       "      <td>almhuette-raith.at</td>\n",
       "      <td>408025</td>\n",
       "    </tr>\n",
       "    <tr>\n",
       "      <td>3</td>\n",
       "      <td>www.owasp.org</td>\n",
       "      <td>46812</td>\n",
       "    </tr>\n",
       "    <tr>\n",
       "      <td>4</td>\n",
       "      <td>www.bing.com</td>\n",
       "      <td>9208</td>\n",
       "    </tr>\n",
       "    <tr>\n",
       "      <td>5</td>\n",
       "      <td>www.google.com</td>\n",
       "      <td>6394</td>\n",
       "    </tr>\n",
       "    <tr>\n",
       "      <td>6</td>\n",
       "      <td>www.baidu.com</td>\n",
       "      <td>4050</td>\n",
       "    </tr>\n",
       "    <tr>\n",
       "      <td>7</td>\n",
       "      <td>yandex.com</td>\n",
       "      <td>2801</td>\n",
       "    </tr>\n",
       "    <tr>\n",
       "      <td>8</td>\n",
       "      <td>site.ru</td>\n",
       "      <td>2588</td>\n",
       "    </tr>\n",
       "    <tr>\n",
       "      <td>9</td>\n",
       "      <td>cirt.net</td>\n",
       "      <td>2462</td>\n",
       "    </tr>\n",
       "  </tbody>\n",
       "</table>\n",
       "</div>"
      ],
      "text/plain": [
       "                     host    count\n",
       "0  www.almhuette-raith.at  1207302\n",
       "1                           588728\n",
       "2      almhuette-raith.at   408025\n",
       "3           www.owasp.org    46812\n",
       "4            www.bing.com     9208\n",
       "5          www.google.com     6394\n",
       "6           www.baidu.com     4050\n",
       "7              yandex.com     2801\n",
       "8                 site.ru     2588\n",
       "9                cirt.net     2462"
      ]
     },
     "execution_count": 29,
     "metadata": {},
     "output_type": "execute_result"
    }
   ],
   "source": [
    "from urllib.parse import urlparse\n",
    "\n",
    "def get_host(url):\n",
    "    return urlparse(url).netloc\n",
    "\n",
    "get_host_udf = udf(get_host, StringType())\n",
    "\n",
    "hosts = df.select( get_host_udf(df.url).alias('host')).groupBy('host').count().orderBy('count', ascending = 0)\n",
    "hosts.limit(10).toPandas()\n"
   ]
  },
  {
   "cell_type": "code",
   "execution_count": null,
   "metadata": {},
   "outputs": [],
   "source": []
  },
  {
   "cell_type": "code",
   "execution_count": null,
   "metadata": {},
   "outputs": [],
   "source": []
  }
 ],
 "metadata": {
  "kernelspec": {
   "display_name": "Python 3",
   "language": "python",
   "name": "python3"
  },
  "language_info": {
   "codemirror_mode": {
    "name": "ipython",
    "version": 3
   },
   "file_extension": ".py",
   "mimetype": "text/x-python",
   "name": "python",
   "nbconvert_exporter": "python",
   "pygments_lexer": "ipython3",
   "version": "3.7.4"
  }
 },
 "nbformat": 4,
 "nbformat_minor": 2
}
